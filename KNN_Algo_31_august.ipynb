{
  "nbformat": 4,
  "nbformat_minor": 0,
  "metadata": {
    "colab": {
      "name": "KNN Algo 31 august.ipynb",
      "provenance": [],
      "authorship_tag": "ABX9TyNY0bpk0msT1vTF6hsFUZM6",
      "include_colab_link": true
    },
    "kernelspec": {
      "name": "python3",
      "display_name": "Python 3"
    }
  },
  "cells": [
    {
      "cell_type": "markdown",
      "metadata": {
        "id": "view-in-github",
        "colab_type": "text"
      },
      "source": [
        "<a href=\"https://colab.research.google.com/github/mugdha711/MLAP-Class/blob/master/KNN_Algo_31_august.ipynb\" target=\"_parent\"><img src=\"https://colab.research.google.com/assets/colab-badge.svg\" alt=\"Open In Colab\"/></a>"
      ]
    },
    {
      "cell_type": "markdown",
      "metadata": {
        "id": "PW1vSPFRX2Zc",
        "colab_type": "text"
      },
      "source": [
        "## KNN - upsampling"
      ]
    },
    {
      "cell_type": "markdown",
      "metadata": {
        "id": "5ib6weIfs_EY",
        "colab_type": "text"
      },
      "source": [
        "###Data File Read"
      ]
    },
    {
      "cell_type": "code",
      "metadata": {
        "id": "Ycll0FPZsXnF",
        "colab_type": "code",
        "colab": {}
      },
      "source": [
        "import pandas as pd\n",
        "import numpy as np\n",
        "import matplotlib.pyplot as plt\n",
        "import seaborn as sn\n",
        "%matplotlib inline\n"
      ],
      "execution_count": null,
      "outputs": []
    },
    {
      "cell_type": "code",
      "metadata": {
        "id": "D7r7_BTNsqdi",
        "colab_type": "code",
        "colab": {
          "base_uri": "https://localhost:8080/",
          "height": 224
        },
        "outputId": "05d6316e-7ed7-44fc-e4bc-dc1f504f8f2e"
      },
      "source": [
        "bank_df = pd.read_csv( r'/content/bank.csv')\n",
        "bank_df.head(5)\n"
      ],
      "execution_count": null,
      "outputs": [
        {
          "output_type": "execute_result",
          "data": {
            "text/html": [
              "<div>\n",
              "<style scoped>\n",
              "    .dataframe tbody tr th:only-of-type {\n",
              "        vertical-align: middle;\n",
              "    }\n",
              "\n",
              "    .dataframe tbody tr th {\n",
              "        vertical-align: top;\n",
              "    }\n",
              "\n",
              "    .dataframe thead th {\n",
              "        text-align: right;\n",
              "    }\n",
              "</style>\n",
              "<table border=\"1\" class=\"dataframe\">\n",
              "  <thead>\n",
              "    <tr style=\"text-align: right;\">\n",
              "      <th></th>\n",
              "      <th>age</th>\n",
              "      <th>job</th>\n",
              "      <th>marital</th>\n",
              "      <th>education</th>\n",
              "      <th>default</th>\n",
              "      <th>balance</th>\n",
              "      <th>housing-loan</th>\n",
              "      <th>personal-loan</th>\n",
              "      <th>current-campaign</th>\n",
              "      <th>previous-campaign</th>\n",
              "      <th>subscribed</th>\n",
              "    </tr>\n",
              "  </thead>\n",
              "  <tbody>\n",
              "    <tr>\n",
              "      <th>0</th>\n",
              "      <td>30</td>\n",
              "      <td>unemployed</td>\n",
              "      <td>married</td>\n",
              "      <td>primary</td>\n",
              "      <td>no</td>\n",
              "      <td>1787</td>\n",
              "      <td>no</td>\n",
              "      <td>no</td>\n",
              "      <td>1</td>\n",
              "      <td>0</td>\n",
              "      <td>no</td>\n",
              "    </tr>\n",
              "    <tr>\n",
              "      <th>1</th>\n",
              "      <td>33</td>\n",
              "      <td>services</td>\n",
              "      <td>married</td>\n",
              "      <td>secondary</td>\n",
              "      <td>no</td>\n",
              "      <td>4789</td>\n",
              "      <td>yes</td>\n",
              "      <td>yes</td>\n",
              "      <td>1</td>\n",
              "      <td>4</td>\n",
              "      <td>no</td>\n",
              "    </tr>\n",
              "    <tr>\n",
              "      <th>2</th>\n",
              "      <td>35</td>\n",
              "      <td>management</td>\n",
              "      <td>single</td>\n",
              "      <td>tertiary</td>\n",
              "      <td>no</td>\n",
              "      <td>1350</td>\n",
              "      <td>yes</td>\n",
              "      <td>no</td>\n",
              "      <td>1</td>\n",
              "      <td>1</td>\n",
              "      <td>no</td>\n",
              "    </tr>\n",
              "    <tr>\n",
              "      <th>3</th>\n",
              "      <td>30</td>\n",
              "      <td>management</td>\n",
              "      <td>married</td>\n",
              "      <td>tertiary</td>\n",
              "      <td>no</td>\n",
              "      <td>1476</td>\n",
              "      <td>yes</td>\n",
              "      <td>yes</td>\n",
              "      <td>4</td>\n",
              "      <td>0</td>\n",
              "      <td>no</td>\n",
              "    </tr>\n",
              "    <tr>\n",
              "      <th>4</th>\n",
              "      <td>59</td>\n",
              "      <td>blue-collar</td>\n",
              "      <td>married</td>\n",
              "      <td>secondary</td>\n",
              "      <td>no</td>\n",
              "      <td>0</td>\n",
              "      <td>yes</td>\n",
              "      <td>no</td>\n",
              "      <td>1</td>\n",
              "      <td>0</td>\n",
              "      <td>no</td>\n",
              "    </tr>\n",
              "  </tbody>\n",
              "</table>\n",
              "</div>"
            ],
            "text/plain": [
              "   age          job  marital  ... current-campaign previous-campaign  subscribed\n",
              "0   30   unemployed  married  ...                1                 0          no\n",
              "1   33     services  married  ...                1                 4          no\n",
              "2   35   management   single  ...                1                 1          no\n",
              "3   30   management  married  ...                4                 0          no\n",
              "4   59  blue-collar  married  ...                1                 0          no\n",
              "\n",
              "[5 rows x 11 columns]"
            ]
          },
          "metadata": {
            "tags": []
          },
          "execution_count": 21
        }
      ]
    },
    {
      "cell_type": "code",
      "metadata": {
        "id": "4g-7a7TytPiv",
        "colab_type": "code",
        "colab": {
          "base_uri": "https://localhost:8080/",
          "height": 348
        },
        "outputId": "36cb3760-cbb8-4d89-a93d-e755b60465b2"
      },
      "source": [
        "bank_df.info()"
      ],
      "execution_count": null,
      "outputs": [
        {
          "output_type": "stream",
          "text": [
            "<class 'pandas.core.frame.DataFrame'>\n",
            "RangeIndex: 4521 entries, 0 to 4520\n",
            "Data columns (total 11 columns):\n",
            " #   Column             Non-Null Count  Dtype \n",
            "---  ------             --------------  ----- \n",
            " 0   age                4521 non-null   int64 \n",
            " 1   job                4521 non-null   object\n",
            " 2   marital            4521 non-null   object\n",
            " 3   education          4521 non-null   object\n",
            " 4   default            4521 non-null   object\n",
            " 5   balance            4521 non-null   int64 \n",
            " 6   housing-loan       4521 non-null   object\n",
            " 7   personal-loan      4521 non-null   object\n",
            " 8   current-campaign   4521 non-null   int64 \n",
            " 9   previous-campaign  4521 non-null   int64 \n",
            " 10  subscribed         4521 non-null   object\n",
            "dtypes: int64(4), object(7)\n",
            "memory usage: 388.6+ KB\n"
          ],
          "name": "stdout"
        }
      ]
    },
    {
      "cell_type": "code",
      "metadata": {
        "id": "69C_kxBLta7c",
        "colab_type": "code",
        "colab": {}
      },
      "source": [
        "#subsicribed yes- success class\n",
        "# subscribed no - non success class\n"
      ],
      "execution_count": null,
      "outputs": []
    },
    {
      "cell_type": "markdown",
      "metadata": {
        "id": "Xlq7YUowt0ek",
        "colab_type": "text"
      },
      "source": [
        "###Treat imbalanced data"
      ]
    },
    {
      "cell_type": "code",
      "metadata": {
        "id": "PAnuz3hqtyw8",
        "colab_type": "code",
        "colab": {
          "base_uri": "https://localhost:8080/",
          "height": 72
        },
        "outputId": "bdb0e810-5aed-4edb-87d4-448e46f8f5a8"
      },
      "source": [
        "bank_df.subscribed.value_counts()"
      ],
      "execution_count": null,
      "outputs": [
        {
          "output_type": "execute_result",
          "data": {
            "text/plain": [
              "no     4000\n",
              "yes     521\n",
              "Name: subscribed, dtype: int64"
            ]
          },
          "metadata": {
            "tags": []
          },
          "execution_count": 24
        }
      ]
    },
    {
      "cell_type": "code",
      "metadata": {
        "id": "CQP3go3wt80e",
        "colab_type": "code",
        "colab": {}
      },
      "source": [
        "#data imbalanced --- 521/4521= 11.1%, but we want to have around 30%\n",
        "#Now naive prob- here is it means that, for any new record\n",
        "#we can just classify as no(non success class) but we don't want that also, prob of having no = 88.5% approx\n",
        "#Thus we do resampling"
      ],
      "execution_count": null,
      "outputs": []
    },
    {
      "cell_type": "code",
      "metadata": {
        "id": "LhmMRBskunSV",
        "colab_type": "code",
        "colab": {}
      },
      "source": [
        "## Importing resample from *sklearn.utils* package.\n",
        "from sklearn.utils import resample\n",
        "# Separate the case of yes-subscribes and no-subscribes\n",
        "bank_subscribed_no = bank_df[bank_df.subscribed == 'no']\n",
        "bank_subscribed_yes = bank_df[bank_df.subscribed == 'yes']\n",
        "##Upsample the yes-subscribed cases. #2000 rows will be replication of 521 rows only\n",
        "df_minority_upsampled = resample(bank_subscribed_yes,replace=True, n_samples=2000)\n",
        "# Combine majority class with upsampled minority class\n",
        "new_bank_df = pd.concat([bank_subscribed_no, df_minority_upsampled])\n"
      ],
      "execution_count": null,
      "outputs": []
    },
    {
      "cell_type": "code",
      "metadata": {
        "id": "ZH8eE6zruqRC",
        "colab_type": "code",
        "colab": {}
      },
      "source": [
        "from sklearn.utils import shuffle\n",
        "new_bank_df = shuffle(new_bank_df)"
      ],
      "execution_count": null,
      "outputs": []
    },
    {
      "cell_type": "code",
      "metadata": {
        "id": "Of65RTeL-DJr",
        "colab_type": "code",
        "colab": {
          "base_uri": "https://localhost:8080/",
          "height": 72
        },
        "outputId": "2d7aa9fd-e312-43e6-d2c5-95debc119e44"
      },
      "source": [
        "new_bank_df.subscribed.value_counts()\n"
      ],
      "execution_count": null,
      "outputs": [
        {
          "output_type": "execute_result",
          "data": {
            "text/plain": [
              "no     4000\n",
              "yes    2000\n",
              "Name: subscribed, dtype: int64"
            ]
          },
          "metadata": {
            "tags": []
          },
          "execution_count": 29
        }
      ]
    },
    {
      "cell_type": "code",
      "metadata": {
        "id": "hBCNLaji-FsG",
        "colab_type": "code",
        "colab": {
          "base_uri": "https://localhost:8080/",
          "height": 201
        },
        "outputId": "43751594-aed0-47a7-8bf9-a139adf07ac3"
      },
      "source": [
        "X_features = list(new_bank_df.columns)\n",
        "#remove dependent var - subscribed\n",
        "X_features.remove('subscribed')\n",
        "X_features"
      ],
      "execution_count": null,
      "outputs": [
        {
          "output_type": "execute_result",
          "data": {
            "text/plain": [
              "['age',\n",
              " 'job',\n",
              " 'marital',\n",
              " 'education',\n",
              " 'default',\n",
              " 'balance',\n",
              " 'housing-loan',\n",
              " 'personal-loan',\n",
              " 'current-campaign',\n",
              " 'previous-campaign']"
            ]
          },
          "metadata": {
            "tags": []
          },
          "execution_count": 30
        }
      ]
    },
    {
      "cell_type": "markdown",
      "metadata": {
        "id": "i1xSidK-aNfK",
        "colab_type": "text"
      },
      "source": [
        "###Encoding"
      ]
    },
    {
      "cell_type": "code",
      "metadata": {
        "id": "rBLgjGx6YfWo",
        "colab_type": "code",
        "colab": {}
      },
      "source": [
        "encoded_bank_df= pd.get_dummies(new_bank_df[X_features], drop_first= True)\n",
        "X= encoded_bank_df"
      ],
      "execution_count": null,
      "outputs": []
    },
    {
      "cell_type": "code",
      "metadata": {
        "id": "nswG4uySZy57",
        "colab_type": "code",
        "colab": {}
      },
      "source": [
        "# Encoding the subscribed column and assigning to Y\n",
        "Y = new_bank_df.subscribed.map( lambda x: int( x == 'yes') )   ###why just take yes????\n"
      ],
      "execution_count": null,
      "outputs": []
    },
    {
      "cell_type": "code",
      "metadata": {
        "id": "Z2m5wh46gymt",
        "colab_type": "code",
        "colab": {}
      },
      "source": [
        "from sklearn.model_selection import train_test_split\n",
        "train_X, test_X, train_y, test_y = train_test_split( X,\n",
        "Y,\n",
        "test_size = 0.3,\n",
        "random_state = 42 )\n",
        "# Setting random_state a fixed value will guarantee \n",
        "# that the same sequence of random numbers is generated each time you run the code.\n"
      ],
      "execution_count": null,
      "outputs": []
    },
    {
      "cell_type": "code",
      "metadata": {
        "id": "HZpqZAPSgzol",
        "colab_type": "code",
        "colab": {}
      },
      "source": [
        "import sklearn as sl"
      ],
      "execution_count": null,
      "outputs": []
    },
    {
      "cell_type": "code",
      "metadata": {
        "id": "SfPI_Zfkg2kc",
        "colab_type": "code",
        "colab": {}
      },
      "source": [
        "## Importing the KNN classifier algorithm\n",
        "from sklearn.neighbors import KNeighborsClassifier\n"
      ],
      "execution_count": null,
      "outputs": []
    },
    {
      "cell_type": "code",
      "metadata": {
        "id": "baBHmbyHg4ln",
        "colab_type": "code",
        "colab": {}
      },
      "source": [
        "## Initializing the classifier\n",
        "knn_clf = KNeighborsClassifier()\n"
      ],
      "execution_count": null,
      "outputs": []
    },
    {
      "cell_type": "code",
      "metadata": {
        "id": "pbFgkOGxg8nq",
        "colab_type": "code",
        "colab": {
          "base_uri": "https://localhost:8080/",
          "height": 72
        },
        "outputId": "8a54c7dc-61ed-411f-b433-bd2270b00145"
      },
      "source": [
        "## Fitting the model with the training set\n",
        "knn_clf.fit( train_X, train_y )# https://scikit-learn.org/stable/modules/generated/sklearn.neighbors.KNeighborsClassifier.html\n",
        "# p=2 denotes it is Euclidean Distance\n"
      ],
      "execution_count": null,
      "outputs": [
        {
          "output_type": "execute_result",
          "data": {
            "text/plain": [
              "KNeighborsClassifier(algorithm='auto', leaf_size=30, metric='minkowski',\n",
              "                     metric_params=None, n_jobs=None, n_neighbors=5, p=2,\n",
              "                     weights='uniform')"
            ]
          },
          "metadata": {
            "tags": []
          },
          "execution_count": 37
        }
      ]
    },
    {
      "cell_type": "code",
      "metadata": {
        "id": "JNhLkblrh22G",
        "colab_type": "code",
        "colab": {}
      },
      "source": [
        ""
      ],
      "execution_count": null,
      "outputs": []
    },
    {
      "cell_type": "markdown",
      "metadata": {
        "id": "p_frXGSHh8gd",
        "colab_type": "text"
      },
      "source": [
        "###Accuracy"
      ]
    },
    {
      "cell_type": "code",
      "metadata": {
        "id": "pxQ4EDx0h-A6",
        "colab_type": "code",
        "colab": {}
      },
      "source": [
        "## Importing the metrics\n",
        "from sklearn import metrics"
      ],
      "execution_count": null,
      "outputs": []
    },
    {
      "cell_type": "code",
      "metadata": {
        "id": "kzOQO-K_h_yk",
        "colab_type": "code",
        "colab": {}
      },
      "source": [
        "## The method takes the three following parameters\n",
        "## model: the classification model\n",
        "## test_X: X features of the test set\n",
        "## test_y: actual labels of the test set\n",
        "## Returns\n",
        "## - ROC Auc Score\n",
        "## - FPR and TPRs for different threshold values\n",
        "def draw_roc_curve( model, test_X, test_y ):\n",
        "## Creating and initializing a results DataFrame with actual labels\n",
        "    test_results_df = pd.DataFrame( { 'actual': test_y } )\n",
        "    test_results_df = test_results_df.reset_index()\n",
        "# predict the probabilities on the test set\n",
        "    predict_proba_df = pd.DataFrame( model.predict_proba( test_X ) )\n",
        "## selecting the probabilities that the test example belongs to class 1\n",
        "    test_results_df['chd_1'] = predict_proba_df.iloc[:,1:2]\n",
        "## Invoke roc_curve() to return the fpr, tpr and threshold values.\n",
        "## threshold values contain values from 0.0 to 1.0\n",
        "    fpr, tpr, thresholds = metrics.roc_curve( test_results_df.actual,\n",
        "    test_results_df.chd_1,\n",
        "    drop_intermediate = False )\n",
        "## Getting the roc auc score by invoking metrics.roc_auc_score method\n",
        "    auc_score = metrics.roc_auc_score( test_results_df.actual, test_results_df.chd_1 )\n",
        "## Setting the size of the plot\n",
        "    plt.figure(figsize=(8, 6))\n",
        "## plotting the actual fpr and tpr values\n",
        "    plt.plot( fpr, tpr, label='ROC curve (area = %0.2f)' % auc_score )\n",
        "## plotting th diagonal line from (0,1)\n",
        "    plt.plot([0, 1], [0, 1], 'k--')\n",
        "    plt.xlim([0.0, 1.0])\n",
        "    plt.ylim([0.0, 1.05])\n",
        "## Setting labels and titles\n",
        "    plt.xlabel('False Positive Rate or [1 - True Negative Rate]')\n",
        "    plt.ylabel('True Positive Rate')\n",
        "    plt.title('Receiver operating characteristic example')\n",
        "    plt.legend(loc=\"lower right\")\n",
        "    plt.show()\n",
        "    return auc_score, fpr, tpr, thresholds"
      ],
      "execution_count": null,
      "outputs": []
    },
    {
      "cell_type": "code",
      "metadata": {
        "id": "w7umpaPAierX",
        "colab_type": "code",
        "colab": {
          "base_uri": "https://localhost:8080/",
          "height": 404
        },
        "outputId": "a1317b9d-1dc6-41b6-b06a-525cb6edbab9"
      },
      "source": [
        "## Invoking draw_roc_curve with the KNN model\n",
        "_, _, _, _ = draw_roc_curve( knn_clf, test_X, test_y )\n"
      ],
      "execution_count": null,
      "outputs": [
        {
          "output_type": "display_data",
          "data": {
            "image/png": "[encoded data removed]",
            "text/plain": [
              "<Figure size 576x432 with 1 Axes>"
            ]
          },
          "metadata": {
            "tags": [],
            "needs_background": "light"
          }
        }
      ]
    },
    {
      "cell_type": "code",
      "metadata": {
        "id": "ucQNTcy4ihrE",
        "colab_type": "code",
        "colab": {}
      },
      "source": [
        "## Importing the metrics\n",
        "from sklearn import metrics\n",
        "## Defining the matrix to draw the confusion metrix from actual and predicted class labels\n",
        "def draw_cm( actual, predicted ):\n",
        "# Invoking confusion_matrix from metric package. The matrix will oriented as[1,0] i.e.\n",
        "# the classes with label 1 will be reprensted the first row and 0 as secondrow\n",
        "    cm = metrics.confusion_matrix( actual, predicted, [1,0] )\n",
        "## Confustion will be plotted as heatmap for better visualization\n",
        "## The lables are configured to better interpretation from the plot\n",
        "    sn.heatmap(cm, annot=True, fmt='.2f',\n",
        "    xticklabels = [\"Subscribed\", \"Not Subscribed\"] ,\n",
        "    yticklabels = [\"Subscribed\", \"Not Subscribed\"] )\n",
        "    plt.ylabel('True label')\n",
        "    plt.xlabel('Predicted label')\n",
        "    plt.show()\n"
      ],
      "execution_count": null,
      "outputs": []
    },
    {
      "cell_type": "code",
      "metadata": {
        "id": "lS7rKxXKimko",
        "colab_type": "code",
        "colab": {
          "base_uri": "https://localhost:8080/",
          "height": 279
        },
        "outputId": "bd18d3e3-b665-45aa-9e02-2268f92e528d"
      },
      "source": [
        "## Predicting on test set\n",
        "pred_y = knn_clf.predict(test_X)\n",
        "## Drawing the confusion matrix for KNN model\n",
        "draw_cm( test_y, pred_y )\n"
      ],
      "execution_count": null,
      "outputs": [
        {
          "output_type": "display_data",
          "data": {
            "image/png": "[encoded data removed]",
            "text/plain": [
              "<Figure size 432x288 with 2 Axes>"
            ]
          },
          "metadata": {
            "tags": [],
            "needs_background": "light"
          }
        }
      ]
    },
    {
      "cell_type": "code",
      "metadata": {
        "id": "i97j_XmuioyH",
        "colab_type": "code",
        "colab": {
          "base_uri": "https://localhost:8080/",
          "height": 182
        },
        "outputId": "b4953a50-0589-46ed-a7b7-c51bf713573c"
      },
      "source": [
        "print( metrics.classification_report( test_y, pred_y ) )\n"
      ],
      "execution_count": null,
      "outputs": [
        {
          "output_type": "stream",
          "text": [
            "              precision    recall  f1-score   support\n",
            "\n",
            "           0       0.82      0.77      0.80      1194\n",
            "           1       0.60      0.67      0.63       606\n",
            "\n",
            "    accuracy                           0.74      1800\n",
            "   macro avg       0.71      0.72      0.71      1800\n",
            "weighted avg       0.75      0.74      0.74      1800\n",
            "\n"
          ],
          "name": "stdout"
        }
      ]
    },
    {
      "cell_type": "code",
      "metadata": {
        "id": "hl3IXaIgis85",
        "colab_type": "code",
        "colab": {}
      },
      "source": [
        "#it is good at predicting non-success class"
      ],
      "execution_count": null,
      "outputs": []
    },
    {
      "cell_type": "markdown",
      "metadata": {
        "id": "_W6HkH4LloJr",
        "colab_type": "text"
      },
      "source": [
        "##Down sampling"
      ]
    },
    {
      "cell_type": "markdown",
      "metadata": {
        "id": "vCBccNeimgBc",
        "colab_type": "text"
      },
      "source": [
        "###Data File Read"
      ]
    },
    {
      "cell_type": "code",
      "metadata": {
        "id": "RaNqK_6vlsuM",
        "colab_type": "code",
        "colab": {
          "base_uri": "https://localhost:8080/",
          "height": 74
        },
        "outputId": "43a8385f-5df4-4944-ea7e-04a5c75a7d3a"
      },
      "source": [
        "import pandas as pd\n",
        "import numpy as np\n",
        "import matplotlib.pyplot as plt\n",
        "import seaborn as sn\n",
        "%matplotlib inline"
      ],
      "execution_count": 1,
      "outputs": [
        {
          "output_type": "stream",
          "text": [
            "/usr/local/lib/python3.6/dist-packages/statsmodels/tools/_testing.py:19: FutureWarning: pandas.util.testing is deprecated. Use the functions in the public API at pandas.testing instead.\n",
            "  import pandas.util.testing as tm\n"
          ],
          "name": "stderr"
        }
      ]
    },
    {
      "cell_type": "code",
      "metadata": {
        "id": "t12acRUmmsqs",
        "colab_type": "code",
        "colab": {
          "base_uri": "https://localhost:8080/",
          "height": 206
        },
        "outputId": "e7077a1c-dfcd-4729-ee29-7fb7779ffc54"
      },
      "source": [
        "bank_df = pd.read_csv( r'/content/bank.csv')\n",
        "bank_df.head(5)"
      ],
      "execution_count": 2,
      "outputs": [
        {
          "output_type": "execute_result",
          "data": {
            "text/html": [
              "<div>\n",
              "<style scoped>\n",
              "    .dataframe tbody tr th:only-of-type {\n",
              "        vertical-align: middle;\n",
              "    }\n",
              "\n",
              "    .dataframe tbody tr th {\n",
              "        vertical-align: top;\n",
              "    }\n",
              "\n",
              "    .dataframe thead th {\n",
              "        text-align: right;\n",
              "    }\n",
              "</style>\n",
              "<table border=\"1\" class=\"dataframe\">\n",
              "  <thead>\n",
              "    <tr style=\"text-align: right;\">\n",
              "      <th></th>\n",
              "      <th>age</th>\n",
              "      <th>job</th>\n",
              "      <th>marital</th>\n",
              "      <th>education</th>\n",
              "      <th>default</th>\n",
              "      <th>balance</th>\n",
              "      <th>housing-loan</th>\n",
              "      <th>personal-loan</th>\n",
              "      <th>current-campaign</th>\n",
              "      <th>previous-campaign</th>\n",
              "      <th>subscribed</th>\n",
              "    </tr>\n",
              "  </thead>\n",
              "  <tbody>\n",
              "    <tr>\n",
              "      <th>0</th>\n",
              "      <td>30</td>\n",
              "      <td>unemployed</td>\n",
              "      <td>married</td>\n",
              "      <td>primary</td>\n",
              "      <td>no</td>\n",
              "      <td>1787</td>\n",
              "      <td>no</td>\n",
              "      <td>no</td>\n",
              "      <td>1</td>\n",
              "      <td>0</td>\n",
              "      <td>no</td>\n",
              "    </tr>\n",
              "    <tr>\n",
              "      <th>1</th>\n",
              "      <td>33</td>\n",
              "      <td>services</td>\n",
              "      <td>married</td>\n",
              "      <td>secondary</td>\n",
              "      <td>no</td>\n",
              "      <td>4789</td>\n",
              "      <td>yes</td>\n",
              "      <td>yes</td>\n",
              "      <td>1</td>\n",
              "      <td>4</td>\n",
              "      <td>no</td>\n",
              "    </tr>\n",
              "    <tr>\n",
              "      <th>2</th>\n",
              "      <td>35</td>\n",
              "      <td>management</td>\n",
              "      <td>single</td>\n",
              "      <td>tertiary</td>\n",
              "      <td>no</td>\n",
              "      <td>1350</td>\n",
              "      <td>yes</td>\n",
              "      <td>no</td>\n",
              "      <td>1</td>\n",
              "      <td>1</td>\n",
              "      <td>no</td>\n",
              "    </tr>\n",
              "    <tr>\n",
              "      <th>3</th>\n",
              "      <td>30</td>\n",
              "      <td>management</td>\n",
              "      <td>married</td>\n",
              "      <td>tertiary</td>\n",
              "      <td>no</td>\n",
              "      <td>1476</td>\n",
              "      <td>yes</td>\n",
              "      <td>yes</td>\n",
              "      <td>4</td>\n",
              "      <td>0</td>\n",
              "      <td>no</td>\n",
              "    </tr>\n",
              "    <tr>\n",
              "      <th>4</th>\n",
              "      <td>59</td>\n",
              "      <td>blue-collar</td>\n",
              "      <td>married</td>\n",
              "      <td>secondary</td>\n",
              "      <td>no</td>\n",
              "      <td>0</td>\n",
              "      <td>yes</td>\n",
              "      <td>no</td>\n",
              "      <td>1</td>\n",
              "      <td>0</td>\n",
              "      <td>no</td>\n",
              "    </tr>\n",
              "  </tbody>\n",
              "</table>\n",
              "</div>"
            ],
            "text/plain": [
              "   age          job  marital  ... current-campaign previous-campaign  subscribed\n",
              "0   30   unemployed  married  ...                1                 0          no\n",
              "1   33     services  married  ...                1                 4          no\n",
              "2   35   management   single  ...                1                 1          no\n",
              "3   30   management  married  ...                4                 0          no\n",
              "4   59  blue-collar  married  ...                1                 0          no\n",
              "\n",
              "[5 rows x 11 columns]"
            ]
          },
          "metadata": {
            "tags": []
          },
          "execution_count": 2
        }
      ]
    },
    {
      "cell_type": "code",
      "metadata": {
        "id": "8OwwmzHdmxBD",
        "colab_type": "code",
        "colab": {
          "base_uri": "https://localhost:8080/",
          "height": 348
        },
        "outputId": "5c21d1e3-7f14-4884-c766-dd17efb5820e"
      },
      "source": [
        "bank_df.info()"
      ],
      "execution_count": 3,
      "outputs": [
        {
          "output_type": "stream",
          "text": [
            "<class 'pandas.core.frame.DataFrame'>\n",
            "RangeIndex: 4521 entries, 0 to 4520\n",
            "Data columns (total 11 columns):\n",
            " #   Column             Non-Null Count  Dtype \n",
            "---  ------             --------------  ----- \n",
            " 0   age                4521 non-null   int64 \n",
            " 1   job                4521 non-null   object\n",
            " 2   marital            4521 non-null   object\n",
            " 3   education          4521 non-null   object\n",
            " 4   default            4521 non-null   object\n",
            " 5   balance            4521 non-null   int64 \n",
            " 6   housing-loan       4521 non-null   object\n",
            " 7   personal-loan      4521 non-null   object\n",
            " 8   current-campaign   4521 non-null   int64 \n",
            " 9   previous-campaign  4521 non-null   int64 \n",
            " 10  subscribed         4521 non-null   object\n",
            "dtypes: int64(4), object(7)\n",
            "memory usage: 388.6+ KB\n"
          ],
          "name": "stdout"
        }
      ]
    },
    {
      "cell_type": "code",
      "metadata": {
        "id": "02jiadgEm0L0",
        "colab_type": "code",
        "colab": {}
      },
      "source": [
        "#subsicribed yes- success class\n",
        "# subscribed no - non success class\n"
      ],
      "execution_count": 4,
      "outputs": []
    },
    {
      "cell_type": "markdown",
      "metadata": {
        "id": "jdI3WTalm90F",
        "colab_type": "text"
      },
      "source": [
        "###Treat imbalanced data"
      ]
    },
    {
      "cell_type": "code",
      "metadata": {
        "id": "sQiLWmtnm25d",
        "colab_type": "code",
        "colab": {
          "base_uri": "https://localhost:8080/",
          "height": 72
        },
        "outputId": "ce3d327e-ea55-455a-c3f0-2f80b20c930e"
      },
      "source": [
        "bank_df.subscribed.value_counts()"
      ],
      "execution_count": 5,
      "outputs": [
        {
          "output_type": "execute_result",
          "data": {
            "text/plain": [
              "no     4000\n",
              "yes     521\n",
              "Name: subscribed, dtype: int64"
            ]
          },
          "metadata": {
            "tags": []
          },
          "execution_count": 5
        }
      ]
    },
    {
      "cell_type": "code",
      "metadata": {
        "id": "Bv4yzxUenCBx",
        "colab_type": "code",
        "colab": {}
      },
      "source": [
        "## Importing resample from *sklearn.utils* package.\n",
        "from sklearn.utils import resample\n",
        "# Separate the case of yes-subscribes and no-subscribes\n",
        "bank_subscribed_no = bank_df[bank_df.subscribed == 'no']\n",
        "bank_subscribed_yes = bank_df[bank_df.subscribed == 'yes']\n",
        "##Upsample the yes-subscribed cases. #2000 rows will be replication of 521 rows only\n",
        "df_majority_downsampled = resample(bank_subscribed_no,replace=True, n_samples=1000)\n",
        "# Combine majority class with upsampled minority class\n",
        "new_bank_df = pd.concat([df_majority_downsampled, bank_subscribed_yes])"
      ],
      "execution_count": 14,
      "outputs": []
    },
    {
      "cell_type": "code",
      "metadata": {
        "id": "NAoeg-aKnu3F",
        "colab_type": "code",
        "colab": {}
      },
      "source": [
        "from sklearn.utils import shuffle\n",
        "new_bank_df = shuffle(new_bank_df)"
      ],
      "execution_count": 15,
      "outputs": []
    },
    {
      "cell_type": "code",
      "metadata": {
        "id": "SKCjFEz4o-CY",
        "colab_type": "code",
        "colab": {
          "base_uri": "https://localhost:8080/",
          "height": 72
        },
        "outputId": "f5a418c5-ed7f-46d5-8ee6-e05de6b85eb7"
      },
      "source": [
        "new_bank_df.subscribed.value_counts()"
      ],
      "execution_count": 16,
      "outputs": [
        {
          "output_type": "execute_result",
          "data": {
            "text/plain": [
              "no     1000\n",
              "yes     521\n",
              "Name: subscribed, dtype: int64"
            ]
          },
          "metadata": {
            "tags": []
          },
          "execution_count": 16
        }
      ]
    },
    {
      "cell_type": "code",
      "metadata": {
        "id": "Yetk6l_ppEfu",
        "colab_type": "code",
        "colab": {}
      },
      "source": [
        ""
      ],
      "execution_count": null,
      "outputs": []
    }
  ]
}