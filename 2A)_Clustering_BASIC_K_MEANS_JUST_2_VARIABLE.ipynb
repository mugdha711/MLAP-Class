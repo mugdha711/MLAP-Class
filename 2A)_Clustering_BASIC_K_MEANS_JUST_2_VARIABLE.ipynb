{
  "nbformat": 4,
  "nbformat_minor": 0,
  "metadata": {
    "colab": {
      "name": "2A) Clustering- BASIC K-MEANS JUST 2 VARIABLE.ipynb",
      "provenance": [],
      "toc_visible": true,
      "authorship_tag": "ABX9TyPg8a4O16JavTFavdnXncPt",
      "include_colab_link": true
    },
    "kernelspec": {
      "name": "python3",
      "display_name": "Python 3"
    }
  },
  "cells": [
    {
      "cell_type": "markdown",
      "metadata": {
        "id": "view-in-github",
        "colab_type": "text"
      },
      "source": [
        "<a href=\"https://colab.research.google.com/github/mugdha711/MLAP-Class/blob/master/2A)_Clustering_BASIC_K_MEANS_JUST_2_VARIABLE.ipynb\" target=\"_parent\"><img src=\"https://colab.research.google.com/assets/colab-badge.svg\" alt=\"Open In Colab\"/></a>"
      ]
    },
    {
      "cell_type": "markdown",
      "metadata": {
        "id": "O81MfoaD-BRZ",
        "colab_type": "text"
      },
      "source": [
        "#**Clustering-- CUSTOMER CASE - ONLY BASIC K-MEANS**"
      ]
    },
    {
      "cell_type": "code",
      "metadata": {
        "id": "EwM4ROPV9mNV",
        "colab_type": "code",
        "colab": {}
      },
      "source": [
        "import pandas as pd\n"
      ],
      "execution_count": 1,
      "outputs": []
    },
    {
      "cell_type": "code",
      "metadata": {
        "id": "jBA_m3Gk-DLu",
        "colab_type": "code",
        "colab": {}
      },
      "source": [
        "customers_df = pd.read_csv('/content/Income Data.csv')"
      ],
      "execution_count": 3,
      "outputs": []
    },
    {
      "cell_type": "code",
      "metadata": {
        "id": "rsg4BIaH-WDW",
        "colab_type": "code",
        "colab": {
          "base_uri": "https://localhost:8080/",
          "height": 191
        },
        "outputId": "e56710dc-cb85-4c9a-abd0-7c4abe86c270"
      },
      "source": [
        "customers_df.head(5)"
      ],
      "execution_count": 5,
      "outputs": [
        {
          "output_type": "execute_result",
          "data": {
            "text/html": [
              "<div>\n",
              "<style scoped>\n",
              "    .dataframe tbody tr th:only-of-type {\n",
              "        vertical-align: middle;\n",
              "    }\n",
              "\n",
              "    .dataframe tbody tr th {\n",
              "        vertical-align: top;\n",
              "    }\n",
              "\n",
              "    .dataframe thead th {\n",
              "        text-align: right;\n",
              "    }\n",
              "</style>\n",
              "<table border=\"1\" class=\"dataframe\">\n",
              "  <thead>\n",
              "    <tr style=\"text-align: right;\">\n",
              "      <th></th>\n",
              "      <th>income</th>\n",
              "      <th>age</th>\n",
              "    </tr>\n",
              "  </thead>\n",
              "  <tbody>\n",
              "    <tr>\n",
              "      <th>0</th>\n",
              "      <td>41100.0</td>\n",
              "      <td>48.75</td>\n",
              "    </tr>\n",
              "    <tr>\n",
              "      <th>1</th>\n",
              "      <td>54100.0</td>\n",
              "      <td>28.10</td>\n",
              "    </tr>\n",
              "    <tr>\n",
              "      <th>2</th>\n",
              "      <td>47800.0</td>\n",
              "      <td>46.75</td>\n",
              "    </tr>\n",
              "    <tr>\n",
              "      <th>3</th>\n",
              "      <td>19100.0</td>\n",
              "      <td>40.25</td>\n",
              "    </tr>\n",
              "    <tr>\n",
              "      <th>4</th>\n",
              "      <td>18200.0</td>\n",
              "      <td>35.80</td>\n",
              "    </tr>\n",
              "  </tbody>\n",
              "</table>\n",
              "</div>"
            ],
            "text/plain": [
              "    income    age\n",
              "0  41100.0  48.75\n",
              "1  54100.0  28.10\n",
              "2  47800.0  46.75\n",
              "3  19100.0  40.25\n",
              "4  18200.0  35.80"
            ]
          },
          "metadata": {
            "tags": []
          },
          "execution_count": 5
        }
      ]
    },
    {
      "cell_type": "code",
      "metadata": {
        "id": "qFwPIB9X-imS",
        "colab_type": "code",
        "colab": {
          "base_uri": "https://localhost:8080/",
          "height": 50
        },
        "outputId": "baa57488-c0ce-4ade-9e22-88afbdd6e44d"
      },
      "source": [
        "import pandas as pd\n",
        "import numpy as np\n",
        "import matplotlib.pyplot as plt\n",
        "import seaborn as sn\n",
        "%matplotlib inline"
      ],
      "execution_count": 6,
      "outputs": [
        {
          "output_type": "stream",
          "text": [
            "/usr/local/lib/python3.6/dist-packages/statsmodels/tools/_testing.py:19: FutureWarning: pandas.util.testing is deprecated. Use the functions in the public API at pandas.testing instead.\n",
            "  import pandas.util.testing as tm\n"
          ],
          "name": "stderr"
        }
      ]
    },
    {
      "cell_type": "code",
      "metadata": {
        "id": "hCb8fYpS-pH0",
        "colab_type": "code",
        "colab": {
          "base_uri": "https://localhost:8080/",
          "height": 330
        },
        "outputId": "0d8d3b39-296b-4ff1-c3e3-e4012d49bb5d"
      },
      "source": [
        "sn.lmplot('age', 'income', data=customers_df, fit_reg = False,\n",
        "size = 4);"
      ],
      "execution_count": 8,
      "outputs": [
        {
          "output_type": "stream",
          "text": [
            "/usr/local/lib/python3.6/dist-packages/seaborn/regression.py:573: UserWarning: The `size` parameter has been renamed to `height`; please update your code.\n",
            "  warnings.warn(msg, UserWarning)\n"
          ],
          "name": "stderr"
        },
        {
          "output_type": "display_data",
          "data": {
            "image/png": "[encoded data removed]",
            "text/plain": [
              "<Figure size 288x288 with 1 Axes>"
            ]
          },
          "metadata": {
            "tags": [],
            "needs_background": "light"
          }
        }
      ]
    },
    {
      "cell_type": "code",
      "metadata": {
        "id": "7HClutSu-sGj",
        "colab_type": "code",
        "colab": {}
      },
      "source": [
        "# Insights\n",
        "#1. One on the top-left side of the graph, depicting low-age–high-income group.\n",
        "#2. One on the top-right side of the graph, depicting high-age–medium-income group.\n",
        "#3. One on the bottom of the graph, depicting a low-income group, which has an age spread from low to high.\n",
        "\n",
        "#Distance Metrics\n",
        "#Eucledian, minkowski, jacckard, cosine and gower's"
      ],
      "execution_count": 9,
      "outputs": []
    },
    {
      "cell_type": "markdown",
      "metadata": {
        "id": "r2vXxdGO_49F",
        "colab_type": "text"
      },
      "source": [
        "##**K-Means Clustering**"
      ]
    },
    {
      "cell_type": "code",
      "metadata": {
        "id": "Rsp14tee_RMe",
        "colab_type": "code",
        "colab": {}
      },
      "source": [
        "#a non-hierarchical clustering method in which the number of clusters (K) is decided a priori\n",
        "#The following steps are used in K-means clustering algorithm:\n",
        "#1. Decide the value of K (which can be fine-tuned later).\n",
        "#2. Choose K observations from the data that are likely to be in different clusters. There are many\n",
        "#ways of choosing these initial K values; the easiest approach is to choose observations that are farthest (in one of the parameters of the data).\n",
        "#3. The K observations selected in step 2 are the centroids of those clusters.\n",
        "#4. For remaining observations, find the cluster closest to the centroid. Add the new observation (say\n",
        "#observation j) to the cluster with the closest centroid. Adjust the centroid after adding a new observation to the cluster. The closest centroid is chosen based upon an appropriate distance measure.\n",
        "#5. Repeat step 4 until all observations are assigned to a cluster\n",
        "\n",
        "#We'll create 3 clusters due to above graph\n",
        "\n",
        "\n"
      ],
      "execution_count": 10,
      "outputs": []
    },
    {
      "cell_type": "code",
      "metadata": {
        "id": "XLRWVwG0EaKz",
        "colab_type": "code",
        "colab": {
          "base_uri": "https://localhost:8080/",
          "height": 66
        },
        "outputId": "01f0ccaf-23db-4b10-9f84-776dfcade106"
      },
      "source": [
        "from sklearn.cluster import KMeans\n",
        "clusters = KMeans(3)\n",
        "clusters.fit(customers_df)"
      ],
      "execution_count": 11,
      "outputs": [
        {
          "output_type": "execute_result",
          "data": {
            "text/plain": [
              "KMeans(algorithm='auto', copy_x=True, init='k-means++', max_iter=300,\n",
              "       n_clusters=3, n_init=10, n_jobs=None, precompute_distances='auto',\n",
              "       random_state=None, tol=0.0001, verbose=0)"
            ]
          },
          "metadata": {
            "tags": []
          },
          "execution_count": 11
        }
      ]
    },
    {
      "cell_type": "code",
      "metadata": {
        "id": "LurdwH93E9Ho",
        "colab_type": "code",
        "colab": {}
      },
      "source": [
        "customers_df['clusterid'] = clusters.labels_\n",
        "#clusters.labels_ contains labels that identify the cluster to which an observation belongs"
      ],
      "execution_count": 13,
      "outputs": []
    },
    {
      "cell_type": "code",
      "metadata": {
        "id": "2PSwMH3oFFz2",
        "colab_type": "code",
        "colab": {
          "base_uri": "https://localhost:8080/",
          "height": 191
        },
        "outputId": "5f9c7cd8-3d37-43a3-97c1-5ab32411228e"
      },
      "source": [
        "customers_df[0:5]"
      ],
      "execution_count": 14,
      "outputs": [
        {
          "output_type": "execute_result",
          "data": {
            "text/html": [
              "<div>\n",
              "<style scoped>\n",
              "    .dataframe tbody tr th:only-of-type {\n",
              "        vertical-align: middle;\n",
              "    }\n",
              "\n",
              "    .dataframe tbody tr th {\n",
              "        vertical-align: top;\n",
              "    }\n",
              "\n",
              "    .dataframe thead th {\n",
              "        text-align: right;\n",
              "    }\n",
              "</style>\n",
              "<table border=\"1\" class=\"dataframe\">\n",
              "  <thead>\n",
              "    <tr style=\"text-align: right;\">\n",
              "      <th></th>\n",
              "      <th>income</th>\n",
              "      <th>age</th>\n",
              "      <th>clusterid</th>\n",
              "    </tr>\n",
              "  </thead>\n",
              "  <tbody>\n",
              "    <tr>\n",
              "      <th>0</th>\n",
              "      <td>41100.0</td>\n",
              "      <td>48.75</td>\n",
              "      <td>2</td>\n",
              "    </tr>\n",
              "    <tr>\n",
              "      <th>1</th>\n",
              "      <td>54100.0</td>\n",
              "      <td>28.10</td>\n",
              "      <td>0</td>\n",
              "    </tr>\n",
              "    <tr>\n",
              "      <th>2</th>\n",
              "      <td>47800.0</td>\n",
              "      <td>46.75</td>\n",
              "      <td>2</td>\n",
              "    </tr>\n",
              "    <tr>\n",
              "      <th>3</th>\n",
              "      <td>19100.0</td>\n",
              "      <td>40.25</td>\n",
              "      <td>1</td>\n",
              "    </tr>\n",
              "    <tr>\n",
              "      <th>4</th>\n",
              "      <td>18200.0</td>\n",
              "      <td>35.80</td>\n",
              "      <td>1</td>\n",
              "    </tr>\n",
              "  </tbody>\n",
              "</table>\n",
              "</div>"
            ],
            "text/plain": [
              "    income    age  clusterid\n",
              "0  41100.0  48.75          2\n",
              "1  54100.0  28.10          0\n",
              "2  47800.0  46.75          2\n",
              "3  19100.0  40.25          1\n",
              "4  18200.0  35.80          1"
            ]
          },
          "metadata": {
            "tags": []
          },
          "execution_count": 14
        }
      ]
    },
    {
      "cell_type": "markdown",
      "metadata": {
        "id": "CqZd4to0Fbih",
        "colab_type": "text"
      },
      "source": [
        "####Plotting Customers with Their Segments"
      ]
    },
    {
      "cell_type": "code",
      "metadata": {
        "id": "NcKEoRlYFQJm",
        "colab_type": "code",
        "colab": {
          "base_uri": "https://localhost:8080/",
          "height": 313
        },
        "outputId": "8e0a7460-e7c6-4956-df94-1938bb9d02f1"
      },
      "source": [
        "marker = ['+','^','.']\n",
        "sn.lmplot('age', 'income',\n",
        "  data = customers_df,\n",
        "  hue = \"clusterid\",\n",
        "  fit_reg = False,\n",
        "  markers = marker,\n",
        "  height = 4)"
      ],
      "execution_count": 25,
      "outputs": [
        {
          "output_type": "execute_result",
          "data": {
            "text/plain": [
              "<seaborn.axisgrid.FacetGrid at 0x7f71509884a8>"
            ]
          },
          "metadata": {
            "tags": []
          },
          "execution_count": 25
        },
        {
          "output_type": "display_data",
          "data": {
            "image/png": "[encoded data removed]",
            "text/plain": [
              "<Figure size 339.375x288 with 1 Axes>"
            ]
          },
          "metadata": {
            "tags": [],
            "needs_background": "light"
          }
        }
      ]
    },
    {
      "cell_type": "code",
      "metadata": {
        "id": "0Lmx1rnfGRGN",
        "colab_type": "code",
        "colab": {}
      },
      "source": [
        "#Insights- before creating clusters, all features need to be normalized and brought to normalized scale as here several significant difference are not counted due to high income values"
      ],
      "execution_count": 24,
      "outputs": []
    },
    {
      "cell_type": "markdown",
      "metadata": {
        "id": "edpUgfUPHBpH",
        "colab_type": "text"
      },
      "source": [
        "####Normalization"
      ]
    },
    {
      "cell_type": "code",
      "metadata": {
        "id": "KxNhHap-Fdd-",
        "colab_type": "code",
        "colab": {
          "base_uri": "https://localhost:8080/",
          "height": 98
        },
        "outputId": "1c414b8a-d6b1-482c-d190-841d0b517f1f"
      },
      "source": [
        "from sklearn.preprocessing import StandardScaler\n",
        "scaler = StandardScaler()\n",
        "scaled_customers_df = scaler.fit_transform(customers_df[['age','income']])\n",
        "scaled_customers_df[0:5]"
      ],
      "execution_count": 26,
      "outputs": [
        {
          "output_type": "execute_result",
          "data": {
            "text/plain": [
              "array([[ 1.3701637 ,  0.09718548],\n",
              "       [-1.3791283 ,  0.90602749],\n",
              "       [ 1.10388844,  0.51405021],\n",
              "       [ 0.23849387, -1.27162408],\n",
              "       [-0.35396857, -1.32762083]])"
            ]
          },
          "metadata": {
            "tags": []
          },
          "execution_count": 26
        }
      ]
    },
    {
      "cell_type": "markdown",
      "metadata": {
        "id": "ELyA9MGQHXg_",
        "colab_type": "text"
      },
      "source": [
        "####Plotting after normalization"
      ]
    },
    {
      "cell_type": "code",
      "metadata": {
        "id": "U7c-q2UtHMEv",
        "colab_type": "code",
        "colab": {}
      },
      "source": [
        "from sklearn.cluster import KMeans\n",
        "clusters_new = KMeans(3, random_state=42)\n",
        "clusters_new.fit(scaled_customers_df)\n",
        "customers_df['clusterid_new'] = clusters_new.labels_"
      ],
      "execution_count": 28,
      "outputs": []
    },
    {
      "cell_type": "code",
      "metadata": {
        "id": "EA72nc3GHejq",
        "colab_type": "code",
        "colab": {
          "base_uri": "https://localhost:8080/",
          "height": 313
        },
        "outputId": "7dd9c829-5209-4ed4-f78d-c09a6910863f"
      },
      "source": [
        "marker = ['+','^','.']\n",
        "sn.lmplot('age', 'income',\n",
        "  data = customers_df,\n",
        "  hue = \"clusterid_new\",\n",
        "  fit_reg = False,\n",
        "  markers = marker,\n",
        "  height = 4)"
      ],
      "execution_count": 29,
      "outputs": [
        {
          "output_type": "execute_result",
          "data": {
            "text/plain": [
              "<seaborn.axisgrid.FacetGrid at 0x7f7150909d68>"
            ]
          },
          "metadata": {
            "tags": []
          },
          "execution_count": 29
        },
        {
          "output_type": "display_data",
          "data": {
            "image/png": "[encoded data removed]",
            "text/plain": [
              "<Figure size 365x288 with 1 Axes>"
            ]
          },
          "metadata": {
            "tags": [],
            "needs_background": "light"
          }
        }
      ]
    },
    {
      "cell_type": "code",
      "metadata": {
        "id": "ZEmQfD_qHw9G",
        "colab_type": "code",
        "colab": {
          "base_uri": "https://localhost:8080/",
          "height": 66
        },
        "outputId": "2682a11d-4ff3-40e8-fba3-b2848ed3545d"
      },
      "source": [
        "clusters.cluster_centers_ #give cluster centre values"
      ],
      "execution_count": 30,
      "outputs": [
        {
          "output_type": "execute_result",
          "data": {
            "text/plain": [
              "array([[5.46756522e+04, 3.17004348e+01],\n",
              "       [1.81447917e+04, 3.91744792e+01],\n",
              "       [4.30539326e+04, 4.64191011e+01]])"
            ]
          },
          "metadata": {
            "tags": []
          },
          "execution_count": 30
        }
      ]
    },
    {
      "cell_type": "markdown",
      "metadata": {
        "id": "KAVG2ITpICkj",
        "colab_type": "text"
      },
      "source": [
        "####Cluster Centers and Interpreting the Clusters"
      ]
    },
    {
      "cell_type": "code",
      "metadata": {
        "id": "i0KxR_9pH5YE",
        "colab_type": "code",
        "colab": {}
      },
      "source": [
        "# Insight - the cluster center provides the average age and average income of each cluster. The customer’s age and income will vary from the cluster centers and is called the cluster variance.\n",
        "\n",
        "#customers_df.groupby('clusterid')['age','income'].agg(['mean','std']).reset_index()"
      ],
      "execution_count": 35,
      "outputs": []
    },
    {
      "cell_type": "code",
      "metadata": {
        "id": "96h5PTXxKQtF",
        "colab_type": "code",
        "colab": {
          "base_uri": "https://localhost:8080/",
          "height": 195
        },
        "outputId": "ede33538-119f-4634-9601-89ba1e0dc5bf"
      },
      "source": [
        "customers_df.groupby('clusterid_new')['age','income'].agg(['mean','std']).reset_index()"
      ],
      "execution_count": 34,
      "outputs": [
        {
          "output_type": "stream",
          "text": [
            "/usr/local/lib/python3.6/dist-packages/ipykernel_launcher.py:1: FutureWarning: Indexing with multiple keys (implicitly converted to a tuple of keys) will be deprecated, use a list instead.\n",
            "  \"\"\"Entry point for launching an IPython kernel.\n"
          ],
          "name": "stderr"
        },
        {
          "output_type": "execute_result",
          "data": {
            "text/html": [
              "<div>\n",
              "<style scoped>\n",
              "    .dataframe tbody tr th:only-of-type {\n",
              "        vertical-align: middle;\n",
              "    }\n",
              "\n",
              "    .dataframe tbody tr th {\n",
              "        vertical-align: top;\n",
              "    }\n",
              "\n",
              "    .dataframe thead tr th {\n",
              "        text-align: left;\n",
              "    }\n",
              "</style>\n",
              "<table border=\"1\" class=\"dataframe\">\n",
              "  <thead>\n",
              "    <tr>\n",
              "      <th></th>\n",
              "      <th>clusterid_new</th>\n",
              "      <th colspan=\"2\" halign=\"left\">age</th>\n",
              "      <th colspan=\"2\" halign=\"left\">income</th>\n",
              "    </tr>\n",
              "    <tr>\n",
              "      <th></th>\n",
              "      <th></th>\n",
              "      <th>mean</th>\n",
              "      <th>std</th>\n",
              "      <th>mean</th>\n",
              "      <th>std</th>\n",
              "    </tr>\n",
              "  </thead>\n",
              "  <tbody>\n",
              "    <tr>\n",
              "      <th>0</th>\n",
              "      <td>0</td>\n",
              "      <td>29.384000</td>\n",
              "      <td>0.921458</td>\n",
              "      <td>55204.000000</td>\n",
              "      <td>1951.943864</td>\n",
              "    </tr>\n",
              "    <tr>\n",
              "      <th>1</th>\n",
              "      <td>1</td>\n",
              "      <td>46.627184</td>\n",
              "      <td>2.151559</td>\n",
              "      <td>44308.737864</td>\n",
              "      <td>4390.321503</td>\n",
              "    </tr>\n",
              "    <tr>\n",
              "      <th>2</th>\n",
              "      <td>2</td>\n",
              "      <td>39.140206</td>\n",
              "      <td>3.558665</td>\n",
              "      <td>18321.649485</td>\n",
              "      <td>6924.747691</td>\n",
              "    </tr>\n",
              "  </tbody>\n",
              "</table>\n",
              "</div>"
            ],
            "text/plain": [
              "  clusterid_new        age                  income             \n",
              "                      mean       std          mean          std\n",
              "0             0  29.384000  0.921458  55204.000000  1951.943864\n",
              "1             1  46.627184  2.151559  44308.737864  4390.321503\n",
              "2             2  39.140206  3.558665  18321.649485  6924.747691"
            ]
          },
          "metadata": {
            "tags": []
          },
          "execution_count": 34
        }
      ]
    },
    {
      "cell_type": "markdown",
      "metadata": {
        "id": "dnpntaFDK6E7",
        "colab_type": "text"
      },
      "source": [
        "INSIGHTS- CUSTOMER\n",
        "The clusters can be interpreted as follows:\n",
        "1. cluster0: Customers with mean age of 29 and income of 55k. Low age and high income.\n",
        "2. cluster1: Customers with mean age of 39 and income of 18K. Mid age and low income.\n",
        "3. cluster2: Customers with mean age of 47 and income of 44k. High age and medium income."
      ]
    },
    {
      "cell_type": "code",
      "metadata": {
        "id": "uFJaA52-Kp3A",
        "colab_type": "code",
        "colab": {}
      },
      "source": [
        ""
      ],
      "execution_count": null,
      "outputs": []
    },
    {
      "cell_type": "code",
      "metadata": {
        "id": "EL2ToTWZK-3L",
        "colab_type": "code",
        "colab": {}
      },
      "source": [
        ""
      ],
      "execution_count": 35,
      "outputs": []
    },
    {
      "cell_type": "markdown",
      "metadata": {
        "id": "3AS_auazLitV",
        "colab_type": "text"
      },
      "source": [
        ""
      ]
    }
  ]
}