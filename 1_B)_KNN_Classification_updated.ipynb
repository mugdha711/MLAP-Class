{
  "nbformat": 4,
  "nbformat_minor": 0,
  "metadata": {
    "colab": {
      "name": "1.B) KNN Classification updated.ipynb",
      "provenance": [],
      "collapsed_sections": [],
      "toc_visible": true,
      "authorship_tag": "ABX9TyOp053ynDTAkl6cDWMNx7Jd",
      "include_colab_link": true
    },
    "kernelspec": {
      "name": "python3",
      "display_name": "Python 3"
    }
  },
  "cells": [
    {
      "cell_type": "markdown",
      "metadata": {
        "id": "view-in-github",
        "colab_type": "text"
      },
      "source": [
        "<a href=\"https://colab.research.google.com/github/mugdha711/MLAP-Class/blob/master/1_B)_KNN_Classification_updated.ipynb\" target=\"_parent\"><img src=\"https://colab.research.google.com/assets/colab-badge.svg\" alt=\"Open In Colab\"/></a>"
      ]
    },
    {
      "cell_type": "markdown",
      "metadata": {
        "id": "5EqCPO-9eUpQ",
        "colab_type": "text"
      },
      "source": [
        "###Data Upload"
      ]
    },
    {
      "cell_type": "code",
      "metadata": {
        "id": "Ca86RXggdfR2",
        "colab_type": "code",
        "colab": {
          "base_uri": "https://localhost:8080/",
          "height": 50
        },
        "outputId": "7e85949a-382b-41bb-d0c9-3b9dac2b2ddf"
      },
      "source": [
        "import pandas as pd\n",
        "import numpy as np\n",
        "import matplotlib.pyplot as plt\n",
        "import seaborn as sn\n",
        "%matplotlib inline"
      ],
      "execution_count": 1,
      "outputs": [
        {
          "output_type": "stream",
          "text": [
            "/usr/local/lib/python3.6/dist-packages/statsmodels/tools/_testing.py:19: FutureWarning: pandas.util.testing is deprecated. Use the functions in the public API at pandas.testing instead.\n",
            "  import pandas.util.testing as tm\n"
          ],
          "name": "stderr"
        }
      ]
    },
    {
      "cell_type": "code",
      "metadata": {
        "id": "nrTp9goeeZpk",
        "colab_type": "code",
        "colab": {
          "base_uri": "https://localhost:8080/",
          "height": 191
        },
        "outputId": "a443cf8d-60f2-413d-e29d-3df2f15c8b66"
      },
      "source": [
        "bank_df = pd.read_csv( r'/content/bank.csv')\n",
        "bank_df.head(5)"
      ],
      "execution_count": 4,
      "outputs": [
        {
          "output_type": "execute_result",
          "data": {
            "text/html": [
              "<div>\n",
              "<style scoped>\n",
              "    .dataframe tbody tr th:only-of-type {\n",
              "        vertical-align: middle;\n",
              "    }\n",
              "\n",
              "    .dataframe tbody tr th {\n",
              "        vertical-align: top;\n",
              "    }\n",
              "\n",
              "    .dataframe thead th {\n",
              "        text-align: right;\n",
              "    }\n",
              "</style>\n",
              "<table border=\"1\" class=\"dataframe\">\n",
              "  <thead>\n",
              "    <tr style=\"text-align: right;\">\n",
              "      <th></th>\n",
              "      <th>age</th>\n",
              "      <th>job</th>\n",
              "      <th>marital</th>\n",
              "      <th>education</th>\n",
              "      <th>default</th>\n",
              "      <th>balance</th>\n",
              "      <th>housing-loan</th>\n",
              "      <th>personal-loan</th>\n",
              "      <th>current-campaign</th>\n",
              "      <th>previous-campaign</th>\n",
              "      <th>subscribed</th>\n",
              "    </tr>\n",
              "  </thead>\n",
              "  <tbody>\n",
              "    <tr>\n",
              "      <th>0</th>\n",
              "      <td>30</td>\n",
              "      <td>unemployed</td>\n",
              "      <td>married</td>\n",
              "      <td>primary</td>\n",
              "      <td>no</td>\n",
              "      <td>1787</td>\n",
              "      <td>no</td>\n",
              "      <td>no</td>\n",
              "      <td>1</td>\n",
              "      <td>0</td>\n",
              "      <td>no</td>\n",
              "    </tr>\n",
              "    <tr>\n",
              "      <th>1</th>\n",
              "      <td>33</td>\n",
              "      <td>services</td>\n",
              "      <td>married</td>\n",
              "      <td>secondary</td>\n",
              "      <td>no</td>\n",
              "      <td>4789</td>\n",
              "      <td>yes</td>\n",
              "      <td>yes</td>\n",
              "      <td>1</td>\n",
              "      <td>4</td>\n",
              "      <td>no</td>\n",
              "    </tr>\n",
              "    <tr>\n",
              "      <th>2</th>\n",
              "      <td>35</td>\n",
              "      <td>management</td>\n",
              "      <td>single</td>\n",
              "      <td>tertiary</td>\n",
              "      <td>no</td>\n",
              "      <td>1350</td>\n",
              "      <td>yes</td>\n",
              "      <td>no</td>\n",
              "      <td>1</td>\n",
              "      <td>1</td>\n",
              "      <td>no</td>\n",
              "    </tr>\n",
              "    <tr>\n",
              "      <th>3</th>\n",
              "      <td>30</td>\n",
              "      <td>management</td>\n",
              "      <td>married</td>\n",
              "      <td>tertiary</td>\n",
              "      <td>no</td>\n",
              "      <td>1476</td>\n",
              "      <td>yes</td>\n",
              "      <td>yes</td>\n",
              "      <td>4</td>\n",
              "      <td>0</td>\n",
              "      <td>no</td>\n",
              "    </tr>\n",
              "    <tr>\n",
              "      <th>4</th>\n",
              "      <td>59</td>\n",
              "      <td>blue-collar</td>\n",
              "      <td>married</td>\n",
              "      <td>secondary</td>\n",
              "      <td>no</td>\n",
              "      <td>0</td>\n",
              "      <td>yes</td>\n",
              "      <td>no</td>\n",
              "      <td>1</td>\n",
              "      <td>0</td>\n",
              "      <td>no</td>\n",
              "    </tr>\n",
              "  </tbody>\n",
              "</table>\n",
              "</div>"
            ],
            "text/plain": [
              "   age          job  marital  ... current-campaign previous-campaign  subscribed\n",
              "0   30   unemployed  married  ...                1                 0          no\n",
              "1   33     services  married  ...                1                 4          no\n",
              "2   35   management   single  ...                1                 1          no\n",
              "3   30   management  married  ...                4                 0          no\n",
              "4   59  blue-collar  married  ...                1                 0          no\n",
              "\n",
              "[5 rows x 11 columns]"
            ]
          },
          "metadata": {
            "tags": []
          },
          "execution_count": 4
        }
      ]
    },
    {
      "cell_type": "code",
      "metadata": {
        "id": "APE5a4N9e3dX",
        "colab_type": "code",
        "colab": {
          "base_uri": "https://localhost:8080/",
          "height": 310
        },
        "outputId": "7b245664-fe5b-419e-d8f1-9ffe56a965dd"
      },
      "source": [
        "bank_df.info()"
      ],
      "execution_count": 5,
      "outputs": [
        {
          "output_type": "stream",
          "text": [
            "<class 'pandas.core.frame.DataFrame'>\n",
            "RangeIndex: 4521 entries, 0 to 4520\n",
            "Data columns (total 11 columns):\n",
            " #   Column             Non-Null Count  Dtype \n",
            "---  ------             --------------  ----- \n",
            " 0   age                4521 non-null   int64 \n",
            " 1   job                4521 non-null   object\n",
            " 2   marital            4521 non-null   object\n",
            " 3   education          4521 non-null   object\n",
            " 4   default            4521 non-null   object\n",
            " 5   balance            4521 non-null   int64 \n",
            " 6   housing-loan       4521 non-null   object\n",
            " 7   personal-loan      4521 non-null   object\n",
            " 8   current-campaign   4521 non-null   int64 \n",
            " 9   previous-campaign  4521 non-null   int64 \n",
            " 10  subscribed         4521 non-null   object\n",
            "dtypes: int64(4), object(7)\n",
            "memory usage: 388.6+ KB\n"
          ],
          "name": "stdout"
        }
      ]
    },
    {
      "cell_type": "markdown",
      "metadata": {
        "id": "oMRkE2IZrrhF",
        "colab_type": "text"
      },
      "source": [
        "###Imbalanced DAta dealing"
      ]
    },
    {
      "cell_type": "code",
      "metadata": {
        "id": "Dsv8ZYRgrpv7",
        "colab_type": "code",
        "colab": {
          "base_uri": "https://localhost:8080/",
          "height": 66
        },
        "outputId": "15c53949-6843-49a4-89c8-1893c870030a"
      },
      "source": [
        "bank_df.subscribed.value_counts()"
      ],
      "execution_count": 6,
      "outputs": [
        {
          "output_type": "execute_result",
          "data": {
            "text/plain": [
              "no     4000\n",
              "yes     521\n",
              "Name: subscribed, dtype: int64"
            ]
          },
          "metadata": {
            "tags": []
          },
          "execution_count": 6
        }
      ]
    },
    {
      "cell_type": "code",
      "metadata": {
        "id": "fOC22WbosApN",
        "colab_type": "code",
        "colab": {}
      },
      "source": [
        "## Importing resample from *sklearn.utils* package.\n",
        "from sklearn.utils import resample\n",
        "# Separate the case of yes-subscribes and no-subscribes\n",
        "bank_subscribed_no = bank_df[bank_df.subscribed == 'no']\n",
        "bank_subscribed_yes = bank_df[bank_df.subscribed == 'yes']\n",
        "##Upsample the yes-subscribed cases.\n",
        "df_minority_upsampled = resample(bank_subscribed_yes,replace=True, n_samples=2000)\n",
        "# Combine majority class with upsampled minority class\n",
        "new_bank_df = pd.concat([bank_subscribed_no, df_minority_upsampled])"
      ],
      "execution_count": 8,
      "outputs": []
    },
    {
      "cell_type": "code",
      "metadata": {
        "id": "xR7_N9OIr7ON",
        "colab_type": "code",
        "colab": {}
      },
      "source": [
        "from sklearn.utils import shuffle\n",
        "new_bank_df = shuffle(new_bank_df)"
      ],
      "execution_count": 9,
      "outputs": []
    },
    {
      "cell_type": "code",
      "metadata": {
        "id": "gSWIErCMsYMN",
        "colab_type": "code",
        "colab": {
          "base_uri": "https://localhost:8080/",
          "height": 66
        },
        "outputId": "086f1476-7bc4-456e-9889-700593050cb1"
      },
      "source": [
        "new_bank_df.subscribed.value_counts()"
      ],
      "execution_count": 10,
      "outputs": [
        {
          "output_type": "execute_result",
          "data": {
            "text/plain": [
              "no     4000\n",
              "yes    2000\n",
              "Name: subscribed, dtype: int64"
            ]
          },
          "metadata": {
            "tags": []
          },
          "execution_count": 10
        }
      ]
    },
    {
      "cell_type": "markdown",
      "metadata": {
        "id": "V04X8kR6smtT",
        "colab_type": "text"
      },
      "source": [
        "###Feature Extraction- Encoding Data"
      ]
    },
    {
      "cell_type": "code",
      "metadata": {
        "id": "K_viuiW7shXO",
        "colab_type": "code",
        "colab": {
          "base_uri": "https://localhost:8080/",
          "height": 180
        },
        "outputId": "d3733f5d-fded-4d3c-a308-95e985b64aff"
      },
      "source": [
        "# Assigning list of all column names in the DataFrame\n",
        "X_features = list( new_bank_df.columns )\n",
        "# Remove the response variable from the list\n",
        "X_features.remove( 'subscribed' )\n",
        "X_features"
      ],
      "execution_count": 11,
      "outputs": [
        {
          "output_type": "execute_result",
          "data": {
            "text/plain": [
              "['age',\n",
              " 'job',\n",
              " 'marital',\n",
              " 'education',\n",
              " 'default',\n",
              " 'balance',\n",
              " 'housing-loan',\n",
              " 'personal-loan',\n",
              " 'current-campaign',\n",
              " 'previous-campaign']"
            ]
          },
          "metadata": {
            "tags": []
          },
          "execution_count": 11
        }
      ]
    },
    {
      "cell_type": "code",
      "metadata": {
        "id": "j6KzEGv0skwV",
        "colab_type": "code",
        "colab": {
          "base_uri": "https://localhost:8080/",
          "height": 147
        },
        "outputId": "273d2e3a-9386-49bf-fc99-0acb23faaba4"
      },
      "source": [
        "## get_dummies() will convert all the columns with data type as objects\n",
        "encoded_bank_df = pd.get_dummies( new_bank_df[X_features], drop_first = True )\n",
        "X = encoded_bank_df\n",
        "X.columns"
      ],
      "execution_count": 27,
      "outputs": [
        {
          "output_type": "execute_result",
          "data": {
            "text/plain": [
              "Index(['age', 'balance', 'current-campaign', 'previous-campaign',\n",
              "       'job_blue-collar', 'job_entrepreneur', 'job_housemaid',\n",
              "       'job_management', 'job_retired', 'job_self-employed', 'job_services',\n",
              "       'job_student', 'job_technician', 'job_unemployed', 'job_unknown',\n",
              "       'marital_married', 'marital_single', 'education_secondary',\n",
              "       'education_tertiary', 'education_unknown', 'default_yes',\n",
              "       'housing-loan_yes', 'personal-loan_yes'],\n",
              "      dtype='object')"
            ]
          },
          "metadata": {
            "tags": []
          },
          "execution_count": 27
        }
      ]
    },
    {
      "cell_type": "code",
      "metadata": {
        "id": "eWDAN6kpu6Ez",
        "colab_type": "code",
        "colab": {}
      },
      "source": [
        "# Encoding the subscribed column and assigning to Y\n",
        "Y = new_bank_df.subscribed.map( lambda x: int( x == 'yes') )"
      ],
      "execution_count": 13,
      "outputs": []
    },
    {
      "cell_type": "markdown",
      "metadata": {
        "id": "JZ7jSe8evFu1",
        "colab_type": "text"
      },
      "source": [
        "###Splitting Data"
      ]
    },
    {
      "cell_type": "code",
      "metadata": {
        "id": "x9xcet8IvCRt",
        "colab_type": "code",
        "colab": {}
      },
      "source": [
        "from sklearn.model_selection import train_test_split\n",
        "train_X, test_X, train_y, test_y = train_test_split( X,\n",
        "Y,\n",
        "test_size = 0.3,\n",
        "random_state = 42 )\n",
        "# Setting random_state a fixed value will guarantee\n",
        "# that the same sequence of random numbers is generated each time you run the code."
      ],
      "execution_count": 14,
      "outputs": []
    },
    {
      "cell_type": "code",
      "metadata": {
        "id": "2t8FHxE0vJK9",
        "colab_type": "code",
        "colab": {}
      },
      "source": [
        "import sklearn as sl"
      ],
      "execution_count": 15,
      "outputs": []
    },
    {
      "cell_type": "code",
      "metadata": {
        "id": "lt3pY--KvMtd",
        "colab_type": "code",
        "colab": {}
      },
      "source": [
        "## Importing the KNN classifier algorithm\n",
        "from sklearn.neighbors import KNeighborsClassifier"
      ],
      "execution_count": 16,
      "outputs": []
    },
    {
      "cell_type": "markdown",
      "metadata": {
        "id": "_HqHgtbwvTi2",
        "colab_type": "text"
      },
      "source": [
        "###Model Building"
      ]
    },
    {
      "cell_type": "code",
      "metadata": {
        "id": "QLDjo4SSvRql",
        "colab_type": "code",
        "colab": {}
      },
      "source": [
        "## Initializing the classifier\n",
        "knn_clf = KNeighborsClassifier()"
      ],
      "execution_count": 17,
      "outputs": []
    },
    {
      "cell_type": "code",
      "metadata": {
        "id": "jR9pUH5IvX79",
        "colab_type": "code",
        "colab": {
          "base_uri": "https://localhost:8080/",
          "height": 66
        },
        "outputId": "6f6fa5d0-99a7-400f-ab7c-0fcc39adc523"
      },
      "source": [
        "## Fitting the model with the training set\n",
        "knn_clf.fit( train_X, train_y )# https://scikitlearn.org/stable/modules/generated/sklearn.neighbors.KNeighborsClassifier.html\n",
        "# p=2 denotes it is Euclidean Distance"
      ],
      "execution_count": 18,
      "outputs": [
        {
          "output_type": "execute_result",
          "data": {
            "text/plain": [
              "KNeighborsClassifier(algorithm='auto', leaf_size=30, metric='minkowski',\n",
              "                     metric_params=None, n_jobs=None, n_neighbors=5, p=2,\n",
              "                     weights='uniform')"
            ]
          },
          "metadata": {
            "tags": []
          },
          "execution_count": 18
        }
      ]
    },
    {
      "cell_type": "markdown",
      "metadata": {
        "id": "XGvqKwOQv9ds",
        "colab_type": "text"
      },
      "source": [
        "###Accuracy"
      ]
    },
    {
      "cell_type": "code",
      "metadata": {
        "id": "_iwhvqDavip-",
        "colab_type": "code",
        "colab": {}
      },
      "source": [
        "## Importing the metrics\n",
        "from sklearn import metrics"
      ],
      "execution_count": 19,
      "outputs": []
    },
    {
      "cell_type": "markdown",
      "metadata": {
        "id": "nb8tiqrnw_az",
        "colab_type": "text"
      },
      "source": [
        "ROC Curve"
      ]
    },
    {
      "cell_type": "code",
      "metadata": {
        "id": "XELINGlhv_h5",
        "colab_type": "code",
        "colab": {}
      },
      "source": [
        "#The method takes the three following parameters\n",
        "## model: the classification model\n",
        "## test_X: X features of the test set\n",
        "## test_y: actual labels of the test set\n",
        "## Returns\n",
        "## - ROC Auc Score\n",
        "## - FPR and TPRs for different threshold values\n",
        "def draw_roc_curve( model, test_X, test_y ):\n",
        "## Creating and initializing a results DataFrame with actual labels\n",
        "  test_results_df = pd.DataFrame( { 'actual': test_y } )\n",
        "  test_results_df = test_results_df.reset_index()\n",
        "# predict the probabilities on the test set\n",
        "  predict_proba_df = pd.DataFrame( model.predict_proba( test_X ) )\n",
        "## selecting the probabilities that the test example belongs to class 1\n",
        "  test_results_df['chd_1'] = predict_proba_df.iloc[:,1:2]\n",
        "## Invoke roc_curve() to return the fpr, tpr and threshold values.\n",
        "## threshold values contain values from 0.0 to 1.0\n",
        "  fpr, tpr, thresholds = metrics.roc_curve( test_results_df.actual,test_results_df.chd_1,drop_intermediate = False )\n",
        "## Getting the roc auc score by invoking metrics.roc_auc_score method\n",
        "  auc_score = metrics.roc_auc_score( test_results_df.actual, test_results_df.chd_1 )\n",
        "## Setting the size of the plot\n",
        "  plt.figure(figsize=(8, 6))\n",
        "## plotting the actual fpr and tpr values\n",
        "  plt.plot( fpr, tpr, label='ROC curve (area = %0.2f)' % auc_score )\n",
        "## plotting th diagnoal line from (0,1)\n",
        "  plt.plot([0, 1], [0, 1], 'k--')\n",
        "  plt.xlim([0.0, 1.0])\n",
        "  plt.ylim([0.0, 1.05])\n",
        "## Setting labels and titles\n",
        "  plt.xlabel('False Positive Rate or [1 - True Negative Rate]')\n",
        "  plt.ylabel('True Positive Rate')\n",
        "  plt.title('Receiver operating characteristic example')\n",
        "  plt.legend(loc=\"lower right\")\n",
        "  plt.show()\n",
        "  return auc_score, fpr, tpr, thresholds"
      ],
      "execution_count": 21,
      "outputs": []
    },
    {
      "cell_type": "code",
      "metadata": {
        "id": "l4axNOXPwfKG",
        "colab_type": "code",
        "colab": {
          "base_uri": "https://localhost:8080/",
          "height": 403
        },
        "outputId": "7369c6b3-88c3-445d-9ff5-c5cc87277eab"
      },
      "source": [
        "## Invoking draw_roc_curve with the KNN model\n",
        "_, _, _, _ = draw_roc_curve( knn_clf, test_X, test_y )"
      ],
      "execution_count": 22,
      "outputs": [
        {
          "output_type": "display_data",
          "data": {
            "image/png": "[encoded data removed]",
            "text/plain": [
              "<Figure size 576x432 with 1 Axes>"
            ]
          },
          "metadata": {
            "tags": [],
            "needs_background": "light"
          }
        }
      ]
    },
    {
      "cell_type": "markdown",
      "metadata": {
        "id": "yeqlHc4OxEEJ",
        "colab_type": "text"
      },
      "source": [
        "Confusion Matrix"
      ]
    },
    {
      "cell_type": "code",
      "metadata": {
        "id": "VkjnKDvzw28V",
        "colab_type": "code",
        "colab": {}
      },
      "source": [
        "## Importing the metrics\n",
        "from sklearn import metrics\n",
        "## Defining the matrix to draw the confusion metrix from actual and predicted class labels\n",
        "def draw_cm( actual, predicted ):\n",
        "  # Invoking confusion_matrix from metric package. The matrix will oriented as[1,0] i.e.\n",
        "  # the classes with label 1 will be reprensted the first row and 0 as secondrow\n",
        "  cm = metrics.confusion_matrix( actual, predicted, [1,0] )\n",
        "  ## Confustion will be plotted as heatmap for better visualization\n",
        "  ## The lables are configured to better interpretation from the plot\n",
        "  sn.heatmap(cm, annot=True, fmt='.2f',\n",
        "  xticklabels = [\"Subscribed\", \"Not Subscribed\"] ,\n",
        "  yticklabels = [\"Subscribed\", \"Not Subscribed\"] )\n",
        "  plt.ylabel('True label')\n",
        "  plt.xlabel('Predicted label')\n",
        "  plt.show()"
      ],
      "execution_count": 23,
      "outputs": []
    },
    {
      "cell_type": "code",
      "metadata": {
        "id": "fHfz1DYYxJdp",
        "colab_type": "code",
        "colab": {
          "base_uri": "https://localhost:8080/",
          "height": 278
        },
        "outputId": "7f736ce3-3c8a-4188-9edf-83c75d28bc58"
      },
      "source": [
        "## Predicting on test set\n",
        "pred_y = knn_clf.predict(test_X)\n",
        "## Drawing the confusion matrix for KNN model\n",
        "draw_cm( test_y, pred_y )"
      ],
      "execution_count": 24,
      "outputs": [
        {
          "output_type": "display_data",
          "data": {
            "image/png": "[encoded data removed]",
            "text/plain": [
              "<Figure size 432x288 with 2 Axes>"
            ]
          },
          "metadata": {
            "tags": [],
            "needs_background": "light"
          }
        }
      ]
    },
    {
      "cell_type": "code",
      "metadata": {
        "id": "_V6L4NXdxRq1",
        "colab_type": "code",
        "colab": {
          "base_uri": "https://localhost:8080/",
          "height": 163
        },
        "outputId": "13f3776e-693e-4c8e-c87c-5b5c95f20a28"
      },
      "source": [
        "print( metrics.classification_report( test_y, pred_y ) )"
      ],
      "execution_count": 25,
      "outputs": [
        {
          "output_type": "stream",
          "text": [
            "              precision    recall  f1-score   support\n",
            "\n",
            "           0       0.83      0.76      0.79      1227\n",
            "           1       0.56      0.67      0.61       573\n",
            "\n",
            "    accuracy                           0.73      1800\n",
            "   macro avg       0.70      0.72      0.70      1800\n",
            "weighted avg       0.75      0.73      0.74      1800\n",
            "\n"
          ],
          "name": "stdout"
        }
      ]
    },
    {
      "cell_type": "markdown",
      "metadata": {
        "id": "-uEl3JpM0vgE",
        "colab_type": "text"
      },
      "source": [
        "##Grid Search- For optimization"
      ]
    },
    {
      "cell_type": "code",
      "metadata": {
        "id": "QsbVwrewxYB9",
        "colab_type": "code",
        "colab": {
          "base_uri": "https://localhost:8080/",
          "height": 196
        },
        "outputId": "148a58e2-38d0-48e6-dd14-cc85c1f722e1"
      },
      "source": [
        "## Importing GridSearchCV\n",
        "from sklearn.model_selection import GridSearchCV\n",
        "## Creating a dictionary with hyperparameters and possible values for searching\n",
        "tuned_parameters = [{'n_neighbors': range(5,10),'metric': ['canberra', 'euclidean', 'minkowski']}]\n",
        "\n",
        "## Configuring grid search\n",
        "clf = GridSearchCV(KNeighborsClassifier(),tuned_parameters,cv=10,scoring='roc_auc') # 10 fold CV\n",
        "\n",
        "## fit the search with training set\n",
        "clf.fit(train_X, train_y )"
      ],
      "execution_count": 28,
      "outputs": [
        {
          "output_type": "execute_result",
          "data": {
            "text/plain": [
              "GridSearchCV(cv=10, error_score=nan,\n",
              "             estimator=KNeighborsClassifier(algorithm='auto', leaf_size=30,\n",
              "                                            metric='minkowski',\n",
              "                                            metric_params=None, n_jobs=None,\n",
              "                                            n_neighbors=5, p=2,\n",
              "                                            weights='uniform'),\n",
              "             iid='deprecated', n_jobs=None,\n",
              "             param_grid=[{'metric': ['canberra', 'euclidean', 'minkowski'],\n",
              "                          'n_neighbors': range(5, 10)}],\n",
              "             pre_dispatch='2*n_jobs', refit=True, return_train_score=False,\n",
              "             scoring='roc_auc', verbose=0)"
            ]
          },
          "metadata": {
            "tags": []
          },
          "execution_count": 28
        }
      ]
    },
    {
      "cell_type": "code",
      "metadata": {
        "id": "vVp2igoY00hG",
        "colab_type": "code",
        "colab": {
          "base_uri": "https://localhost:8080/",
          "height": 33
        },
        "outputId": "54de9477-87bd-46ba-ef7c-125033352e80"
      },
      "source": [
        "clf.best_score_"
      ],
      "execution_count": 29,
      "outputs": [
        {
          "output_type": "execute_result",
          "data": {
            "text/plain": [
              "0.8237839531520234"
            ]
          },
          "metadata": {
            "tags": []
          },
          "execution_count": 29
        }
      ]
    },
    {
      "cell_type": "code",
      "metadata": {
        "id": "k1sPVEKf1Kzt",
        "colab_type": "code",
        "colab": {
          "base_uri": "https://localhost:8080/",
          "height": 33
        },
        "outputId": "35648658-58ac-4553-bede-e8c430d908f6"
      },
      "source": [
        "clf.best_params_"
      ],
      "execution_count": 30,
      "outputs": [
        {
          "output_type": "execute_result",
          "data": {
            "text/plain": [
              "{'metric': 'canberra', 'n_neighbors': 5}"
            ]
          },
          "metadata": {
            "tags": []
          },
          "execution_count": 30
        }
      ]
    },
    {
      "cell_type": "code",
      "metadata": {
        "id": "7vdArnH91M2W",
        "colab_type": "code",
        "colab": {}
      },
      "source": [
        ""
      ],
      "execution_count": null,
      "outputs": []
    }
  ]
}