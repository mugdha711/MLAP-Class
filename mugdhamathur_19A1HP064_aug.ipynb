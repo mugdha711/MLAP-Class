{
  "nbformat": 4,
  "nbformat_minor": 0,
  "metadata": {
    "colab": {
      "name": "mugdhamathur-19A1HP064_aug.ipynb",
      "provenance": [],
      "toc_visible": true,
      "authorship_tag": "ABX9TyMj+vEXfALgOua1Axu4xM/c",
      "include_colab_link": true
    },
    "kernelspec": {
      "name": "python3",
      "display_name": "Python 3"
    }
  },
  "cells": [
    {
      "cell_type": "markdown",
      "metadata": {
        "id": "view-in-github",
        "colab_type": "text"
      },
      "source": [
        "<a href=\"https://colab.research.google.com/github/mugdha711/MLAP-Class/blob/master/mugdhamathur_19A1HP064_aug.ipynb\" target=\"_parent\"><img src=\"https://colab.research.google.com/assets/colab-badge.svg\" alt=\"Open In Colab\"/></a>"
      ]
    },
    {
      "cell_type": "markdown",
      "metadata": {
        "id": "0KKy1zODdtIO",
        "colab_type": "text"
      },
      "source": [
        "###**MUGDHA MATHUR 19A1HP064- MID TERM - ADVERTISEMENT**"
      ]
    },
    {
      "cell_type": "markdown",
      "metadata": {
        "id": "t9U8yK_md4Wj",
        "colab_type": "text"
      },
      "source": [
        "###### Q1. Typecasting"
      ]
    },
    {
      "cell_type": "code",
      "metadata": {
        "id": "qCcTtf1Mde-A",
        "colab_type": "code",
        "colab": {}
      },
      "source": [
        "import warnings\n",
        "warnings.filterwarnings('ignore') # to ignore warnings\n",
        "import pandas as pd #work on dataframes\n",
        "import numpy as np #to perform mathematical concepts\n",
        "\n",
        "np.set_printoptions(precision=4, linewidth=100) #set the precision scale to 4 decimals"
      ],
      "execution_count": null,
      "outputs": []
    },
    {
      "cell_type": "code",
      "metadata": {
        "id": "7-r7du5Cepdj",
        "colab_type": "code",
        "colab": {
          "base_uri": "https://localhost:8080/",
          "height": 206
        },
        "outputId": "ede7b0a2-bce2-44c5-9051-a80ca8e3b4df"
      },
      "source": [
        "ad_df= pd.read_csv(r\"/content/Advertising.csv\") #read datafile\n",
        "ad_df.head(5) #display top 5 rows"
      ],
      "execution_count": null,
      "outputs": [
        {
          "output_type": "execute_result",
          "data": {
            "text/html": [
              "<div>\n",
              "<style scoped>\n",
              "    .dataframe tbody tr th:only-of-type {\n",
              "        vertical-align: middle;\n",
              "    }\n",
              "\n",
              "    .dataframe tbody tr th {\n",
              "        vertical-align: top;\n",
              "    }\n",
              "\n",
              "    .dataframe thead th {\n",
              "        text-align: right;\n",
              "    }\n",
              "</style>\n",
              "<table border=\"1\" class=\"dataframe\">\n",
              "  <thead>\n",
              "    <tr style=\"text-align: right;\">\n",
              "      <th></th>\n",
              "      <th>Sno</th>\n",
              "      <th>TV</th>\n",
              "      <th>Radio</th>\n",
              "      <th>Newspaper</th>\n",
              "      <th>Day</th>\n",
              "      <th>Sales</th>\n",
              "    </tr>\n",
              "  </thead>\n",
              "  <tbody>\n",
              "    <tr>\n",
              "      <th>0</th>\n",
              "      <td>1</td>\n",
              "      <td>230.1</td>\n",
              "      <td>37.8</td>\n",
              "      <td>69.2</td>\n",
              "      <td>Weekend</td>\n",
              "      <td>10.1</td>\n",
              "    </tr>\n",
              "    <tr>\n",
              "      <th>1</th>\n",
              "      <td>2</td>\n",
              "      <td>44.5</td>\n",
              "      <td>39.3</td>\n",
              "      <td>45.1</td>\n",
              "      <td>Weekdays</td>\n",
              "      <td>8.0</td>\n",
              "    </tr>\n",
              "    <tr>\n",
              "      <th>2</th>\n",
              "      <td>3</td>\n",
              "      <td>17.2</td>\n",
              "      <td>45.9</td>\n",
              "      <td>69.3</td>\n",
              "      <td>Weekdays</td>\n",
              "      <td>10.3</td>\n",
              "    </tr>\n",
              "    <tr>\n",
              "      <th>3</th>\n",
              "      <td>4</td>\n",
              "      <td>151.5</td>\n",
              "      <td>41.3</td>\n",
              "      <td>58.5</td>\n",
              "      <td>Weekdays</td>\n",
              "      <td>25.4</td>\n",
              "    </tr>\n",
              "    <tr>\n",
              "      <th>4</th>\n",
              "      <td>5</td>\n",
              "      <td>180.8</td>\n",
              "      <td>10.8</td>\n",
              "      <td>58.4</td>\n",
              "      <td>Weekdays</td>\n",
              "      <td>13.6</td>\n",
              "    </tr>\n",
              "  </tbody>\n",
              "</table>\n",
              "</div>"
            ],
            "text/plain": [
              "   Sno     TV  Radio  Newspaper       Day  Sales\n",
              "0    1  230.1   37.8       69.2   Weekend   10.1\n",
              "1    2   44.5   39.3       45.1  Weekdays    8.0\n",
              "2    3   17.2   45.9       69.3  Weekdays   10.3\n",
              "3    4  151.5   41.3       58.5  Weekdays   25.4\n",
              "4    5  180.8   10.8       58.4  Weekdays   13.6"
            ]
          },
          "metadata": {
            "tags": []
          },
          "execution_count": 2
        }
      ]
    },
    {
      "cell_type": "code",
      "metadata": {
        "id": "8SKxJbvze91N",
        "colab_type": "code",
        "colab": {
          "base_uri": "https://localhost:8080/",
          "height": 256
        },
        "outputId": "03efec74-26f9-4cd1-9fa1-e269b605b1a8"
      },
      "source": [
        "ad_df.info() #to check if all datatypes are read correctly and also since the values should be 200 colunm with less values means have those many null value"
      ],
      "execution_count": null,
      "outputs": [
        {
          "output_type": "stream",
          "text": [
            "<class 'pandas.core.frame.DataFrame'>\n",
            "RangeIndex: 200 entries, 0 to 199\n",
            "Data columns (total 6 columns):\n",
            " #   Column     Non-Null Count  Dtype  \n",
            "---  ------     --------------  -----  \n",
            " 0   Sno        200 non-null    int64  \n",
            " 1   TV         199 non-null    float64\n",
            " 2   Radio      199 non-null    float64\n",
            " 3   Newspaper  199 non-null    float64\n",
            " 4   Day        197 non-null    object \n",
            " 5   Sales      200 non-null    float64\n",
            "dtypes: float64(4), int64(1), object(1)\n",
            "memory usage: 9.5+ KB\n"
          ],
          "name": "stdout"
        }
      ]
    },
    {
      "cell_type": "code",
      "metadata": {
        "id": "26HcvWnWfSNz",
        "colab_type": "code",
        "colab": {}
      },
      "source": [
        "#all the variables have been read as per the data so, we don't need to ,make any changes"
      ],
      "execution_count": null,
      "outputs": []
    },
    {
      "cell_type": "markdown",
      "metadata": {
        "id": "1joqKdbbfjkK",
        "colab_type": "text"
      },
      "source": [
        "###### Q2. Missing Values"
      ]
    },
    {
      "cell_type": "code",
      "metadata": {
        "id": "14IRpR2affn8",
        "colab_type": "code",
        "colab": {
          "base_uri": "https://localhost:8080/",
          "height": 35
        },
        "outputId": "c48e899f-54a1-4fb3-fd7e-96a2cf8007ce"
      },
      "source": [
        "#get total rows and columns \n",
        "ad_df.shape"
      ],
      "execution_count": null,
      "outputs": [
        {
          "output_type": "execute_result",
          "data": {
            "text/plain": [
              "(200, 6)"
            ]
          },
          "metadata": {
            "tags": []
          },
          "execution_count": 5
        }
      ]
    },
    {
      "cell_type": "code",
      "metadata": {
        "id": "9IuLdk7fU9xH",
        "colab_type": "code",
        "colab": {
          "base_uri": "https://localhost:8080/",
          "height": 146
        },
        "outputId": "fd957c9d-fcff-4825-b52c-f68bed8ec0da"
      },
      "source": [
        "ad_df.isna().sum() #column wise missing value\n"
      ],
      "execution_count": null,
      "outputs": [
        {
          "output_type": "execute_result",
          "data": {
            "text/plain": [
              "Sno          0\n",
              "TV           1\n",
              "Radio        1\n",
              "Newspaper    1\n",
              "Day          3\n",
              "Sales        0\n",
              "dtype: int64"
            ]
          },
          "metadata": {
            "tags": []
          },
          "execution_count": 6
        }
      ]
    },
    {
      "cell_type": "code",
      "metadata": {
        "id": "5yDh3ENof_QB",
        "colab_type": "code",
        "colab": {
          "base_uri": "https://localhost:8080/",
          "height": 143
        },
        "outputId": "ffe58323-cebf-4d61-bbee-056dc2524271"
      },
      "source": [
        "#find missing value and show rows with missing values\n",
        "ad_df[ad_df.Day.isnull() | ad_df.Sales.isnull() | ad_df.Newspaper.isnull() | ad_df.Radio.isnull() | ad_df.TV.isnull()]"
      ],
      "execution_count": null,
      "outputs": [
        {
          "output_type": "execute_result",
          "data": {
            "text/html": [
              "<div>\n",
              "<style scoped>\n",
              "    .dataframe tbody tr th:only-of-type {\n",
              "        vertical-align: middle;\n",
              "    }\n",
              "\n",
              "    .dataframe tbody tr th {\n",
              "        vertical-align: top;\n",
              "    }\n",
              "\n",
              "    .dataframe thead th {\n",
              "        text-align: right;\n",
              "    }\n",
              "</style>\n",
              "<table border=\"1\" class=\"dataframe\">\n",
              "  <thead>\n",
              "    <tr style=\"text-align: right;\">\n",
              "      <th></th>\n",
              "      <th>Sno</th>\n",
              "      <th>TV</th>\n",
              "      <th>Radio</th>\n",
              "      <th>Newspaper</th>\n",
              "      <th>Day</th>\n",
              "      <th>Sales</th>\n",
              "    </tr>\n",
              "  </thead>\n",
              "  <tbody>\n",
              "    <tr>\n",
              "      <th>16</th>\n",
              "      <td>17</td>\n",
              "      <td>67.8</td>\n",
              "      <td>36.6</td>\n",
              "      <td>NaN</td>\n",
              "      <td>NaN</td>\n",
              "      <td>3.2</td>\n",
              "    </tr>\n",
              "    <tr>\n",
              "      <th>42</th>\n",
              "      <td>43</td>\n",
              "      <td>293.6</td>\n",
              "      <td>NaN</td>\n",
              "      <td>1.8</td>\n",
              "      <td>NaN</td>\n",
              "      <td>10.4</td>\n",
              "    </tr>\n",
              "    <tr>\n",
              "      <th>68</th>\n",
              "      <td>69</td>\n",
              "      <td>NaN</td>\n",
              "      <td>27.5</td>\n",
              "      <td>11.0</td>\n",
              "      <td>NaN</td>\n",
              "      <td>12.8</td>\n",
              "    </tr>\n",
              "  </tbody>\n",
              "</table>\n",
              "</div>"
            ],
            "text/plain": [
              "    Sno     TV  Radio  Newspaper  Day  Sales\n",
              "16   17   67.8   36.6        NaN  NaN    3.2\n",
              "42   43  293.6    NaN        1.8  NaN   10.4\n",
              "68   69    NaN   27.5       11.0  NaN   12.8"
            ]
          },
          "metadata": {
            "tags": []
          },
          "execution_count": 7
        }
      ]
    },
    {
      "cell_type": "code",
      "metadata": {
        "id": "t2BfHmEzhTcy",
        "colab_type": "code",
        "colab": {
          "base_uri": "https://localhost:8080/",
          "height": 35
        },
        "outputId": "15c71b42-0885-406f-b50a-8ab54efbf177"
      },
      "source": [
        "#drop rows with missing values as by default axis=0 and select rows\n",
        "ad_df= ad_df.dropna(subset=['TV', 'Radio', 'Day']) \n",
        "ad_df.shape"
      ],
      "execution_count": null,
      "outputs": [
        {
          "output_type": "execute_result",
          "data": {
            "text/plain": [
              "(197, 6)"
            ]
          },
          "metadata": {
            "tags": []
          },
          "execution_count": 8
        }
      ]
    },
    {
      "cell_type": "code",
      "metadata": {
        "id": "D1VOjGR5hsoW",
        "colab_type": "code",
        "colab": {
          "base_uri": "https://localhost:8080/",
          "height": 49
        },
        "outputId": "7b0ca98c-749c-41c7-9bf3-f67847e52fd7"
      },
      "source": [
        "#thus 3 rows have been removed as now no. of rows have decreased from 200 to 197\n",
        "ad_df[ad_df.Day.isnull() | ad_df.Sales.isnull() | ad_df.Newspaper.isnull() | ad_df.Radio.isnull() | ad_df.TV.isnull()]"
      ],
      "execution_count": null,
      "outputs": [
        {
          "output_type": "execute_result",
          "data": {
            "text/html": [
              "<div>\n",
              "<style scoped>\n",
              "    .dataframe tbody tr th:only-of-type {\n",
              "        vertical-align: middle;\n",
              "    }\n",
              "\n",
              "    .dataframe tbody tr th {\n",
              "        vertical-align: top;\n",
              "    }\n",
              "\n",
              "    .dataframe thead th {\n",
              "        text-align: right;\n",
              "    }\n",
              "</style>\n",
              "<table border=\"1\" class=\"dataframe\">\n",
              "  <thead>\n",
              "    <tr style=\"text-align: right;\">\n",
              "      <th></th>\n",
              "      <th>Sno</th>\n",
              "      <th>TV</th>\n",
              "      <th>Radio</th>\n",
              "      <th>Newspaper</th>\n",
              "      <th>Day</th>\n",
              "      <th>Sales</th>\n",
              "    </tr>\n",
              "  </thead>\n",
              "  <tbody>\n",
              "  </tbody>\n",
              "</table>\n",
              "</div>"
            ],
            "text/plain": [
              "Empty DataFrame\n",
              "Columns: [Sno, TV, Radio, Newspaper, Day, Sales]\n",
              "Index: []"
            ]
          },
          "metadata": {
            "tags": []
          },
          "execution_count": 9
        }
      ]
    },
    {
      "cell_type": "markdown",
      "metadata": {
        "id": "RhgC9GCZh8yN",
        "colab_type": "text"
      },
      "source": [
        "##### Q3. Encoding Categorical Variable"
      ]
    },
    {
      "cell_type": "code",
      "metadata": {
        "id": "eA_0RaYqh4vP",
        "colab_type": "code",
        "colab": {
          "base_uri": "https://localhost:8080/",
          "height": 35
        },
        "outputId": "1324f204-0420-4fb4-d85e-f086df266d94"
      },
      "source": [
        "ad_df.columns #gives all the columns"
      ],
      "execution_count": null,
      "outputs": [
        {
          "output_type": "execute_result",
          "data": {
            "text/plain": [
              "Index(['Sno', 'TV', 'Radio', 'Newspaper', 'Day', 'Sales'], dtype='object')"
            ]
          },
          "metadata": {
            "tags": []
          },
          "execution_count": 10
        }
      ]
    },
    {
      "cell_type": "code",
      "metadata": {
        "id": "yV09qA58iLU_",
        "colab_type": "code",
        "colab": {}
      },
      "source": [
        "x_features=['TV', 'Radio', 'Newspaper', 'Day'] #set independent variables\n"
      ],
      "execution_count": null,
      "outputs": []
    },
    {
      "cell_type": "code",
      "metadata": {
        "id": "B_e8kQlkinzv",
        "colab_type": "code",
        "colab": {
          "base_uri": "https://localhost:8080/",
          "height": 35
        },
        "outputId": "16784e47-7e3c-4df5-9d92-4b86e67392e2"
      },
      "source": [
        "ad_df['Day'].unique() # we have only 1 categorical variable and we want to know the details of unique value"
      ],
      "execution_count": null,
      "outputs": [
        {
          "output_type": "execute_result",
          "data": {
            "text/plain": [
              "array(['Weekend', 'Weekdays', 'Holiday'], dtype=object)"
            ]
          },
          "metadata": {
            "tags": []
          },
          "execution_count": 17
        }
      ]
    },
    {
      "cell_type": "code",
      "metadata": {
        "id": "tm10Aia0i64e",
        "colab_type": "code",
        "colab": {}
      },
      "source": [
        "ad_df_encoded= pd.get_dummies(ad_df[x_features], columns= ['Day'], drop_first= True) #encode the categorical variable"
      ],
      "execution_count": null,
      "outputs": []
    },
    {
      "cell_type": "code",
      "metadata": {
        "id": "dcXdGn4Rke0Z",
        "colab_type": "code",
        "colab": {
          "base_uri": "https://localhost:8080/",
          "height": 35
        },
        "outputId": "c5610927-eca3-49eb-acce-3cc75aeba1a4"
      },
      "source": [
        "ad_df_encoded.columns #check columns"
      ],
      "execution_count": null,
      "outputs": [
        {
          "output_type": "execute_result",
          "data": {
            "text/plain": [
              "Index(['TV', 'Radio', 'Newspaper', 'Day_Weekdays', 'Day_Weekend'], dtype='object')"
            ]
          },
          "metadata": {
            "tags": []
          },
          "execution_count": 14
        }
      ]
    },
    {
      "cell_type": "code",
      "metadata": {
        "id": "Y8fViHJBkmgL",
        "colab_type": "code",
        "colab": {
          "base_uri": "https://localhost:8080/",
          "height": 35
        },
        "outputId": "37cb383c-064d-4683-fafc-bcb2e0f5f5ae"
      },
      "source": [
        "x_features= ad_df_encoded.columns #change the x features\n",
        "x_features"
      ],
      "execution_count": null,
      "outputs": [
        {
          "output_type": "execute_result",
          "data": {
            "text/plain": [
              "Index(['TV', 'Radio', 'Newspaper', 'Day_Weekdays', 'Day_Weekend'], dtype='object')"
            ]
          },
          "metadata": {
            "tags": []
          },
          "execution_count": 15
        }
      ]
    },
    {
      "cell_type": "markdown",
      "metadata": {
        "id": "r6LaE9vqnxfn",
        "colab_type": "text"
      },
      "source": [
        "##### Q4. Descriptive summary"
      ]
    },
    {
      "cell_type": "code",
      "metadata": {
        "id": "vDn7x_nznw3U",
        "colab_type": "code",
        "colab": {
          "base_uri": "https://localhost:8080/",
          "height": 300
        },
        "outputId": "9e53de39-374a-49e0-e4bd-d52ebb980b8c"
      },
      "source": [
        "ad_df[['TV', 'Radio', 'Newspaper', 'Sales']].describe() #gives all statisical values or ad_df.describe()"
      ],
      "execution_count": null,
      "outputs": [
        {
          "output_type": "execute_result",
          "data": {
            "text/html": [
              "<div>\n",
              "<style scoped>\n",
              "    .dataframe tbody tr th:only-of-type {\n",
              "        vertical-align: middle;\n",
              "    }\n",
              "\n",
              "    .dataframe tbody tr th {\n",
              "        vertical-align: top;\n",
              "    }\n",
              "\n",
              "    .dataframe thead th {\n",
              "        text-align: right;\n",
              "    }\n",
              "</style>\n",
              "<table border=\"1\" class=\"dataframe\">\n",
              "  <thead>\n",
              "    <tr style=\"text-align: right;\">\n",
              "      <th></th>\n",
              "      <th>TV</th>\n",
              "      <th>Radio</th>\n",
              "      <th>Newspaper</th>\n",
              "      <th>Sales</th>\n",
              "    </tr>\n",
              "  </thead>\n",
              "  <tbody>\n",
              "    <tr>\n",
              "      <th>count</th>\n",
              "      <td>197.000000</td>\n",
              "      <td>197.000000</td>\n",
              "      <td>197.000000</td>\n",
              "      <td>197.000000</td>\n",
              "    </tr>\n",
              "    <tr>\n",
              "      <th>mean</th>\n",
              "      <td>146.242132</td>\n",
              "      <td>23.152284</td>\n",
              "      <td>30.375635</td>\n",
              "      <td>14.102030</td>\n",
              "    </tr>\n",
              "    <tr>\n",
              "      <th>std</th>\n",
              "      <td>85.439138</td>\n",
              "      <td>14.922793</td>\n",
              "      <td>20.972370</td>\n",
              "      <td>5.192302</td>\n",
              "    </tr>\n",
              "    <tr>\n",
              "      <th>min</th>\n",
              "      <td>0.700000</td>\n",
              "      <td>0.000000</td>\n",
              "      <td>0.300000</td>\n",
              "      <td>1.600000</td>\n",
              "    </tr>\n",
              "    <tr>\n",
              "      <th>25%</th>\n",
              "      <td>74.700000</td>\n",
              "      <td>9.900000</td>\n",
              "      <td>12.900000</td>\n",
              "      <td>10.400000</td>\n",
              "    </tr>\n",
              "    <tr>\n",
              "      <th>50%</th>\n",
              "      <td>149.700000</td>\n",
              "      <td>22.300000</td>\n",
              "      <td>25.900000</td>\n",
              "      <td>12.900000</td>\n",
              "    </tr>\n",
              "    <tr>\n",
              "      <th>75%</th>\n",
              "      <td>218.400000</td>\n",
              "      <td>36.500000</td>\n",
              "      <td>45.100000</td>\n",
              "      <td>17.400000</td>\n",
              "    </tr>\n",
              "    <tr>\n",
              "      <th>max</th>\n",
              "      <td>296.400000</td>\n",
              "      <td>49.600000</td>\n",
              "      <td>100.900000</td>\n",
              "      <td>27.000000</td>\n",
              "    </tr>\n",
              "  </tbody>\n",
              "</table>\n",
              "</div>"
            ],
            "text/plain": [
              "               TV       Radio   Newspaper       Sales\n",
              "count  197.000000  197.000000  197.000000  197.000000\n",
              "mean   146.242132   23.152284   30.375635   14.102030\n",
              "std     85.439138   14.922793   20.972370    5.192302\n",
              "min      0.700000    0.000000    0.300000    1.600000\n",
              "25%     74.700000    9.900000   12.900000   10.400000\n",
              "50%    149.700000   22.300000   25.900000   12.900000\n",
              "75%    218.400000   36.500000   45.100000   17.400000\n",
              "max    296.400000   49.600000  100.900000   27.000000"
            ]
          },
          "metadata": {
            "tags": []
          },
          "execution_count": 58
        }
      ]
    },
    {
      "cell_type": "markdown",
      "metadata": {
        "id": "9Gf_bqWIG5ng",
        "colab_type": "text"
      },
      "source": [
        "##### Q5. Vizualisation"
      ]
    },
    {
      "cell_type": "code",
      "metadata": {
        "id": "w7bT6eThG3zv",
        "colab_type": "code",
        "colab": {
          "base_uri": "https://localhost:8080/",
          "height": 297
        },
        "outputId": "77f43bb1-b355-4801-f3a8-61fdbb94bf1d"
      },
      "source": [
        "import matplotlib.pyplot as plt # both imported for visualization purpose\n",
        "import seaborn as sn\n",
        "\n",
        "#bar plot\n",
        "sales_by_day = ad_df.groupby('Day')['Sales'].mean().reset_index()\n",
        "\n",
        "sn.barplot(x='Day', y='Sales', data=sales_by_day)"
      ],
      "execution_count": null,
      "outputs": [
        {
          "output_type": "execute_result",
          "data": {
            "text/plain": [
              "<matplotlib.axes._subplots.AxesSubplot at 0x7f66b962b6d8>"
            ]
          },
          "metadata": {
            "tags": []
          },
          "execution_count": 19
        },
        {
          "output_type": "display_data",
          "data": {
            "image/png": "[encoded data removed]",
            "text/plain": [
              "<Figure size 432x288 with 1 Axes>"
            ]
          },
          "metadata": {
            "tags": [],
            "needs_background": "light"
          }
        }
      ]
    },
    {
      "cell_type": "code",
      "metadata": {
        "id": "jRj4jeOKKEkH",
        "colab_type": "code",
        "colab": {}
      },
      "source": [
        "#Insight- It can be inferred that Sales were more on weekends as compared to the holidays and weekdays"
      ],
      "execution_count": null,
      "outputs": []
    },
    {
      "cell_type": "code",
      "metadata": {
        "id": "CrYD6fuaKSUl",
        "colab_type": "code",
        "colab": {
          "base_uri": "https://localhost:8080/",
          "height": 279
        },
        "outputId": "6ebdb1c7-d61f-4b22-e51a-07fbae378097"
      },
      "source": [
        "#Histogram\n",
        "\n",
        "sn.distplot( ad_df['Sales']);"
      ],
      "execution_count": null,
      "outputs": [
        {
          "output_type": "display_data",
          "data": {
            "image/png": "[encoded data removed]",
            "text/plain": [
              "<Figure size 432x288 with 1 Axes>"
            ]
          },
          "metadata": {
            "tags": [],
            "needs_background": "light"
          }
        }
      ]
    },
    {
      "cell_type": "code",
      "metadata": {
        "id": "tZjvmywIKSou",
        "colab_type": "code",
        "colab": {}
      },
      "source": [
        "#This shows how sales of the company is distributed across the continuous period "
      ],
      "execution_count": null,
      "outputs": []
    },
    {
      "cell_type": "code",
      "metadata": {
        "id": "6nfFpFY7KS5S",
        "colab_type": "code",
        "colab": {}
      },
      "source": [
        ""
      ],
      "execution_count": null,
      "outputs": []
    },
    {
      "cell_type": "markdown",
      "metadata": {
        "id": "nJ1FI28plIxe",
        "colab_type": "text"
      },
      "source": [
        "##### Q6. Split dataset"
      ]
    },
    {
      "cell_type": "code",
      "metadata": {
        "id": "S_1VC2bsk9Rh",
        "colab_type": "code",
        "colab": {}
      },
      "source": [
        "import statsmodels.api as sm #import stats model for model building\n",
        "from sklearn.model_selection import train_test_split #use sklearn for training and model testing\n",
        "\n",
        "x=sm.add_constant(ad_df_encoded)\n",
        "y= ad_df['Sales']"
      ],
      "execution_count": null,
      "outputs": []
    },
    {
      "cell_type": "code",
      "metadata": {
        "id": "eXLHLkdCmQNN",
        "colab_type": "code",
        "colab": {}
      },
      "source": [
        "train_x, test_x, train_y, test_y = train_test_split( x, y, train_size = 0.7, random_state = 60 )"
      ],
      "execution_count": null,
      "outputs": []
    },
    {
      "cell_type": "markdown",
      "metadata": {
        "id": "urOWsaDFmz1j",
        "colab_type": "text"
      },
      "source": [
        "##### Q7. Model Building"
      ]
    },
    {
      "cell_type": "code",
      "metadata": {
        "id": "f9VV4ADcmjRT",
        "colab_type": "code",
        "colab": {}
      },
      "source": [
        "#on training data\n",
        "ad_model1=sm.OLS(train_y, train_x).fit() #model creation using ordinary least square method\n"
      ],
      "execution_count": null,
      "outputs": []
    },
    {
      "cell_type": "code",
      "metadata": {
        "id": "ZCFE16LGnWmc",
        "colab_type": "code",
        "colab": {
          "base_uri": "https://localhost:8080/",
          "height": 572
        },
        "outputId": "72b55a1f-00ba-4409-b9ca-96e24f16e00f"
      },
      "source": [
        "ad_model1.summary() #give model summary"
      ],
      "execution_count": null,
      "outputs": [
        {
          "output_type": "execute_result",
          "data": {
            "text/html": [
              "<table class=\"simpletable\">\n",
              "<caption>OLS Regression Results</caption>\n",
              "<tr>\n",
              "  <th>Dep. Variable:</th>          <td>Sales</td>      <th>  R-squared:         </th> <td>   0.015</td>\n",
              "</tr>\n",
              "<tr>\n",
              "  <th>Model:</th>                   <td>OLS</td>       <th>  Adj. R-squared:    </th> <td>  -0.022</td>\n",
              "</tr>\n",
              "<tr>\n",
              "  <th>Method:</th>             <td>Least Squares</td>  <th>  F-statistic:       </th> <td>  0.4021</td>\n",
              "</tr>\n",
              "<tr>\n",
              "  <th>Date:</th>             <td>Wed, 26 Aug 2020</td> <th>  Prob (F-statistic):</th>  <td> 0.847</td> \n",
              "</tr>\n",
              "<tr>\n",
              "  <th>Time:</th>                 <td>09:48:54</td>     <th>  Log-Likelihood:    </th> <td> -413.53</td>\n",
              "</tr>\n",
              "<tr>\n",
              "  <th>No. Observations:</th>      <td>   137</td>      <th>  AIC:               </th> <td>   839.1</td>\n",
              "</tr>\n",
              "<tr>\n",
              "  <th>Df Residuals:</th>          <td>   131</td>      <th>  BIC:               </th> <td>   856.6</td>\n",
              "</tr>\n",
              "<tr>\n",
              "  <th>Df Model:</th>              <td>     5</td>      <th>                     </th>     <td> </td>   \n",
              "</tr>\n",
              "<tr>\n",
              "  <th>Covariance Type:</th>      <td>nonrobust</td>    <th>                     </th>     <td> </td>   \n",
              "</tr>\n",
              "</table>\n",
              "<table class=\"simpletable\">\n",
              "<tr>\n",
              "        <td></td>          <th>coef</th>     <th>std err</th>      <th>t</th>      <th>P>|t|</th>  <th>[0.025</th>    <th>0.975]</th>  \n",
              "</tr>\n",
              "<tr>\n",
              "  <th>const</th>        <td>   13.0346</td> <td>    5.557</td> <td>    2.345</td> <td> 0.021</td> <td>    2.041</td> <td>   24.028</td>\n",
              "</tr>\n",
              "<tr>\n",
              "  <th>TV</th>           <td>    0.0041</td> <td>    0.007</td> <td>    0.595</td> <td> 0.553</td> <td>   -0.010</td> <td>    0.018</td>\n",
              "</tr>\n",
              "<tr>\n",
              "  <th>Radio</th>        <td>    0.0270</td> <td>    0.032</td> <td>    0.857</td> <td> 0.393</td> <td>   -0.035</td> <td>    0.089</td>\n",
              "</tr>\n",
              "<tr>\n",
              "  <th>Newspaper</th>    <td>   -0.0081</td> <td>    0.022</td> <td>   -0.371</td> <td> 0.711</td> <td>   -0.051</td> <td>    0.035</td>\n",
              "</tr>\n",
              "<tr>\n",
              "  <th>Day_Weekdays</th> <td>   -0.0307</td> <td>    5.232</td> <td>   -0.006</td> <td> 0.995</td> <td>  -10.382</td> <td>   10.320</td>\n",
              "</tr>\n",
              "<tr>\n",
              "  <th>Day_Weekend</th>  <td>    0.4304</td> <td>    5.215</td> <td>    0.083</td> <td> 0.934</td> <td>   -9.887</td> <td>   10.748</td>\n",
              "</tr>\n",
              "</table>\n",
              "<table class=\"simpletable\">\n",
              "<tr>\n",
              "  <th>Omnibus:</th>       <td> 4.880</td> <th>  Durbin-Watson:     </th> <td>   1.792</td>\n",
              "</tr>\n",
              "<tr>\n",
              "  <th>Prob(Omnibus):</th> <td> 0.087</td> <th>  Jarque-Bera (JB):  </th> <td>   4.978</td>\n",
              "</tr>\n",
              "<tr>\n",
              "  <th>Skew:</th>          <td> 0.450</td> <th>  Prob(JB):          </th> <td>  0.0830</td>\n",
              "</tr>\n",
              "<tr>\n",
              "  <th>Kurtosis:</th>      <td> 2.751</td> <th>  Cond. No.          </th> <td>3.54e+03</td>\n",
              "</tr>\n",
              "</table><br/><br/>Warnings:<br/>[1] Standard Errors assume that the covariance matrix of the errors is correctly specified.<br/>[2] The condition number is large, 3.54e+03. This might indicate that there are<br/>strong multicollinearity or other numerical problems."
            ],
            "text/plain": [
              "<class 'statsmodels.iolib.summary.Summary'>\n",
              "\"\"\"\n",
              "                            OLS Regression Results                            \n",
              "==============================================================================\n",
              "Dep. Variable:                  Sales   R-squared:                       0.015\n",
              "Model:                            OLS   Adj. R-squared:                 -0.022\n",
              "Method:                 Least Squares   F-statistic:                    0.4021\n",
              "Date:                Wed, 26 Aug 2020   Prob (F-statistic):              0.847\n",
              "Time:                        09:48:54   Log-Likelihood:                -413.53\n",
              "No. Observations:                 137   AIC:                             839.1\n",
              "Df Residuals:                     131   BIC:                             856.6\n",
              "Df Model:                           5                                         \n",
              "Covariance Type:            nonrobust                                         \n",
              "================================================================================\n",
              "                   coef    std err          t      P>|t|      [0.025      0.975]\n",
              "--------------------------------------------------------------------------------\n",
              "const           13.0346      5.557      2.345      0.021       2.041      24.028\n",
              "TV               0.0041      0.007      0.595      0.553      -0.010       0.018\n",
              "Radio            0.0270      0.032      0.857      0.393      -0.035       0.089\n",
              "Newspaper       -0.0081      0.022     -0.371      0.711      -0.051       0.035\n",
              "Day_Weekdays    -0.0307      5.232     -0.006      0.995     -10.382      10.320\n",
              "Day_Weekend      0.4304      5.215      0.083      0.934      -9.887      10.748\n",
              "==============================================================================\n",
              "Omnibus:                        4.880   Durbin-Watson:                   1.792\n",
              "Prob(Omnibus):                  0.087   Jarque-Bera (JB):                4.978\n",
              "Skew:                           0.450   Prob(JB):                       0.0830\n",
              "Kurtosis:                       2.751   Cond. No.                     3.54e+03\n",
              "==============================================================================\n",
              "\n",
              "Warnings:\n",
              "[1] Standard Errors assume that the covariance matrix of the errors is correctly specified.\n",
              "[2] The condition number is large, 3.54e+03. This might indicate that there are\n",
              "strong multicollinearity or other numerical problems.\n",
              "\"\"\""
            ]
          },
          "metadata": {
            "tags": []
          },
          "execution_count": 26
        }
      ]
    },
    {
      "cell_type": "code",
      "metadata": {
        "id": "6d6L4oyLoj2g",
        "colab_type": "code",
        "colab": {}
      },
      "source": [
        "#as p value is much more than 0.05(5%significance) for all features there is a high chance of multi collinearity\n",
        "#Equation of Model 1\n",
        "#Sales= 13.0346 + 0.0041*TV_ad +0.0270*Radio -0.0081*NEwspaper  \t-0.0307*Weekday +0.4304*Weekend + 5.557"
      ],
      "execution_count": null,
      "outputs": []
    },
    {
      "cell_type": "markdown",
      "metadata": {
        "id": "llTlNoDjpcQy",
        "colab_type": "text"
      },
      "source": [
        "Multicollinearity"
      ]
    },
    {
      "cell_type": "code",
      "metadata": {
        "id": "TqjA1KALpNcO",
        "colab_type": "code",
        "colab": {}
      },
      "source": [
        "from statsmodels.stats.outliers_influence import variance_inflation_factor # to calculate vif\n",
        "\n",
        "def get_vif_factors( X ): #function for vif calculation\n",
        "  X_matrix = X.values #matrix of features (as_matrix has been deprecated and thus use values for creating matrix)\n",
        "  vif = [ variance_inflation_factor( X_matrix, i ) for i in range( X_matrix.shape[1] ) ] #for all features calculate vif\n",
        "  vif_factors = pd.DataFrame() #dataframe creation\n",
        "  vif_factors['column'] = X.columns #column 1 is called coulmn name , means x featres\n",
        "  vif_factors['vif'] = vif #column 2 is the vif values corresponding to columns\n",
        "  \n",
        "  return vif_factors"
      ],
      "execution_count": null,
      "outputs": []
    },
    {
      "cell_type": "code",
      "metadata": {
        "id": "yroPdwPrqAEi",
        "colab_type": "code",
        "colab": {
          "base_uri": "https://localhost:8080/",
          "height": 206
        },
        "outputId": "70263cfd-1347-4bbf-f0e7-e42bda396d18"
      },
      "source": [
        "vif_factors = get_vif_factors( x[x_features] ) #calling vif function/method\n",
        "vif_factors"
      ],
      "execution_count": null,
      "outputs": [
        {
          "output_type": "execute_result",
          "data": {
            "text/html": [
              "<div>\n",
              "<style scoped>\n",
              "    .dataframe tbody tr th:only-of-type {\n",
              "        vertical-align: middle;\n",
              "    }\n",
              "\n",
              "    .dataframe tbody tr th {\n",
              "        vertical-align: top;\n",
              "    }\n",
              "\n",
              "    .dataframe thead th {\n",
              "        text-align: right;\n",
              "    }\n",
              "</style>\n",
              "<table border=\"1\" class=\"dataframe\">\n",
              "  <thead>\n",
              "    <tr style=\"text-align: right;\">\n",
              "      <th></th>\n",
              "      <th>column</th>\n",
              "      <th>vif</th>\n",
              "    </tr>\n",
              "  </thead>\n",
              "  <tbody>\n",
              "    <tr>\n",
              "      <th>0</th>\n",
              "      <td>TV</td>\n",
              "      <td>5.972512</td>\n",
              "    </tr>\n",
              "    <tr>\n",
              "      <th>1</th>\n",
              "      <td>Radio</td>\n",
              "      <td>3.930583</td>\n",
              "    </tr>\n",
              "    <tr>\n",
              "      <th>2</th>\n",
              "      <td>Newspaper</td>\n",
              "      <td>3.499641</td>\n",
              "    </tr>\n",
              "    <tr>\n",
              "      <th>3</th>\n",
              "      <td>Day_Weekdays</td>\n",
              "      <td>4.513938</td>\n",
              "    </tr>\n",
              "    <tr>\n",
              "      <th>4</th>\n",
              "      <td>Day_Weekend</td>\n",
              "      <td>4.048673</td>\n",
              "    </tr>\n",
              "  </tbody>\n",
              "</table>\n",
              "</div>"
            ],
            "text/plain": [
              "         column       vif\n",
              "0            TV  5.972512\n",
              "1         Radio  3.930583\n",
              "2     Newspaper  3.499641\n",
              "3  Day_Weekdays  4.513938\n",
              "4   Day_Weekend  4.048673"
            ]
          },
          "metadata": {
            "tags": []
          },
          "execution_count": 29
        }
      ]
    },
    {
      "cell_type": "code",
      "metadata": {
        "id": "7GLMfl2lquGr",
        "colab_type": "code",
        "colab": {}
      },
      "source": [
        "#except for radio and newspaper, all have more than 4 vif, thus check heatmap and get correlation\n",
        "import matplotlib.pyplot as plt # both imported for visualization purpose\n",
        "import seaborn as sn\n",
        "\n",
        "col_large_vif= vif_factors[vif_factors.vif > 4].column #get all columns with high vif"
      ],
      "execution_count": null,
      "outputs": []
    },
    {
      "cell_type": "code",
      "metadata": {
        "id": "HjGSRTHZsWJw",
        "colab_type": "code",
        "colab": {
          "base_uri": "https://localhost:8080/",
          "height": 608
        },
        "outputId": "aacf3c27-d4e5-418f-83b5-ba882aea2e37"
      },
      "source": [
        "plt.figure( figsize = (12,10) ) #plot size\n",
        "sn.heatmap( x[col_large_vif].corr(), annot = True ); #heatmap creation among high vif features\n",
        "plt.title( \" Heatmap depicting correlation between features\"); #graph title"
      ],
      "execution_count": null,
      "outputs": [
        {
          "output_type": "display_data",
          "data": {
            "image/png": "[encoded data removed]",
            "text/plain": [
              "<Figure size 864x720 with 2 Axes>"
            ]
          },
          "metadata": {
            "tags": [],
            "needs_background": "light"
          }
        }
      ]
    },
    {
      "cell_type": "code",
      "metadata": {
        "id": "7iSuOA1stXzB",
        "colab_type": "code",
        "colab": {
          "base_uri": "https://localhost:8080/",
          "height": 35
        },
        "outputId": "f91bf3c4-1cb5-43b1-8095-f3140064f4bd"
      },
      "source": [
        "#we know that high correlation occurs when factor is more than 0.7thus we'll first just \n",
        "#remove day_weekend and day_weekdays and check the model\n",
        "\n",
        "columns_to_be_removed = ['Day_Weekdays', 'Day_Weekend']\n",
        "\n",
        "x_new_features = list( set(x_features) - set(columns_to_be_removed) )\n",
        "x_new_features"
      ],
      "execution_count": null,
      "outputs": [
        {
          "output_type": "execute_result",
          "data": {
            "text/plain": [
              "['Newspaper', 'Radio', 'TV']"
            ]
          },
          "metadata": {
            "tags": []
          },
          "execution_count": 62
        }
      ]
    },
    {
      "cell_type": "code",
      "metadata": {
        "id": "sMNxzqSBuyVg",
        "colab_type": "code",
        "colab": {
          "base_uri": "https://localhost:8080/",
          "height": 143
        },
        "outputId": "43ec6ee2-7297-4284-d32c-4f21cb7533a1"
      },
      "source": [
        "get_vif_factors(x[x_new_features])"
      ],
      "execution_count": null,
      "outputs": [
        {
          "output_type": "execute_result",
          "data": {
            "text/html": [
              "<div>\n",
              "<style scoped>\n",
              "    .dataframe tbody tr th:only-of-type {\n",
              "        vertical-align: middle;\n",
              "    }\n",
              "\n",
              "    .dataframe tbody tr th {\n",
              "        vertical-align: top;\n",
              "    }\n",
              "\n",
              "    .dataframe thead th {\n",
              "        text-align: right;\n",
              "    }\n",
              "</style>\n",
              "<table border=\"1\" class=\"dataframe\">\n",
              "  <thead>\n",
              "    <tr style=\"text-align: right;\">\n",
              "      <th></th>\n",
              "      <th>column</th>\n",
              "      <th>vif</th>\n",
              "    </tr>\n",
              "  </thead>\n",
              "  <tbody>\n",
              "    <tr>\n",
              "      <th>0</th>\n",
              "      <td>Newspaper</td>\n",
              "      <td>3.220280</td>\n",
              "    </tr>\n",
              "    <tr>\n",
              "      <th>1</th>\n",
              "      <td>Radio</td>\n",
              "      <td>3.251875</td>\n",
              "    </tr>\n",
              "    <tr>\n",
              "      <th>2</th>\n",
              "      <td>TV</td>\n",
              "      <td>2.553848</td>\n",
              "    </tr>\n",
              "  </tbody>\n",
              "</table>\n",
              "</div>"
            ],
            "text/plain": [
              "      column       vif\n",
              "0  Newspaper  3.220280\n",
              "1      Radio  3.251875\n",
              "2         TV  2.553848"
            ]
          },
          "metadata": {
            "tags": []
          },
          "execution_count": 63
        }
      ]
    },
    {
      "cell_type": "code",
      "metadata": {
        "id": "UK6MvyaGu9RW",
        "colab_type": "code",
        "colab": {}
      },
      "source": [
        "#hence we can see that now vif< 4 thus multicollinearity has been removed\n"
      ],
      "execution_count": null,
      "outputs": []
    },
    {
      "cell_type": "markdown",
      "metadata": {
        "id": "8Lhq_4fqvRnM",
        "colab_type": "text"
      },
      "source": [
        "New Model building - Model 2"
      ]
    },
    {
      "cell_type": "code",
      "metadata": {
        "id": "B2dXJJgnvXmP",
        "colab_type": "code",
        "colab": {
          "base_uri": "https://localhost:8080/",
          "height": 344
        },
        "outputId": "48b61e75-a245-4bb1-d621-8efc7ee924e0"
      },
      "source": [
        "\n",
        "#x=sm.add_constant(ad_df_encoded)\n",
        "\n",
        "train_x=train_x[x_new_features]\n",
        "ad_model2= sm.OLS(train_y, train_x).fit()\n",
        "ad_model2.summary2()"
      ],
      "execution_count": null,
      "outputs": [
        {
          "output_type": "execute_result",
          "data": {
            "text/html": [
              "<table class=\"simpletable\">\n",
              "<tr>\n",
              "          <td>Model:</td>                 <td>OLS</td>       <td>Adj. R-squared (uncentered):</td>   <td>0.773</td> \n",
              "</tr>\n",
              "<tr>\n",
              "    <td>Dependent Variable:</td>         <td>Sales</td>                  <td>AIC:</td>             <td>929.2286</td>\n",
              "</tr>\n",
              "<tr>\n",
              "           <td>Date:</td>          <td>2020-08-26 09:48</td>             <td>BIC:</td>             <td>937.9885</td>\n",
              "</tr>\n",
              "<tr>\n",
              "     <td>No. Observations:</td>           <td>137</td>              <td>Log-Likelihood:</td>        <td>-461.61</td>\n",
              "</tr>\n",
              "<tr>\n",
              "         <td>Df Model:</td>                <td>3</td>                <td>F-statistic:</td>           <td>156.3</td> \n",
              "</tr>\n",
              "<tr>\n",
              "       <td>Df Residuals:</td>             <td>134</td>            <td>Prob (F-statistic):</td>     <td>1.43e-43</td>\n",
              "</tr>\n",
              "<tr>\n",
              "  <td>R-squared (uncentered):</td>       <td>0.778</td>                 <td>Scale:</td>             <td>50.560</td> \n",
              "</tr>\n",
              "</table>\n",
              "<table class=\"simpletable\">\n",
              "<tr>\n",
              "      <td></td>       <th>Coef.</th> <th>Std.Err.</th>    <th>t</th>    <th>P>|t|</th> <th>[0.025</th> <th>0.975]</th>\n",
              "</tr>\n",
              "<tr>\n",
              "  <th>Newspaper</th> <td>0.0689</td>  <td>0.0291</td>  <td>2.3707</td> <td>0.0192</td> <td>0.0114</td> <td>0.1263</td>\n",
              "</tr>\n",
              "<tr>\n",
              "  <th>Radio</th>     <td>0.1929</td>  <td>0.0389</td>  <td>4.9596</td> <td>0.0000</td> <td>0.1160</td> <td>0.2698</td>\n",
              "</tr>\n",
              "<tr>\n",
              "  <th>TV</th>        <td>0.0412</td>  <td>0.0055</td>  <td>7.4738</td> <td>0.0000</td> <td>0.0303</td> <td>0.0522</td>\n",
              "</tr>\n",
              "</table>\n",
              "<table class=\"simpletable\">\n",
              "<tr>\n",
              "     <td>Omnibus:</td>    <td>1.905</td>  <td>Durbin-Watson:</td>   <td>1.729</td>\n",
              "</tr>\n",
              "<tr>\n",
              "  <td>Prob(Omnibus):</td> <td>0.386</td> <td>Jarque-Bera (JB):</td> <td>1.432</td>\n",
              "</tr>\n",
              "<tr>\n",
              "       <td>Skew:</td>     <td>0.208</td>     <td>Prob(JB):</td>     <td>0.489</td>\n",
              "</tr>\n",
              "<tr>\n",
              "     <td>Kurtosis:</td>   <td>3.278</td>  <td>Condition No.:</td>    <td>12</td>  \n",
              "</tr>\n",
              "</table>"
            ],
            "text/plain": [
              "<class 'statsmodels.iolib.summary2.Summary'>\n",
              "\"\"\"\n",
              "                       Results: Ordinary least squares\n",
              "==============================================================================\n",
              "Model:                  OLS              Adj. R-squared (uncentered): 0.773   \n",
              "Dependent Variable:     Sales            AIC:                         929.2286\n",
              "Date:                   2020-08-26 09:48 BIC:                         937.9885\n",
              "No. Observations:       137              Log-Likelihood:              -461.61 \n",
              "Df Model:               3                F-statistic:                 156.3   \n",
              "Df Residuals:           134              Prob (F-statistic):          1.43e-43\n",
              "R-squared (uncentered): 0.778            Scale:                       50.560  \n",
              "-----------------------------------------------------------------------------------\n",
              "               Coef.       Std.Err.        t         P>|t|       [0.025      0.975]\n",
              "-----------------------------------------------------------------------------------\n",
              "Newspaper      0.0689        0.0291      2.3707      0.0192      0.0114      0.1263\n",
              "Radio          0.1929        0.0389      4.9596      0.0000      0.1160      0.2698\n",
              "TV             0.0412        0.0055      7.4738      0.0000      0.0303      0.0522\n",
              "------------------------------------------------------------------------------\n",
              "Omnibus:                   1.905            Durbin-Watson:               1.729\n",
              "Prob(Omnibus):             0.386            Jarque-Bera (JB):            1.432\n",
              "Skew:                      0.208            Prob(JB):                    0.489\n",
              "Kurtosis:                  3.278            Condition No.:               12   \n",
              "==============================================================================\n",
              "\n",
              "\"\"\""
            ]
          },
          "metadata": {
            "tags": []
          },
          "execution_count": 35
        }
      ]
    },
    {
      "cell_type": "code",
      "metadata": {
        "id": "qqK8P0gVvxEo",
        "colab_type": "code",
        "colab": {}
      },
      "source": [
        "#now p values are less than 0.05 and these 3 factors all have significant influence on sales\n",
        "#Equation\n",
        "#Sales= #13.0346# + 0.0412*TV_ad +0.1929*Radio +0.0689*NEwspaper "
      ],
      "execution_count": null,
      "outputs": []
    },
    {
      "cell_type": "code",
      "metadata": {
        "id": "ybkY3jpcyqzk",
        "colab_type": "code",
        "colab": {}
      },
      "source": [
        ""
      ],
      "execution_count": null,
      "outputs": []
    },
    {
      "cell_type": "markdown",
      "metadata": {
        "id": "HPys0WXOyrZo",
        "colab_type": "text"
      },
      "source": [
        "#####Q7. Residual Analysis & Outlier Analysis"
      ]
    },
    {
      "cell_type": "code",
      "metadata": {
        "id": "Fvf0cwQSy9r1",
        "colab_type": "code",
        "colab": {}
      },
      "source": [
        "#Check normality of error- PP-Plot\n",
        "#function\n",
        "def draw_pp_plot( model, title ):\n",
        "  probplot = sm.ProbPlot( model.resid );\n",
        "  plt.figure( figsize = (8, 6) );\n",
        "  probplot.ppplot( line='45' );\n",
        "  plt.title( title );\n",
        "  plt.show();"
      ],
      "execution_count": null,
      "outputs": []
    },
    {
      "cell_type": "code",
      "metadata": {
        "id": "ATSRhEbAzNJ_",
        "colab_type": "code",
        "colab": {
          "base_uri": "https://localhost:8080/",
          "height": 313
        },
        "outputId": "6a1ae8b2-2713-40e1-9cb6-af40ad43abef"
      },
      "source": [
        "draw_pp_plot( ad_model2, \"Normal P-P Plot of Residuals \") # this graph shows that residuals are normal"
      ],
      "execution_count": null,
      "outputs": [
        {
          "output_type": "display_data",
          "data": {
            "text/plain": [
              "<Figure size 576x432 with 0 Axes>"
            ]
          },
          "metadata": {
            "tags": []
          }
        },
        {
          "output_type": "display_data",
          "data": {
            "image/png": "[encoded data removed]",
            "text/plain": [
              "<Figure size 432x288 with 1 Axes>"
            ]
          },
          "metadata": {
            "tags": [],
            "needs_background": "light"
          }
        }
      ]
    },
    {
      "cell_type": "code",
      "metadata": {
        "id": "YbLeO_crzvVt",
        "colab_type": "code",
        "colab": {}
      },
      "source": [
        "#scatter plot \n",
        "def get_standardized_values( vals ):\n",
        "  return (vals - vals.mean())/vals.std()\n",
        "\n",
        "def plot_resid_fitted( fitted, resid, title):\n",
        "  plt.scatter( get_standardized_values( fitted ), get_standardized_values( resid ) )\n",
        "  plt.title( title )\n",
        "  plt.xlabel( \"Standardized predicted values\")\n",
        "  plt.ylabel( \"Standardized residual values\")\n",
        "  plt.show()\n",
        "\n"
      ],
      "execution_count": null,
      "outputs": []
    },
    {
      "cell_type": "code",
      "metadata": {
        "id": "lKLTes2U0392",
        "colab_type": "code",
        "colab": {
          "base_uri": "https://localhost:8080/",
          "height": 295
        },
        "outputId": "126b922f-3cb0-4d49-cc98-aa11d338324d"
      },
      "source": [
        "plot_resid_fitted( ad_model2.fittedvalues,ad_model2.resid,\"Scatter Residual Plot\") \n",
        "#not funnel shaped and thus homoscadistic"
      ],
      "execution_count": null,
      "outputs": [
        {
          "output_type": "display_data",
          "data": {
            "image/png": "[encoded data removed]",
            "text/plain": [
              "<Figure size 432x288 with 1 Axes>"
            ]
          },
          "metadata": {
            "tags": [],
            "needs_background": "light"
          }
        }
      ]
    },
    {
      "cell_type": "markdown",
      "metadata": {
        "id": "5eX3udBg4gkJ",
        "colab_type": "text"
      },
      "source": [
        "Outlier Analysis"
      ]
    },
    {
      "cell_type": "code",
      "metadata": {
        "id": "JzZOgUjm0-LH",
        "colab_type": "code",
        "colab": {
          "base_uri": "https://localhost:8080/",
          "height": 446
        },
        "outputId": "832b5d6e-b4f5-4145-81e9-c761e7696c49"
      },
      "source": [
        "#1. Zscore\n",
        "\n",
        "k = train_x.shape[1]\n",
        "n = train_x.shape[0]\n",
        "print( \"Number of variables:\", k, \" and number of observations:\", n)\n",
        "leverage_cutoff = 3*((k + 1)/n)\n",
        "print( \"Cutoff for leverage value: \", round(leverage_cutoff, 3) )\n",
        "\n",
        "from statsmodels.graphics.regressionplots import influence_plot\n",
        "\n",
        "fig, ax = plt.subplots( figsize=(8,6) )\n",
        "influence_plot( ad_model2, ax = ax )\n",
        "plt.title( \"Leverage Value Vs Residuals\")\n",
        "plt.show()\n"
      ],
      "execution_count": null,
      "outputs": [
        {
          "output_type": "stream",
          "text": [
            "Number of variables: 3  and number of observations: 137\n",
            "Cutoff for leverage value:  0.088\n"
          ],
          "name": "stdout"
        },
        {
          "output_type": "display_data",
          "data": {
            "image/png": "[encoded data removed]",
            "text/plain": [
              "<Figure size 576x432 with 1 Axes>"
            ]
          },
          "metadata": {
            "tags": [],
            "needs_background": "light"
          }
        }
      ]
    },
    {
      "cell_type": "code",
      "metadata": {
        "id": "iviwzFcm5ehD",
        "colab_type": "code",
        "colab": {
          "base_uri": "https://localhost:8080/",
          "height": 81
        },
        "outputId": "4a4e1516-201f-48c3-ba97-2346cac28f0c"
      },
      "source": [
        "ad_df[ad_df.index.isin( [165] )] #outlier- value above 0.88 and bigger in size thus more inflence"
      ],
      "execution_count": null,
      "outputs": [
        {
          "output_type": "execute_result",
          "data": {
            "text/html": [
              "<div>\n",
              "<style scoped>\n",
              "    .dataframe tbody tr th:only-of-type {\n",
              "        vertical-align: middle;\n",
              "    }\n",
              "\n",
              "    .dataframe tbody tr th {\n",
              "        vertical-align: top;\n",
              "    }\n",
              "\n",
              "    .dataframe thead th {\n",
              "        text-align: right;\n",
              "    }\n",
              "</style>\n",
              "<table border=\"1\" class=\"dataframe\">\n",
              "  <thead>\n",
              "    <tr style=\"text-align: right;\">\n",
              "      <th></th>\n",
              "      <th>Sno</th>\n",
              "      <th>TV</th>\n",
              "      <th>Radio</th>\n",
              "      <th>Newspaper</th>\n",
              "      <th>Day</th>\n",
              "      <th>Sales</th>\n",
              "    </tr>\n",
              "  </thead>\n",
              "  <tbody>\n",
              "    <tr>\n",
              "      <th>165</th>\n",
              "      <td>166</td>\n",
              "      <td>234.5</td>\n",
              "      <td>3.4</td>\n",
              "      <td>84.8</td>\n",
              "      <td>Weekend</td>\n",
              "      <td>25.4</td>\n",
              "    </tr>\n",
              "  </tbody>\n",
              "</table>\n",
              "</div>"
            ],
            "text/plain": [
              "     Sno     TV  Radio  Newspaper      Day  Sales\n",
              "165  166  234.5    3.4       84.8  Weekend   25.4"
            ]
          },
          "metadata": {
            "tags": []
          },
          "execution_count": 42
        }
      ]
    },
    {
      "cell_type": "code",
      "metadata": {
        "id": "eYsPhdPR8A2f",
        "colab_type": "code",
        "colab": {}
      },
      "source": [
        "train_X_new = train_x.drop( [165], axis = 0)\n",
        "train_y_new = train_y.drop( [165], axis = 0)"
      ],
      "execution_count": null,
      "outputs": []
    },
    {
      "cell_type": "code",
      "metadata": {
        "id": "HExDr9-M9JzR",
        "colab_type": "code",
        "colab": {
          "base_uri": "https://localhost:8080/",
          "height": 424
        },
        "outputId": "46612efb-dc91-45be-a299-dfcef03874eb"
      },
      "source": [
        "train_X_new\n"
      ],
      "execution_count": null,
      "outputs": [
        {
          "output_type": "execute_result",
          "data": {
            "text/html": [
              "<div>\n",
              "<style scoped>\n",
              "    .dataframe tbody tr th:only-of-type {\n",
              "        vertical-align: middle;\n",
              "    }\n",
              "\n",
              "    .dataframe tbody tr th {\n",
              "        vertical-align: top;\n",
              "    }\n",
              "\n",
              "    .dataframe thead th {\n",
              "        text-align: right;\n",
              "    }\n",
              "</style>\n",
              "<table border=\"1\" class=\"dataframe\">\n",
              "  <thead>\n",
              "    <tr style=\"text-align: right;\">\n",
              "      <th></th>\n",
              "      <th>Newspaper</th>\n",
              "      <th>Radio</th>\n",
              "      <th>TV</th>\n",
              "    </tr>\n",
              "  </thead>\n",
              "  <tbody>\n",
              "    <tr>\n",
              "      <th>84</th>\n",
              "      <td>33.8</td>\n",
              "      <td>43.0</td>\n",
              "      <td>213.5</td>\n",
              "    </tr>\n",
              "    <tr>\n",
              "      <th>150</th>\n",
              "      <td>37.0</td>\n",
              "      <td>13.9</td>\n",
              "      <td>280.7</td>\n",
              "    </tr>\n",
              "    <tr>\n",
              "      <th>135</th>\n",
              "      <td>8.5</td>\n",
              "      <td>47.0</td>\n",
              "      <td>48.3</td>\n",
              "    </tr>\n",
              "    <tr>\n",
              "      <th>126</th>\n",
              "      <td>50.6</td>\n",
              "      <td>38.9</td>\n",
              "      <td>7.8</td>\n",
              "    </tr>\n",
              "    <tr>\n",
              "      <th>159</th>\n",
              "      <td>34.6</td>\n",
              "      <td>18.4</td>\n",
              "      <td>131.7</td>\n",
              "    </tr>\n",
              "    <tr>\n",
              "      <th>...</th>\n",
              "      <td>...</td>\n",
              "      <td>...</td>\n",
              "      <td>...</td>\n",
              "    </tr>\n",
              "    <tr>\n",
              "      <th>102</th>\n",
              "      <td>21.4</td>\n",
              "      <td>10.1</td>\n",
              "      <td>280.2</td>\n",
              "    </tr>\n",
              "    <tr>\n",
              "      <th>146</th>\n",
              "      <td>8.7</td>\n",
              "      <td>7.3</td>\n",
              "      <td>240.1</td>\n",
              "    </tr>\n",
              "    <tr>\n",
              "      <th>141</th>\n",
              "      <td>75.6</td>\n",
              "      <td>35.4</td>\n",
              "      <td>193.7</td>\n",
              "    </tr>\n",
              "    <tr>\n",
              "      <th>73</th>\n",
              "      <td>31.3</td>\n",
              "      <td>5.7</td>\n",
              "      <td>129.4</td>\n",
              "    </tr>\n",
              "    <tr>\n",
              "      <th>67</th>\n",
              "      <td>10.2</td>\n",
              "      <td>14.5</td>\n",
              "      <td>139.3</td>\n",
              "    </tr>\n",
              "  </tbody>\n",
              "</table>\n",
              "<p>136 rows × 3 columns</p>\n",
              "</div>"
            ],
            "text/plain": [
              "     Newspaper  Radio     TV\n",
              "84        33.8   43.0  213.5\n",
              "150       37.0   13.9  280.7\n",
              "135        8.5   47.0   48.3\n",
              "126       50.6   38.9    7.8\n",
              "159       34.6   18.4  131.7\n",
              "..         ...    ...    ...\n",
              "102       21.4   10.1  280.2\n",
              "146        8.7    7.3  240.1\n",
              "141       75.6   35.4  193.7\n",
              "73        31.3    5.7  129.4\n",
              "67        10.2   14.5  139.3\n",
              "\n",
              "[136 rows x 3 columns]"
            ]
          },
          "metadata": {
            "tags": []
          },
          "execution_count": 44
        }
      ]
    },
    {
      "cell_type": "code",
      "metadata": {
        "id": "P8AvOLQw9r3K",
        "colab_type": "code",
        "colab": {
          "base_uri": "https://localhost:8080/",
          "height": 424
        },
        "outputId": "307d9edb-0e14-4d31-c5c3-92f19c31ca62"
      },
      "source": [
        "train_x"
      ],
      "execution_count": null,
      "outputs": [
        {
          "output_type": "execute_result",
          "data": {
            "text/html": [
              "<div>\n",
              "<style scoped>\n",
              "    .dataframe tbody tr th:only-of-type {\n",
              "        vertical-align: middle;\n",
              "    }\n",
              "\n",
              "    .dataframe tbody tr th {\n",
              "        vertical-align: top;\n",
              "    }\n",
              "\n",
              "    .dataframe thead th {\n",
              "        text-align: right;\n",
              "    }\n",
              "</style>\n",
              "<table border=\"1\" class=\"dataframe\">\n",
              "  <thead>\n",
              "    <tr style=\"text-align: right;\">\n",
              "      <th></th>\n",
              "      <th>Newspaper</th>\n",
              "      <th>Radio</th>\n",
              "      <th>TV</th>\n",
              "    </tr>\n",
              "  </thead>\n",
              "  <tbody>\n",
              "    <tr>\n",
              "      <th>84</th>\n",
              "      <td>33.8</td>\n",
              "      <td>43.0</td>\n",
              "      <td>213.5</td>\n",
              "    </tr>\n",
              "    <tr>\n",
              "      <th>150</th>\n",
              "      <td>37.0</td>\n",
              "      <td>13.9</td>\n",
              "      <td>280.7</td>\n",
              "    </tr>\n",
              "    <tr>\n",
              "      <th>135</th>\n",
              "      <td>8.5</td>\n",
              "      <td>47.0</td>\n",
              "      <td>48.3</td>\n",
              "    </tr>\n",
              "    <tr>\n",
              "      <th>126</th>\n",
              "      <td>50.6</td>\n",
              "      <td>38.9</td>\n",
              "      <td>7.8</td>\n",
              "    </tr>\n",
              "    <tr>\n",
              "      <th>159</th>\n",
              "      <td>34.6</td>\n",
              "      <td>18.4</td>\n",
              "      <td>131.7</td>\n",
              "    </tr>\n",
              "    <tr>\n",
              "      <th>...</th>\n",
              "      <td>...</td>\n",
              "      <td>...</td>\n",
              "      <td>...</td>\n",
              "    </tr>\n",
              "    <tr>\n",
              "      <th>102</th>\n",
              "      <td>21.4</td>\n",
              "      <td>10.1</td>\n",
              "      <td>280.2</td>\n",
              "    </tr>\n",
              "    <tr>\n",
              "      <th>146</th>\n",
              "      <td>8.7</td>\n",
              "      <td>7.3</td>\n",
              "      <td>240.1</td>\n",
              "    </tr>\n",
              "    <tr>\n",
              "      <th>141</th>\n",
              "      <td>75.6</td>\n",
              "      <td>35.4</td>\n",
              "      <td>193.7</td>\n",
              "    </tr>\n",
              "    <tr>\n",
              "      <th>73</th>\n",
              "      <td>31.3</td>\n",
              "      <td>5.7</td>\n",
              "      <td>129.4</td>\n",
              "    </tr>\n",
              "    <tr>\n",
              "      <th>67</th>\n",
              "      <td>10.2</td>\n",
              "      <td>14.5</td>\n",
              "      <td>139.3</td>\n",
              "    </tr>\n",
              "  </tbody>\n",
              "</table>\n",
              "<p>137 rows × 3 columns</p>\n",
              "</div>"
            ],
            "text/plain": [
              "     Newspaper  Radio     TV\n",
              "84        33.8   43.0  213.5\n",
              "150       37.0   13.9  280.7\n",
              "135        8.5   47.0   48.3\n",
              "126       50.6   38.9    7.8\n",
              "159       34.6   18.4  131.7\n",
              "..         ...    ...    ...\n",
              "102       21.4   10.1  280.2\n",
              "146        8.7    7.3  240.1\n",
              "141       75.6   35.4  193.7\n",
              "73        31.3    5.7  129.4\n",
              "67        10.2   14.5  139.3\n",
              "\n",
              "[137 rows x 3 columns]"
            ]
          },
          "metadata": {
            "tags": []
          },
          "execution_count": 45
        }
      ]
    },
    {
      "cell_type": "code",
      "metadata": {
        "id": "_CsTjt4ECVWx",
        "colab_type": "code",
        "colab": {
          "base_uri": "https://localhost:8080/",
          "height": 344
        },
        "outputId": "a2d5f47d-86fd-4eb9-ce4f-849282d1a4ac"
      },
      "source": [
        "ad_model3= sm.OLS(train_y_new, train_X_new).fit()\n",
        "ad_model3.summary2()"
      ],
      "execution_count": null,
      "outputs": [
        {
          "output_type": "execute_result",
          "data": {
            "text/html": [
              "<table class=\"simpletable\">\n",
              "<tr>\n",
              "          <td>Model:</td>                 <td>OLS</td>       <td>Adj. R-squared (uncentered):</td>   <td>0.771</td> \n",
              "</tr>\n",
              "<tr>\n",
              "    <td>Dependent Variable:</td>         <td>Sales</td>                  <td>AIC:</td>             <td>921.5649</td>\n",
              "</tr>\n",
              "<tr>\n",
              "           <td>Date:</td>          <td>2020-08-26 09:48</td>             <td>BIC:</td>             <td>930.3029</td>\n",
              "</tr>\n",
              "<tr>\n",
              "     <td>No. Observations:</td>           <td>136</td>              <td>Log-Likelihood:</td>        <td>-457.78</td>\n",
              "</tr>\n",
              "<tr>\n",
              "         <td>Df Model:</td>                <td>3</td>                <td>F-statistic:</td>           <td>153.7</td> \n",
              "</tr>\n",
              "<tr>\n",
              "       <td>Df Residuals:</td>             <td>133</td>            <td>Prob (F-statistic):</td>     <td>4.90e-43</td>\n",
              "</tr>\n",
              "<tr>\n",
              "  <td>R-squared (uncentered):</td>       <td>0.776</td>                 <td>Scale:</td>             <td>50.226</td> \n",
              "</tr>\n",
              "</table>\n",
              "<table class=\"simpletable\">\n",
              "<tr>\n",
              "      <td></td>       <th>Coef.</th> <th>Std.Err.</th>    <th>t</th>    <th>P>|t|</th> <th>[0.025</th>  <th>0.975]</th>\n",
              "</tr>\n",
              "<tr>\n",
              "  <th>Newspaper</th> <td>0.0572</td>  <td>0.0302</td>  <td>1.8964</td> <td>0.0601</td> <td>-0.0025</td> <td>0.1169</td>\n",
              "</tr>\n",
              "<tr>\n",
              "  <th>Radio</th>     <td>0.2067</td>  <td>0.0401</td>  <td>5.1620</td> <td>0.0000</td> <td>0.1275</td>  <td>0.2860</td>\n",
              "</tr>\n",
              "<tr>\n",
              "  <th>TV</th>        <td>0.0407</td>  <td>0.0055</td>  <td>7.3899</td> <td>0.0000</td> <td>0.0298</td>  <td>0.0516</td>\n",
              "</tr>\n",
              "</table>\n",
              "<table class=\"simpletable\">\n",
              "<tr>\n",
              "     <td>Omnibus:</td>    <td>2.206</td>  <td>Durbin-Watson:</td>   <td>1.717</td>\n",
              "</tr>\n",
              "<tr>\n",
              "  <td>Prob(Omnibus):</td> <td>0.332</td> <td>Jarque-Bera (JB):</td> <td>1.714</td>\n",
              "</tr>\n",
              "<tr>\n",
              "       <td>Skew:</td>     <td>0.236</td>     <td>Prob(JB):</td>     <td>0.424</td>\n",
              "</tr>\n",
              "<tr>\n",
              "     <td>Kurtosis:</td>   <td>3.282</td>  <td>Condition No.:</td>    <td>13</td>  \n",
              "</tr>\n",
              "</table>"
            ],
            "text/plain": [
              "<class 'statsmodels.iolib.summary2.Summary'>\n",
              "\"\"\"\n",
              "                       Results: Ordinary least squares\n",
              "==============================================================================\n",
              "Model:                  OLS              Adj. R-squared (uncentered): 0.771   \n",
              "Dependent Variable:     Sales            AIC:                         921.5649\n",
              "Date:                   2020-08-26 09:48 BIC:                         930.3029\n",
              "No. Observations:       136              Log-Likelihood:              -457.78 \n",
              "Df Model:               3                F-statistic:                 153.7   \n",
              "Df Residuals:           133              Prob (F-statistic):          4.90e-43\n",
              "R-squared (uncentered): 0.776            Scale:                       50.226  \n",
              "----------------------------------------------------------------------------------\n",
              "                  Coef.      Std.Err.       t        P>|t|       [0.025     0.975]\n",
              "----------------------------------------------------------------------------------\n",
              "Newspaper         0.0572       0.0302     1.8964     0.0601     -0.0025     0.1169\n",
              "Radio             0.2067       0.0401     5.1620     0.0000      0.1275     0.2860\n",
              "TV                0.0407       0.0055     7.3899     0.0000      0.0298     0.0516\n",
              "------------------------------------------------------------------------------\n",
              "Omnibus:                   2.206            Durbin-Watson:               1.717\n",
              "Prob(Omnibus):             0.332            Jarque-Bera (JB):            1.714\n",
              "Skew:                      0.236            Prob(JB):                    0.424\n",
              "Kurtosis:                  3.282            Condition No.:               13   \n",
              "==============================================================================\n",
              "\n",
              "\"\"\""
            ]
          },
          "metadata": {
            "tags": []
          },
          "execution_count": 46
        }
      ]
    },
    {
      "cell_type": "code",
      "metadata": {
        "id": "yNC1Cs8R8PD4",
        "colab_type": "code",
        "colab": {}
      },
      "source": [
        "#transforming response variable"
      ],
      "execution_count": null,
      "outputs": []
    },
    {
      "cell_type": "code",
      "metadata": {
        "id": "9S3ByZhh8YOu",
        "colab_type": "code",
        "colab": {}
      },
      "source": [
        "train_y_new = np.sqrt( train_y_new )"
      ],
      "execution_count": null,
      "outputs": []
    },
    {
      "cell_type": "code",
      "metadata": {
        "id": "aKIgwTS198LI",
        "colab_type": "code",
        "colab": {
          "base_uri": "https://localhost:8080/",
          "height": 344
        },
        "outputId": "dd1ed43d-7d6a-4eac-d18b-f2323f6d9665"
      },
      "source": [
        "ad_model4 = sm.OLS(train_y_new, train_X_new).fit()\n",
        "ad_model4.summary2()"
      ],
      "execution_count": null,
      "outputs": [
        {
          "output_type": "execute_result",
          "data": {
            "text/html": [
              "<table class=\"simpletable\">\n",
              "<tr>\n",
              "          <td>Model:</td>                 <td>OLS</td>       <td>Adj. R-squared (uncentered):</td>   <td>0.830</td> \n",
              "</tr>\n",
              "<tr>\n",
              "    <td>Dependent Variable:</td>         <td>Sales</td>                  <td>AIC:</td>             <td>506.9434</td>\n",
              "</tr>\n",
              "<tr>\n",
              "           <td>Date:</td>          <td>2020-08-26 09:48</td>             <td>BIC:</td>             <td>515.6813</td>\n",
              "</tr>\n",
              "<tr>\n",
              "     <td>No. Observations:</td>           <td>136</td>              <td>Log-Likelihood:</td>        <td>-250.47</td>\n",
              "</tr>\n",
              "<tr>\n",
              "         <td>Df Model:</td>                <td>3</td>                <td>F-statistic:</td>           <td>221.6</td> \n",
              "</tr>\n",
              "<tr>\n",
              "       <td>Df Residuals:</td>             <td>133</td>            <td>Prob (F-statistic):</td>     <td>1.53e-51</td>\n",
              "</tr>\n",
              "<tr>\n",
              "  <td>R-squared (uncentered):</td>       <td>0.833</td>                 <td>Scale:</td>             <td>2.3818</td> \n",
              "</tr>\n",
              "</table>\n",
              "<table class=\"simpletable\">\n",
              "<tr>\n",
              "      <td></td>       <th>Coef.</th> <th>Std.Err.</th>    <th>t</th>    <th>P>|t|</th> <th>[0.025</th> <th>0.975]</th>\n",
              "</tr>\n",
              "<tr>\n",
              "  <th>Newspaper</th> <td>0.0186</td>  <td>0.0066</td>  <td>2.8322</td> <td>0.0053</td> <td>0.0056</td> <td>0.0316</td>\n",
              "</tr>\n",
              "<tr>\n",
              "  <th>Radio</th>     <td>0.0508</td>  <td>0.0087</td>  <td>5.8215</td> <td>0.0000</td> <td>0.0335</td> <td>0.0680</td>\n",
              "</tr>\n",
              "<tr>\n",
              "  <th>TV</th>        <td>0.0105</td>  <td>0.0012</td>  <td>8.7267</td> <td>0.0000</td> <td>0.0081</td> <td>0.0128</td>\n",
              "</tr>\n",
              "</table>\n",
              "<table class=\"simpletable\">\n",
              "<tr>\n",
              "     <td>Omnibus:</td>     <td>0.229</td>  <td>Durbin-Watson:</td>   <td>1.768</td>\n",
              "</tr>\n",
              "<tr>\n",
              "  <td>Prob(Omnibus):</td>  <td>0.892</td> <td>Jarque-Bera (JB):</td> <td>0.083</td>\n",
              "</tr>\n",
              "<tr>\n",
              "       <td>Skew:</td>     <td>-0.057</td>     <td>Prob(JB):</td>     <td>0.960</td>\n",
              "</tr>\n",
              "<tr>\n",
              "     <td>Kurtosis:</td>    <td>3.041</td>  <td>Condition No.:</td>    <td>13</td>  \n",
              "</tr>\n",
              "</table>"
            ],
            "text/plain": [
              "<class 'statsmodels.iolib.summary2.Summary'>\n",
              "\"\"\"\n",
              "                       Results: Ordinary least squares\n",
              "==============================================================================\n",
              "Model:                  OLS              Adj. R-squared (uncentered): 0.830   \n",
              "Dependent Variable:     Sales            AIC:                         506.9434\n",
              "Date:                   2020-08-26 09:48 BIC:                         515.6813\n",
              "No. Observations:       136              Log-Likelihood:              -250.47 \n",
              "Df Model:               3                F-statistic:                 221.6   \n",
              "Df Residuals:           133              Prob (F-statistic):          1.53e-51\n",
              "R-squared (uncentered): 0.833            Scale:                       2.3818  \n",
              "-----------------------------------------------------------------------------------\n",
              "               Coef.       Std.Err.        t         P>|t|       [0.025      0.975]\n",
              "-----------------------------------------------------------------------------------\n",
              "Newspaper      0.0186        0.0066      2.8322      0.0053      0.0056      0.0316\n",
              "Radio          0.0508        0.0087      5.8215      0.0000      0.0335      0.0680\n",
              "TV             0.0105        0.0012      8.7267      0.0000      0.0081      0.0128\n",
              "------------------------------------------------------------------------------\n",
              "Omnibus:                  0.229             Durbin-Watson:               1.768\n",
              "Prob(Omnibus):            0.892             Jarque-Bera (JB):            0.083\n",
              "Skew:                     -0.057            Prob(JB):                    0.960\n",
              "Kurtosis:                 3.041             Condition No.:               13   \n",
              "==============================================================================\n",
              "\n",
              "\"\"\""
            ]
          },
          "metadata": {
            "tags": []
          },
          "execution_count": 49
        }
      ]
    },
    {
      "cell_type": "code",
      "metadata": {
        "id": "u2IicN0D-bmi",
        "colab_type": "code",
        "colab": {
          "base_uri": "https://localhost:8080/",
          "height": 313
        },
        "outputId": "5a74cab6-eb0c-4486-8f46-d685043ca44a"
      },
      "source": [
        "#ppplot\n",
        "draw_pp_plot(ad_model4, \"new pp plot\")"
      ],
      "execution_count": null,
      "outputs": [
        {
          "output_type": "display_data",
          "data": {
            "text/plain": [
              "<Figure size 576x432 with 0 Axes>"
            ]
          },
          "metadata": {
            "tags": []
          }
        },
        {
          "output_type": "display_data",
          "data": {
            "image/png": "[encoded data removed]",
            "text/plain": [
              "<Figure size 432x288 with 1 Axes>"
            ]
          },
          "metadata": {
            "tags": [],
            "needs_background": "light"
          }
        }
      ]
    },
    {
      "cell_type": "code",
      "metadata": {
        "id": "f1Fp7bDV-q4s",
        "colab_type": "code",
        "colab": {}
      },
      "source": [
        ""
      ],
      "execution_count": null,
      "outputs": []
    },
    {
      "cell_type": "markdown",
      "metadata": {
        "id": "stEY_PPn_Llf",
        "colab_type": "text"
      },
      "source": [
        "##### Q8. RMSE"
      ]
    },
    {
      "cell_type": "code",
      "metadata": {
        "id": "c0cP4wgr_buz",
        "colab_type": "code",
        "colab": {}
      },
      "source": [
        "#predicting value on validation set\n",
        "pred_y = np.power(ad_model4.predict(test_x[train_X_new.columns]),2)\n",
        "\n",
        "#pred_y"
      ],
      "execution_count": null,
      "outputs": []
    },
    {
      "cell_type": "code",
      "metadata": {
        "id": "MG0h8K8C_wvh",
        "colab_type": "code",
        "colab": {
          "base_uri": "https://localhost:8080/",
          "height": 35
        },
        "outputId": "13de8a4d-dc08-4b49-aac5-0e55fa201415"
      },
      "source": [
        "#RMSE\n",
        "\n",
        "from sklearn import metrics\n",
        "np.sqrt(metrics.mean_squared_error(pred_y, test_y))"
      ],
      "execution_count": null,
      "outputs": [
        {
          "output_type": "execute_result",
          "data": {
            "text/plain": [
              "12.166536878890795"
            ]
          },
          "metadata": {
            "tags": []
          },
          "execution_count": 65
        }
      ]
    },
    {
      "cell_type": "code",
      "metadata": {
        "id": "EeqI1N-e_32S",
        "colab_type": "code",
        "colab": {
          "base_uri": "https://localhost:8080/",
          "height": 35
        },
        "outputId": "70a8c6e4-a435-46ae-9e1d-9ea55d09372f"
      },
      "source": [
        "#R square value \n",
        "np.round( metrics.r2_score(pred_y, test_y), 2 ) #much less than as shown in training data-. 0.83"
      ],
      "execution_count": null,
      "outputs": [
        {
          "output_type": "execute_result",
          "data": {
            "text/plain": [
              "-0.42"
            ]
          },
          "metadata": {
            "tags": []
          },
          "execution_count": 53
        }
      ]
    },
    {
      "cell_type": "code",
      "metadata": {
        "id": "RlQF8nyrALyO",
        "colab_type": "code",
        "colab": {}
      },
      "source": [
        "#Autocorrelation between error terms - since durbin watson test value = 1.7 <2 -> no auto-correlation"
      ],
      "execution_count": null,
      "outputs": []
    },
    {
      "cell_type": "code",
      "metadata": {
        "id": "-XpXh07iBJEU",
        "colab_type": "code",
        "colab": {}
      },
      "source": [
        ""
      ],
      "execution_count": null,
      "outputs": []
    },
    {
      "cell_type": "markdown",
      "metadata": {
        "id": "XPi-Pp16BZ07",
        "colab_type": "text"
      },
      "source": [
        "##### Q9. Calculation\n"
      ]
    },
    {
      "cell_type": "code",
      "metadata": {
        "id": "3Nf8Y_cCBdZS",
        "colab_type": "code",
        "colab": {
          "base_uri": "https://localhost:8080/",
          "height": 164
        },
        "outputId": "c2e09b71-53ab-4608-f966-0eb559c9658f"
      },
      "source": [
        "#Let's take\n",
        "\n",
        "TV=97.5\n",
        "Radio=7.6\n",
        "Np=7.2\n",
        "Weekday=1\n",
        "Weeknd=0\n",
        "#Model 1: \n",
        "Sale_daily1= 13.0346 + 0.0041*TV +0.0270*Radio -0.0081*Np -0.0307*Weekday +0.4304*Weeknd + 5.557\n",
        "print(\"Model 1\\n\"+\"TV=97.5, Radio=7.6,Np=7.2,Weekday=1,Weeknd=0\"+\" Daily sales : \", round(Sale_daily1,3))\n",
        "#Model 2: \n",
        "Sale_daily2= 0.0412*TV +0.1929*Radio +0.0689*Np \n",
        "print(\"Model 2\\n\"+\"TV=97.5, Radio=7.6,Np=7.2 \"+\" Daily sales : \", round(Sale_daily2,3) )\n",
        "#Model 3: \n",
        "Sale_daily3= 0.0407*TV +0.2067*Radio +0.0572*Np \n",
        "print(\"Model 4\\n\"+\"TV=97.5, Radio=7.6,Np=7.2 \"+\" Daily sales : \", round(Sale_daily3,3) )\n",
        "#Model 4:\n",
        "Sale_daily4= 0.0105*TV +0.0508*Radio +0.0186*Np \n",
        "print(\"Model 4\\n\"+\"TV=97.5, Radio=7.6,Np=7.2 \"+\" Daily sales : \", round(Sale_daily4,3))"
      ],
      "execution_count": null,
      "outputs": [
        {
          "output_type": "stream",
          "text": [
            "Model 1\n",
            "TV=97.5, Radio=7.6,Np=7.2,Weekday=1,Weeknd=0 Daily sales :  19.108\n",
            "Model 2\n",
            "TV=97.5, Radio=7.6,Np=7.2  Daily sales :  5.979\n",
            "Model 4\n",
            "TV=97.5, Radio=7.6,Np=7.2  Daily sales :  5.951\n",
            "Model 4\n",
            "TV=97.5, Radio=7.6,Np=7.2  Daily sales :  1.544\n"
          ],
          "name": "stdout"
        }
      ]
    },
    {
      "cell_type": "code",
      "metadata": {
        "id": "ikCcvDh1BqCo",
        "colab_type": "code",
        "colab": {
          "base_uri": "https://localhost:8080/",
          "height": 81
        },
        "outputId": "1bd83386-24c3-4080-b7e3-43d69633d53c"
      },
      "source": [
        "ad_df[13:14]"
      ],
      "execution_count": null,
      "outputs": [
        {
          "output_type": "execute_result",
          "data": {
            "text/html": [
              "<div>\n",
              "<style scoped>\n",
              "    .dataframe tbody tr th:only-of-type {\n",
              "        vertical-align: middle;\n",
              "    }\n",
              "\n",
              "    .dataframe tbody tr th {\n",
              "        vertical-align: top;\n",
              "    }\n",
              "\n",
              "    .dataframe thead th {\n",
              "        text-align: right;\n",
              "    }\n",
              "</style>\n",
              "<table border=\"1\" class=\"dataframe\">\n",
              "  <thead>\n",
              "    <tr style=\"text-align: right;\">\n",
              "      <th></th>\n",
              "      <th>Sno</th>\n",
              "      <th>TV</th>\n",
              "      <th>Radio</th>\n",
              "      <th>Newspaper</th>\n",
              "      <th>Day</th>\n",
              "      <th>Sales</th>\n",
              "    </tr>\n",
              "  </thead>\n",
              "  <tbody>\n",
              "    <tr>\n",
              "      <th>13</th>\n",
              "      <td>14</td>\n",
              "      <td>97.5</td>\n",
              "      <td>7.6</td>\n",
              "      <td>7.2</td>\n",
              "      <td>Weekdays</td>\n",
              "      <td>1.6</td>\n",
              "    </tr>\n",
              "  </tbody>\n",
              "</table>\n",
              "</div>"
            ],
            "text/plain": [
              "    Sno    TV  Radio  Newspaper       Day  Sales\n",
              "13   14  97.5    7.6        7.2  Weekdays    1.6"
            ]
          },
          "metadata": {
            "tags": []
          },
          "execution_count": 56
        }
      ]
    },
    {
      "cell_type": "code",
      "metadata": {
        "id": "vW1YT0u3Bxx1",
        "colab_type": "code",
        "colab": {}
      },
      "source": [
        "resid_model4=1.6-1.544"
      ],
      "execution_count": 1,
      "outputs": []
    },
    {
      "cell_type": "code",
      "metadata": {
        "id": "f9l4BVQm55fw",
        "colab_type": "code",
        "colab": {
          "base_uri": "https://localhost:8080/",
          "height": 135
        },
        "outputId": "f6dcc03a-928d-485a-c500-5c0c57e784b9"
      },
      "source": [
        "pip install nbconvert\n",
        "jupyter nbconvert --to html mugdhamathur-19A1HP064_aug.ipynb"
      ],
      "execution_count": 3,
      "outputs": [
        {
          "output_type": "error",
          "ename": "SyntaxError",
          "evalue": "ignored",
          "traceback": [
            "\u001b[0;36m  File \u001b[0;32m\"<ipython-input-3-8985d2fe8886>\"\u001b[0;36m, line \u001b[0;32m1\u001b[0m\n\u001b[0;31m    pip install nbconvert\u001b[0m\n\u001b[0m              ^\u001b[0m\n\u001b[0;31mSyntaxError\u001b[0m\u001b[0;31m:\u001b[0m invalid syntax\n"
          ]
        }
      ]
    },
    {
      "cell_type": "code",
      "metadata": {
        "id": "IZ3MMIz46CbQ",
        "colab_type": "code",
        "colab": {}
      },
      "source": [
        ""
      ],
      "execution_count": null,
      "outputs": []
    }
  ]
}