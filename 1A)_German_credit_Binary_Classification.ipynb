{
  "nbformat": 4,
  "nbformat_minor": 0,
  "metadata": {
    "colab": {
      "name": "1A) German credit- Binary Classification",
      "provenance": [],
      "authorship_tag": "ABX9TyMXeFONW9pSaNMl4hwPXKeb",
      "include_colab_link": true
    },
    "kernelspec": {
      "name": "python3",
      "display_name": "Python 3"
    }
  },
  "cells": [
    {
      "cell_type": "markdown",
      "metadata": {
        "id": "view-in-github",
        "colab_type": "text"
      },
      "source": [
        "<a href=\"https://colab.research.google.com/github/mugdha711/MLAP-Class/blob/master/1A)_German_credit_Binary_Classification.ipynb\" target=\"_parent\"><img src=\"https://colab.research.google.com/assets/colab-badge.svg\" alt=\"Open In Colab\"/></a>"
      ]
    },
    {
      "cell_type": "markdown",
      "metadata": {
        "id": "aWzvcezKuxHF",
        "colab_type": "text"
      },
      "source": [
        "####Reading files\n"
      ]
    },
    {
      "cell_type": "code",
      "metadata": {
        "id": "o0IgFV0ZlGLb",
        "colab_type": "code",
        "colab": {}
      },
      "source": [
        "import pandas as pd\n",
        "import numpy as np"
      ],
      "execution_count": null,
      "outputs": []
    },
    {
      "cell_type": "code",
      "metadata": {
        "id": "BfxQxvwyu-GX",
        "colab_type": "code",
        "colab": {
          "base_uri": "https://localhost:8080/",
          "height": 403
        },
        "outputId": "47afadd3-ce61-45da-cf05-3519585be73d"
      },
      "source": [
        "credit_df = pd.read_csv(\"/content/German Credit Data.csv\")\n",
        "credit_df.info()"
      ],
      "execution_count": null,
      "outputs": [
        {
          "output_type": "stream",
          "text": [
            "<class 'pandas.core.frame.DataFrame'>\n",
            "RangeIndex: 1000 entries, 0 to 999\n",
            "Data columns (total 14 columns):\n",
            " #   Column             Non-Null Count  Dtype \n",
            "---  ------             --------------  ----- \n",
            " 0   checkin_acc        1000 non-null   object\n",
            " 1   duration           1000 non-null   int64 \n",
            " 2   credit_history     1000 non-null   object\n",
            " 3   amount             1000 non-null   int64 \n",
            " 4   savings_acc        1000 non-null   object\n",
            " 5   present_emp_since  1000 non-null   object\n",
            " 6   inst_rate          1000 non-null   int64 \n",
            " 7   personal_status    1000 non-null   object\n",
            " 8   residing_since     1000 non-null   int64 \n",
            " 9   age                1000 non-null   int64 \n",
            " 10  inst_plans         1000 non-null   object\n",
            " 11  num_credits        1000 non-null   int64 \n",
            " 12  job                1000 non-null   object\n",
            " 13  status             1000 non-null   int64 \n",
            "dtypes: int64(7), object(7)\n",
            "memory usage: 109.5+ KB\n"
          ],
          "name": "stdout"
        }
      ]
    },
    {
      "cell_type": "markdown",
      "metadata": {
        "id": "ilOU8ZRjwOlC",
        "colab_type": "text"
      },
      "source": [
        "####Understand dataset\n"
      ]
    },
    {
      "cell_type": "code",
      "metadata": {
        "id": "_c3B1FS7vGoY",
        "colab_type": "code",
        "colab": {
          "base_uri": "https://localhost:8080/",
          "height": 72
        },
        "outputId": "c4281271-3688-49fe-f389-d34858ae7877"
      },
      "source": [
        "#count number of good and bad credit\n",
        "credit_df.status.value_counts()"
      ],
      "execution_count": null,
      "outputs": [
        {
          "output_type": "execute_result",
          "data": {
            "text/plain": [
              "0    700\n",
              "1    300\n",
              "Name: status, dtype: int64"
            ]
          },
          "metadata": {
            "tags": []
          },
          "execution_count": 5
        }
      ]
    },
    {
      "cell_type": "code",
      "metadata": {
        "id": "-a5OXyvewg6d",
        "colab_type": "code",
        "colab": {}
      },
      "source": [
        "#here 1 is bad credit- our success class but the data should be equally distributed for better model\n",
        "#we can't do here anything though\n"
      ],
      "execution_count": null,
      "outputs": []
    },
    {
      "cell_type": "markdown",
      "metadata": {
        "id": "eoMjgf3vwwim",
        "colab_type": "text"
      },
      "source": [
        "###Model Building"
      ]
    },
    {
      "cell_type": "code",
      "metadata": {
        "id": "IuYBsintwv65",
        "colab_type": "code",
        "colab": {}
      },
      "source": [
        "#for model building our dependent variable would be status column will be dependent variable"
      ],
      "execution_count": null,
      "outputs": []
    },
    {
      "cell_type": "markdown",
      "metadata": {
        "id": "Wy1CpR9kzWLz",
        "colab_type": "text"
      },
      "source": [
        "####Feature Extraction"
      ]
    },
    {
      "cell_type": "code",
      "metadata": {
        "id": "9j1BzCYSxNh5",
        "colab_type": "code",
        "colab": {
          "base_uri": "https://localhost:8080/",
          "height": 256
        },
        "outputId": "88a509e6-84f0-4df6-d847-cc2f4d0061e6"
      },
      "source": [
        "x_features= list(credit_df.columns)\n",
        "x_features.remove('status')\n",
        "x_features"
      ],
      "execution_count": null,
      "outputs": [
        {
          "output_type": "execute_result",
          "data": {
            "text/plain": [
              "['checkin_acc',\n",
              " 'duration',\n",
              " 'credit_history',\n",
              " 'amount',\n",
              " 'savings_acc',\n",
              " 'present_emp_since',\n",
              " 'inst_rate',\n",
              " 'personal_status',\n",
              " 'residing_since',\n",
              " 'age',\n",
              " 'inst_plans',\n",
              " 'num_credits',\n",
              " 'job']"
            ]
          },
          "metadata": {
            "tags": []
          },
          "execution_count": 9
        }
      ]
    },
    {
      "cell_type": "markdown",
      "metadata": {
        "id": "Zs8GYQ9yzdX8",
        "colab_type": "text"
      },
      "source": [
        "####Encoding Categorical Variables"
      ]
    },
    {
      "cell_type": "code",
      "metadata": {
        "id": "5rj5BoPmzFrT",
        "colab_type": "code",
        "colab": {}
      },
      "source": [
        "#as we have several categoriacal variable we'll use pd.get_dummies() - dummy variable 1st category is dropped always\n",
        "\n",
        "encoded_credit_df= pd.get_dummies(credit_df[x_features],drop_first= True)"
      ],
      "execution_count": null,
      "outputs": []
    },
    {
      "cell_type": "code",
      "metadata": {
        "id": "XD439_VP2bIS",
        "colab_type": "code",
        "colab": {
          "base_uri": "https://localhost:8080/",
          "height": 550
        },
        "outputId": "3430d0eb-080b-4120-a120-cb5cab8f2d4d"
      },
      "source": [
        "list(encoded_credit_df)"
      ],
      "execution_count": null,
      "outputs": [
        {
          "output_type": "execute_result",
          "data": {
            "text/plain": [
              "['duration',\n",
              " 'amount',\n",
              " 'inst_rate',\n",
              " 'residing_since',\n",
              " 'age',\n",
              " 'num_credits',\n",
              " 'checkin_acc_A12',\n",
              " 'checkin_acc_A13',\n",
              " 'checkin_acc_A14',\n",
              " 'credit_history_A31',\n",
              " 'credit_history_A32',\n",
              " 'credit_history_A33',\n",
              " 'credit_history_A34',\n",
              " 'savings_acc_A62',\n",
              " 'savings_acc_A63',\n",
              " 'savings_acc_A64',\n",
              " 'savings_acc_A65',\n",
              " 'present_emp_since_A72',\n",
              " 'present_emp_since_A73',\n",
              " 'present_emp_since_A74',\n",
              " 'present_emp_since_A75',\n",
              " 'personal_status_A92',\n",
              " 'personal_status_A93',\n",
              " 'personal_status_A94',\n",
              " 'inst_plans_A142',\n",
              " 'inst_plans_A143',\n",
              " 'job_A172',\n",
              " 'job_A173',\n",
              " 'job_A174']"
            ]
          },
          "metadata": {
            "tags": []
          },
          "execution_count": 11
        }
      ]
    },
    {
      "cell_type": "code",
      "metadata": {
        "id": "I7Jyu8vP2elI",
        "colab_type": "code",
        "colab": {
          "base_uri": "https://localhost:8080/",
          "height": 206
        },
        "outputId": "d14deb10-de2d-4f58-8ac9-b8f25507f4a8"
      },
      "source": [
        "#check for values of checking account and the value A11 is dropped and is considered base category, A11 will have 000\n",
        "encoded_credit_df[['checkin_acc_A12',\n",
        " 'checkin_acc_A13',\n",
        " 'checkin_acc_A14']].head()"
      ],
      "execution_count": null,
      "outputs": [
        {
          "output_type": "execute_result",
          "data": {
            "text/html": [
              "<div>\n",
              "<style scoped>\n",
              "    .dataframe tbody tr th:only-of-type {\n",
              "        vertical-align: middle;\n",
              "    }\n",
              "\n",
              "    .dataframe tbody tr th {\n",
              "        vertical-align: top;\n",
              "    }\n",
              "\n",
              "    .dataframe thead th {\n",
              "        text-align: right;\n",
              "    }\n",
              "</style>\n",
              "<table border=\"1\" class=\"dataframe\">\n",
              "  <thead>\n",
              "    <tr style=\"text-align: right;\">\n",
              "      <th></th>\n",
              "      <th>checkin_acc_A12</th>\n",
              "      <th>checkin_acc_A13</th>\n",
              "      <th>checkin_acc_A14</th>\n",
              "    </tr>\n",
              "  </thead>\n",
              "  <tbody>\n",
              "    <tr>\n",
              "      <th>0</th>\n",
              "      <td>0</td>\n",
              "      <td>0</td>\n",
              "      <td>0</td>\n",
              "    </tr>\n",
              "    <tr>\n",
              "      <th>1</th>\n",
              "      <td>1</td>\n",
              "      <td>0</td>\n",
              "      <td>0</td>\n",
              "    </tr>\n",
              "    <tr>\n",
              "      <th>2</th>\n",
              "      <td>0</td>\n",
              "      <td>0</td>\n",
              "      <td>1</td>\n",
              "    </tr>\n",
              "    <tr>\n",
              "      <th>3</th>\n",
              "      <td>0</td>\n",
              "      <td>0</td>\n",
              "      <td>0</td>\n",
              "    </tr>\n",
              "    <tr>\n",
              "      <th>4</th>\n",
              "      <td>0</td>\n",
              "      <td>0</td>\n",
              "      <td>0</td>\n",
              "    </tr>\n",
              "  </tbody>\n",
              "</table>\n",
              "</div>"
            ],
            "text/plain": [
              "   checkin_acc_A12  checkin_acc_A13  checkin_acc_A14\n",
              "0                0                0                0\n",
              "1                1                0                0\n",
              "2                0                0                1\n",
              "3                0                0                0\n",
              "4                0                0                0"
            ]
          },
          "metadata": {
            "tags": []
          },
          "execution_count": 12
        }
      ]
    },
    {
      "cell_type": "markdown",
      "metadata": {
        "id": "pIwH91LH34az",
        "colab_type": "text"
      },
      "source": [
        "####Defining the dependent and independent variable "
      ]
    },
    {
      "cell_type": "code",
      "metadata": {
        "id": "_Xtw7Tce3WRS",
        "colab_type": "code",
        "colab": {
          "base_uri": "https://localhost:8080/",
          "height": 74
        },
        "outputId": "63656143-e7e7-4963-cca7-b6f4172d78b4"
      },
      "source": [
        "import statsmodels.api as sm\n"
      ],
      "execution_count": null,
      "outputs": [
        {
          "output_type": "stream",
          "text": [
            "/usr/local/lib/python3.6/dist-packages/statsmodels/tools/_testing.py:19: FutureWarning: pandas.util.testing is deprecated. Use the functions in the public API at pandas.testing instead.\n",
            "  import pandas.util.testing as tm\n"
          ],
          "name": "stderr"
        }
      ]
    },
    {
      "cell_type": "code",
      "metadata": {
        "id": "Galrf6be4Fmd",
        "colab_type": "code",
        "colab": {}
      },
      "source": [
        "y=credit_df.status\n",
        "x=sm.add_constant(encoded_credit_df)"
      ],
      "execution_count": null,
      "outputs": []
    },
    {
      "cell_type": "markdown",
      "metadata": {
        "id": "n50y5ysg4sw1",
        "colab_type": "text"
      },
      "source": [
        "####Splitting data"
      ]
    },
    {
      "cell_type": "code",
      "metadata": {
        "id": "VC2W8EsN4mwk",
        "colab_type": "code",
        "colab": {}
      },
      "source": [
        "from sklearn.model_selection import train_test_split\n",
        "x_train, x_test, y_train, y_test = train_test_split(x, y, test_size=0.3, random_state=42)\n"
      ],
      "execution_count": null,
      "outputs": []
    },
    {
      "cell_type": "markdown",
      "metadata": {
        "id": "xMnqg4SN6DnV",
        "colab_type": "text"
      },
      "source": [
        "####Logistics Reg Model"
      ]
    },
    {
      "cell_type": "code",
      "metadata": {
        "id": "iY0DptNS4uxR",
        "colab_type": "code",
        "colab": {
          "base_uri": "https://localhost:8080/",
          "height": 72
        },
        "outputId": "4d4945c3-8089-4038-a587-343b8445089a"
      },
      "source": [
        "import statsmodels.api as sm\n",
        "logit= sm.Logit(y_train, x_train)\n",
        "logit_model1=logit.fit()"
      ],
      "execution_count": null,
      "outputs": [
        {
          "output_type": "stream",
          "text": [
            "Optimization terminated successfully.\n",
            "         Current function value: 0.488938\n",
            "         Iterations 6\n"
          ],
          "name": "stdout"
        }
      ]
    },
    {
      "cell_type": "code",
      "metadata": {
        "id": "DbQ36Wws6Xia",
        "colab_type": "code",
        "colab": {}
      },
      "source": [
        "#logit and fit estimates the parameters and returm model details in logit_model variable"
      ],
      "execution_count": null,
      "outputs": []
    },
    {
      "cell_type": "markdown",
      "metadata": {
        "id": "dfOjHDdv6z3F",
        "colab_type": "text"
      },
      "source": [
        "Print Model summary"
      ]
    },
    {
      "cell_type": "code",
      "metadata": {
        "id": "ATcmxzV66m39",
        "colab_type": "code",
        "colab": {
          "base_uri": "https://localhost:8080/",
          "height": 854
        },
        "outputId": "c8669e78-9a6d-48ac-f92c-622f90a24b74"
      },
      "source": [
        "logit_model1.summary2()"
      ],
      "execution_count": null,
      "outputs": [
        {
          "output_type": "execute_result",
          "data": {
            "text/html": [
              "<table class=\"simpletable\">\n",
              "<tr>\n",
              "        <td>Model:</td>              <td>Logit</td>      <td>Pseudo R-squared:</td>    <td>0.198</td>  \n",
              "</tr>\n",
              "<tr>\n",
              "  <td>Dependent Variable:</td>      <td>status</td>            <td>AIC:</td>         <td>744.5132</td> \n",
              "</tr>\n",
              "<tr>\n",
              "         <td>Date:</td>        <td>2020-08-28 16:34</td>       <td>BIC:</td>         <td>881.0456</td> \n",
              "</tr>\n",
              "<tr>\n",
              "   <td>No. Observations:</td>         <td>700</td>        <td>Log-Likelihood:</td>    <td>-342.26</td> \n",
              "</tr>\n",
              "<tr>\n",
              "       <td>Df Model:</td>             <td>29</td>            <td>LL-Null:</td>        <td>-426.75</td> \n",
              "</tr>\n",
              "<tr>\n",
              "     <td>Df Residuals:</td>           <td>670</td>         <td>LLR p-value:</td>    <td>1.0630e-21</td>\n",
              "</tr>\n",
              "<tr>\n",
              "      <td>Converged:</td>           <td>1.0000</td>           <td>Scale:</td>         <td>1.0000</td>  \n",
              "</tr>\n",
              "<tr>\n",
              "    <td>No. Iterations:</td>        <td>6.0000</td>              <td></td>               <td></td>     \n",
              "</tr>\n",
              "</table>\n",
              "<table class=\"simpletable\">\n",
              "<tr>\n",
              "            <td></td>             <th>Coef.</th>  <th>Std.Err.</th>    <th>z</th>     <th>P>|z|</th> <th>[0.025</th>  <th>0.975]</th> \n",
              "</tr>\n",
              "<tr>\n",
              "  <th>const</th>                 <td>-0.1511</td>  <td>1.1349</td>  <td>-0.1331</td> <td>0.8941</td> <td>-2.3754</td> <td>2.0733</td> \n",
              "</tr>\n",
              "<tr>\n",
              "  <th>duration</th>              <td>0.0206</td>   <td>0.0104</td>  <td>1.9927</td>  <td>0.0463</td> <td>0.0003</td>  <td>0.0409</td> \n",
              "</tr>\n",
              "<tr>\n",
              "  <th>amount</th>                <td>0.0001</td>   <td>0.0000</td>  <td>2.3765</td>  <td>0.0175</td> <td>0.0000</td>  <td>0.0002</td> \n",
              "</tr>\n",
              "<tr>\n",
              "  <th>inst_rate</th>             <td>0.3064</td>   <td>0.0986</td>  <td>3.1083</td>  <td>0.0019</td> <td>0.1132</td>  <td>0.4996</td> \n",
              "</tr>\n",
              "<tr>\n",
              "  <th>residing_since</th>        <td>0.0967</td>   <td>0.0920</td>  <td>1.0511</td>  <td>0.2932</td> <td>-0.0836</td> <td>0.2771</td> \n",
              "</tr>\n",
              "<tr>\n",
              "  <th>age</th>                   <td>-0.0227</td>  <td>0.0103</td>  <td>-2.2131</td> <td>0.0269</td> <td>-0.0428</td> <td>-0.0026</td>\n",
              "</tr>\n",
              "<tr>\n",
              "  <th>num_credits</th>           <td>0.2854</td>   <td>0.2139</td>  <td>1.3342</td>  <td>0.1821</td> <td>-0.1338</td> <td>0.7045</td> \n",
              "</tr>\n",
              "<tr>\n",
              "  <th>checkin_acc_A12</th>       <td>-0.4126</td>  <td>0.2391</td>  <td>-1.7260</td> <td>0.0843</td> <td>-0.8812</td> <td>0.0559</td> \n",
              "</tr>\n",
              "<tr>\n",
              "  <th>checkin_acc_A13</th>       <td>-0.9053</td>  <td>0.4338</td>  <td>-2.0868</td> <td>0.0369</td> <td>-1.7556</td> <td>-0.0550</td>\n",
              "</tr>\n",
              "<tr>\n",
              "  <th>checkin_acc_A14</th>       <td>-1.6052</td>  <td>0.2586</td>  <td>-6.2073</td> <td>0.0000</td> <td>-2.1120</td> <td>-1.0983</td>\n",
              "</tr>\n",
              "<tr>\n",
              "  <th>credit_history_A31</th>    <td>0.1532</td>   <td>0.5795</td>  <td>0.2643</td>  <td>0.7916</td> <td>-0.9827</td> <td>1.2890</td> \n",
              "</tr>\n",
              "<tr>\n",
              "  <th>credit_history_A32</th>    <td>-0.4960</td>  <td>0.4411</td>  <td>-1.1245</td> <td>0.2608</td> <td>-1.3604</td> <td>0.3685</td> \n",
              "</tr>\n",
              "<tr>\n",
              "  <th>credit_history_A33</th>    <td>-0.8881</td>  <td>0.5022</td>  <td>-1.7683</td> <td>0.0770</td> <td>-1.8724</td> <td>0.0962</td> \n",
              "</tr>\n",
              "<tr>\n",
              "  <th>credit_history_A34</th>    <td>-1.4124</td>  <td>0.4528</td>  <td>-3.1190</td> <td>0.0018</td> <td>-2.2999</td> <td>-0.5249</td>\n",
              "</tr>\n",
              "<tr>\n",
              "  <th>savings_acc_A62</th>       <td>-0.0496</td>  <td>0.3208</td>  <td>-0.1545</td> <td>0.8772</td> <td>-0.6782</td> <td>0.5791</td> \n",
              "</tr>\n",
              "<tr>\n",
              "  <th>savings_acc_A63</th>       <td>-0.6640</td>  <td>0.4818</td>  <td>-1.3779</td> <td>0.1682</td> <td>-1.6084</td> <td>0.2804</td> \n",
              "</tr>\n",
              "<tr>\n",
              "  <th>savings_acc_A64</th>       <td>-1.1099</td>  <td>0.6019</td>  <td>-1.8439</td> <td>0.0652</td> <td>-2.2896</td> <td>0.0699</td> \n",
              "</tr>\n",
              "<tr>\n",
              "  <th>savings_acc_A65</th>       <td>-0.6061</td>  <td>0.2745</td>  <td>-2.2080</td> <td>0.0272</td> <td>-1.1441</td> <td>-0.0681</td>\n",
              "</tr>\n",
              "<tr>\n",
              "  <th>present_emp_since_A72</th> <td>0.0855</td>   <td>0.4722</td>  <td>0.1810</td>  <td>0.8564</td> <td>-0.8401</td> <td>1.0110</td> \n",
              "</tr>\n",
              "<tr>\n",
              "  <th>present_emp_since_A73</th> <td>-0.0339</td>  <td>0.4492</td>  <td>-0.0754</td> <td>0.9399</td> <td>-0.9142</td> <td>0.8465</td> \n",
              "</tr>\n",
              "<tr>\n",
              "  <th>present_emp_since_A74</th> <td>-0.3789</td>  <td>0.4790</td>  <td>-0.7910</td> <td>0.4289</td> <td>-1.3178</td> <td>0.5600</td> \n",
              "</tr>\n",
              "<tr>\n",
              "  <th>present_emp_since_A75</th> <td>-0.2605</td>  <td>0.4554</td>  <td>-0.5721</td> <td>0.5673</td> <td>-1.1532</td> <td>0.6321</td> \n",
              "</tr>\n",
              "<tr>\n",
              "  <th>personal_status_A92</th>   <td>-0.0069</td>  <td>0.4841</td>  <td>-0.0142</td> <td>0.9887</td> <td>-0.9557</td> <td>0.9419</td> \n",
              "</tr>\n",
              "<tr>\n",
              "  <th>personal_status_A93</th>   <td>-0.4426</td>  <td>0.4764</td>  <td>-0.9291</td> <td>0.3528</td> <td>-1.3762</td> <td>0.4911</td> \n",
              "</tr>\n",
              "<tr>\n",
              "  <th>personal_status_A94</th>   <td>-0.3080</td>  <td>0.5554</td>  <td>-0.5546</td> <td>0.5792</td> <td>-1.3967</td> <td>0.7806</td> \n",
              "</tr>\n",
              "<tr>\n",
              "  <th>inst_plans_A142</th>       <td>-0.2976</td>  <td>0.5157</td>  <td>-0.5772</td> <td>0.5638</td> <td>-1.3084</td> <td>0.7131</td> \n",
              "</tr>\n",
              "<tr>\n",
              "  <th>inst_plans_A143</th>       <td>-0.4458</td>  <td>0.2771</td>  <td>-1.6086</td> <td>0.1077</td> <td>-0.9889</td> <td>0.0974</td> \n",
              "</tr>\n",
              "<tr>\n",
              "  <th>job_A172</th>              <td>-0.0955</td>  <td>0.7681</td>  <td>-0.1243</td> <td>0.9011</td> <td>-1.6009</td> <td>1.4100</td> \n",
              "</tr>\n",
              "<tr>\n",
              "  <th>job_A173</th>              <td>-0.0198</td>  <td>0.7378</td>  <td>-0.0269</td> <td>0.9786</td> <td>-1.4658</td> <td>1.4262</td> \n",
              "</tr>\n",
              "<tr>\n",
              "  <th>job_A174</th>              <td>-0.0428</td>  <td>0.7371</td>  <td>-0.0581</td> <td>0.9537</td> <td>-1.4876</td> <td>1.4019</td> \n",
              "</tr>\n",
              "</table>"
            ],
            "text/plain": [
              "<class 'statsmodels.iolib.summary2.Summary'>\n",
              "\"\"\"\n",
              "                           Results: Logit\n",
              "=====================================================================\n",
              "Model:                Logit             Pseudo R-squared:  0.198     \n",
              "Dependent Variable:   status            AIC:               744.5132  \n",
              "Date:                 2020-08-28 16:34  BIC:               881.0456  \n",
              "No. Observations:     700               Log-Likelihood:    -342.26   \n",
              "Df Model:             29                LL-Null:           -426.75   \n",
              "Df Residuals:         670               LLR p-value:       1.0630e-21\n",
              "Converged:            1.0000            Scale:             1.0000    \n",
              "No. Iterations:       6.0000                                         \n",
              "---------------------------------------------------------------------\n",
              "                       Coef.  Std.Err.    z    P>|z|   [0.025  0.975]\n",
              "---------------------------------------------------------------------\n",
              "const                 -0.1511   1.1349 -0.1331 0.8941 -2.3754  2.0733\n",
              "duration               0.0206   0.0104  1.9927 0.0463  0.0003  0.0409\n",
              "amount                 0.0001   0.0000  2.3765 0.0175  0.0000  0.0002\n",
              "inst_rate              0.3064   0.0986  3.1083 0.0019  0.1132  0.4996\n",
              "residing_since         0.0967   0.0920  1.0511 0.2932 -0.0836  0.2771\n",
              "age                   -0.0227   0.0103 -2.2131 0.0269 -0.0428 -0.0026\n",
              "num_credits            0.2854   0.2139  1.3342 0.1821 -0.1338  0.7045\n",
              "checkin_acc_A12       -0.4126   0.2391 -1.7260 0.0843 -0.8812  0.0559\n",
              "checkin_acc_A13       -0.9053   0.4338 -2.0868 0.0369 -1.7556 -0.0550\n",
              "checkin_acc_A14       -1.6052   0.2586 -6.2073 0.0000 -2.1120 -1.0983\n",
              "credit_history_A31     0.1532   0.5795  0.2643 0.7916 -0.9827  1.2890\n",
              "credit_history_A32    -0.4960   0.4411 -1.1245 0.2608 -1.3604  0.3685\n",
              "credit_history_A33    -0.8881   0.5022 -1.7683 0.0770 -1.8724  0.0962\n",
              "credit_history_A34    -1.4124   0.4528 -3.1190 0.0018 -2.2999 -0.5249\n",
              "savings_acc_A62       -0.0496   0.3208 -0.1545 0.8772 -0.6782  0.5791\n",
              "savings_acc_A63       -0.6640   0.4818 -1.3779 0.1682 -1.6084  0.2804\n",
              "savings_acc_A64       -1.1099   0.6019 -1.8439 0.0652 -2.2896  0.0699\n",
              "savings_acc_A65       -0.6061   0.2745 -2.2080 0.0272 -1.1441 -0.0681\n",
              "present_emp_since_A72  0.0855   0.4722  0.1810 0.8564 -0.8401  1.0110\n",
              "present_emp_since_A73 -0.0339   0.4492 -0.0754 0.9399 -0.9142  0.8465\n",
              "present_emp_since_A74 -0.3789   0.4790 -0.7910 0.4289 -1.3178  0.5600\n",
              "present_emp_since_A75 -0.2605   0.4554 -0.5721 0.5673 -1.1532  0.6321\n",
              "personal_status_A92   -0.0069   0.4841 -0.0142 0.9887 -0.9557  0.9419\n",
              "personal_status_A93   -0.4426   0.4764 -0.9291 0.3528 -1.3762  0.4911\n",
              "personal_status_A94   -0.3080   0.5554 -0.5546 0.5792 -1.3967  0.7806\n",
              "inst_plans_A142       -0.2976   0.5157 -0.5772 0.5638 -1.3084  0.7131\n",
              "inst_plans_A143       -0.4458   0.2771 -1.6086 0.1077 -0.9889  0.0974\n",
              "job_A172              -0.0955   0.7681 -0.1243 0.9011 -1.6009  1.4100\n",
              "job_A173              -0.0198   0.7378 -0.0269 0.9786 -1.4658  1.4262\n",
              "job_A174              -0.0428   0.7371 -0.0581 0.9537 -1.4876  1.4019\n",
              "=====================================================================\n",
              "\n",
              "\"\"\""
            ]
          },
          "metadata": {
            "tags": []
          },
          "execution_count": 22
        }
      ]
    },
    {
      "cell_type": "markdown",
      "metadata": {
        "id": "KzNDhjiCCTv_",
        "colab_type": "text"
      },
      "source": [
        "####Model Diagnostics"
      ]
    },
    {
      "cell_type": "code",
      "metadata": {
        "id": "dm6pxBKF66L6",
        "colab_type": "code",
        "colab": {
          "base_uri": "https://localhost:8080/",
          "height": 154
        },
        "outputId": "9f5ee688-b942-45f0-c87b-92befbdfe089"
      },
      "source": [
        "\"\"\"\"\n",
        "\"To check model validity and goodness of fit, before practical application, we do 3 tests\n",
        "1. Wald's test(Chi Sq test)- check significance of independt var similar to t-test in MLR(usually <0.05)\n",
        "2. Likelihood ratio test- check significance of overall model (LLR p value in output)- used for variable(feature) selection also\n",
        "3. Pseudo R2 - goodness of model\"\n",
        "\"\"\"\""
      ],
      "execution_count": null,
      "outputs": [
        {
          "output_type": "error",
          "ename": "SyntaxError",
          "evalue": "ignored",
          "traceback": [
            "\u001b[0;36m  File \u001b[0;32m\"<ipython-input-25-c2f357a995fc>\"\u001b[0;36m, line \u001b[0;32m6\u001b[0m\n\u001b[0;31m    \"\"\"\"\u001b[0m\n\u001b[0m        \n^\u001b[0m\n\u001b[0;31mSyntaxError\u001b[0m\u001b[0;31m:\u001b[0m EOL while scanning string literal\n"
          ]
        }
      ]
    },
    {
      "cell_type": "code",
      "metadata": {
        "id": "px7Om6zhCTfT",
        "colab_type": "code",
        "colab": {}
      },
      "source": [
        "#get significant variables\n",
        "\n",
        "def get_sig_vars(lm):\n",
        "  #store p values and corresponding column name in df\n",
        "  var_p_val_df= pd.DataFrame(lm.pvalues)\n",
        "  \n",
        "  var_p_val_df['vars']=var_p_val_df.index\n",
        "  var_p_val_df.columns=['pvals', 'vars']\n",
        "  print(var_p_val_df)\n",
        "  #filter column where pval<0.05\n",
        "  return list(var_p_val_df[var_p_val_df.pvals <= 0.05]['vars'])\n",
        "\n"
      ],
      "execution_count": null,
      "outputs": []
    },
    {
      "cell_type": "code",
      "metadata": {
        "id": "pBd4dDIzI2AL",
        "colab_type": "code",
        "colab": {
          "base_uri": "https://localhost:8080/",
          "height": 733
        },
        "outputId": "dd817105-f7cf-4cc5-af4b-57e7453104e3"
      },
      "source": [
        "sig_var=get_sig_vars(logit_model1)\n",
        "sig_var"
      ],
      "execution_count": null,
      "outputs": [
        {
          "output_type": "stream",
          "text": [
            "                              pvals                   vars\n",
            "const                  8.941041e-01                  const\n",
            "duration               4.629398e-02               duration\n",
            "amount                 1.747666e-02                 amount\n",
            "inst_rate              1.881840e-03              inst_rate\n",
            "residing_since         2.932187e-01         residing_since\n",
            "age                    2.689338e-02                    age\n",
            "num_credits            1.821379e-01            num_credits\n",
            "checkin_acc_A12        8.434601e-02        checkin_acc_A12\n",
            "checkin_acc_A13        3.690689e-02        checkin_acc_A13\n",
            "checkin_acc_A14        5.388728e-10        checkin_acc_A14\n",
            "credit_history_A31     7.915563e-01     credit_history_A31\n",
            "credit_history_A32     2.608192e-01     credit_history_A32\n",
            "credit_history_A33     7.700423e-02     credit_history_A33\n",
            "credit_history_A34     1.814378e-03     credit_history_A34\n",
            "savings_acc_A62        8.771991e-01        savings_acc_A62\n",
            "savings_acc_A63        1.682236e-01        savings_acc_A63\n",
            "savings_acc_A64        6.520330e-02        savings_acc_A64\n",
            "savings_acc_A65        2.724103e-02        savings_acc_A65\n",
            "present_emp_since_A72  8.563770e-01  present_emp_since_A72\n",
            "present_emp_since_A73  9.398950e-01  present_emp_since_A73\n",
            "present_emp_since_A74  4.289448e-01  present_emp_since_A74\n",
            "present_emp_since_A75  5.672866e-01  present_emp_since_A75\n",
            "personal_status_A92    9.886719e-01    personal_status_A92\n",
            "personal_status_A93    3.528326e-01    personal_status_A93\n",
            "personal_status_A94    5.791745e-01    personal_status_A94\n",
            "inst_plans_A142        5.638367e-01        inst_plans_A142\n",
            "inst_plans_A143        1.077009e-01        inst_plans_A143\n",
            "job_A172               9.010952e-01               job_A172\n",
            "job_A173               9.785618e-01               job_A173\n",
            "job_A174               9.536888e-01               job_A174\n"
          ],
          "name": "stdout"
        },
        {
          "output_type": "execute_result",
          "data": {
            "text/plain": [
              "['duration',\n",
              " 'amount',\n",
              " 'inst_rate',\n",
              " 'age',\n",
              " 'checkin_acc_A13',\n",
              " 'checkin_acc_A14',\n",
              " 'credit_history_A34',\n",
              " 'savings_acc_A65']"
            ]
          },
          "metadata": {
            "tags": []
          },
          "execution_count": 30
        }
      ]
    },
    {
      "cell_type": "code",
      "metadata": {
        "id": "Q2x_wH5FI-ta",
        "colab_type": "code",
        "colab": {
          "base_uri": "https://localhost:8080/",
          "height": 586
        },
        "outputId": "3c6590d0-4aeb-4bd5-9341-c6ede69344c3"
      },
      "source": [
        "logit_model1.pvalues"
      ],
      "execution_count": null,
      "outputs": [
        {
          "output_type": "execute_result",
          "data": {
            "text/plain": [
              "const                    8.941041e-01\n",
              "duration                 4.629398e-02\n",
              "amount                   1.747666e-02\n",
              "inst_rate                1.881840e-03\n",
              "residing_since           2.932187e-01\n",
              "age                      2.689338e-02\n",
              "num_credits              1.821379e-01\n",
              "checkin_acc_A12          8.434601e-02\n",
              "checkin_acc_A13          3.690689e-02\n",
              "checkin_acc_A14          5.388728e-10\n",
              "credit_history_A31       7.915563e-01\n",
              "credit_history_A32       2.608192e-01\n",
              "credit_history_A33       7.700423e-02\n",
              "credit_history_A34       1.814378e-03\n",
              "savings_acc_A62          8.771991e-01\n",
              "savings_acc_A63          1.682236e-01\n",
              "savings_acc_A64          6.520330e-02\n",
              "savings_acc_A65          2.724103e-02\n",
              "present_emp_since_A72    8.563770e-01\n",
              "present_emp_since_A73    9.398950e-01\n",
              "present_emp_since_A74    4.289448e-01\n",
              "present_emp_since_A75    5.672866e-01\n",
              "personal_status_A92      9.886719e-01\n",
              "personal_status_A93      3.528326e-01\n",
              "personal_status_A94      5.791745e-01\n",
              "inst_plans_A142          5.638367e-01\n",
              "inst_plans_A143          1.077009e-01\n",
              "job_A172                 9.010952e-01\n",
              "job_A173                 9.785618e-01\n",
              "job_A174                 9.536888e-01\n",
              "dtype: float64"
            ]
          },
          "metadata": {
            "tags": []
          },
          "execution_count": 28
        }
      ]
    },
    {
      "cell_type": "code",
      "metadata": {
        "id": "KXOYdhGkJLoF",
        "colab_type": "code",
        "colab": {
          "base_uri": "https://localhost:8080/",
          "height": 72
        },
        "outputId": "3dc70210-7e77-4961-f707-d6c9c40a12fc"
      },
      "source": [
        "final_logit= sm.Logit(y_train, sm.add_constant(x_train[sig_var])).fit()"
      ],
      "execution_count": null,
      "outputs": [
        {
          "output_type": "stream",
          "text": [
            "Optimization terminated successfully.\n",
            "         Current function value: 0.511350\n",
            "         Iterations 6\n"
          ],
          "name": "stdout"
        }
      ]
    },
    {
      "cell_type": "code",
      "metadata": {
        "id": "0QJsRavgLZvF",
        "colab_type": "code",
        "colab": {
          "base_uri": "https://localhost:8080/",
          "height": 402
        },
        "outputId": "d98b1a80-d3e8-4210-a7a4-dffae1f70287"
      },
      "source": [
        "final_logit.summary()"
      ],
      "execution_count": null,
      "outputs": [
        {
          "output_type": "execute_result",
          "data": {
            "text/html": [
              "<table class=\"simpletable\">\n",
              "<caption>Logit Regression Results</caption>\n",
              "<tr>\n",
              "  <th>Dep. Variable:</th>        <td>status</td>      <th>  No. Observations:  </th>  <td>   700</td>  \n",
              "</tr>\n",
              "<tr>\n",
              "  <th>Model:</th>                 <td>Logit</td>      <th>  Df Residuals:      </th>  <td>   691</td>  \n",
              "</tr>\n",
              "<tr>\n",
              "  <th>Method:</th>                 <td>MLE</td>       <th>  Df Model:          </th>  <td>     8</td>  \n",
              "</tr>\n",
              "<tr>\n",
              "  <th>Date:</th>            <td>Fri, 28 Aug 2020</td> <th>  Pseudo R-squ.:     </th>  <td>0.1612</td>  \n",
              "</tr>\n",
              "<tr>\n",
              "  <th>Time:</th>                <td>17:46:50</td>     <th>  Log-Likelihood:    </th> <td> -357.94</td> \n",
              "</tr>\n",
              "<tr>\n",
              "  <th>converged:</th>             <td>True</td>       <th>  LL-Null:           </th> <td> -426.75</td> \n",
              "</tr>\n",
              "<tr>\n",
              "  <th>Covariance Type:</th>     <td>nonrobust</td>    <th>  LLR p-value:       </th> <td>7.419e-26</td>\n",
              "</tr>\n",
              "</table>\n",
              "<table class=\"simpletable\">\n",
              "<tr>\n",
              "           <td></td>             <th>coef</th>     <th>std err</th>      <th>z</th>      <th>P>|z|</th>  <th>[0.025</th>    <th>0.975]</th>  \n",
              "</tr>\n",
              "<tr>\n",
              "  <th>const</th>              <td>   -0.8969</td> <td>    0.436</td> <td>   -2.055</td> <td> 0.040</td> <td>   -1.752</td> <td>   -0.042</td>\n",
              "</tr>\n",
              "<tr>\n",
              "  <th>duration</th>           <td>    0.0197</td> <td>    0.010</td> <td>    2.003</td> <td> 0.045</td> <td>    0.000</td> <td>    0.039</td>\n",
              "</tr>\n",
              "<tr>\n",
              "  <th>amount</th>             <td> 9.669e-05</td> <td> 4.17e-05</td> <td>    2.320</td> <td> 0.020</td> <td>  1.5e-05</td> <td>    0.000</td>\n",
              "</tr>\n",
              "<tr>\n",
              "  <th>inst_rate</th>          <td>    0.2811</td> <td>    0.093</td> <td>    3.026</td> <td> 0.002</td> <td>    0.099</td> <td>    0.463</td>\n",
              "</tr>\n",
              "<tr>\n",
              "  <th>age</th>                <td>   -0.0216</td> <td>    0.009</td> <td>   -2.421</td> <td> 0.015</td> <td>   -0.039</td> <td>   -0.004</td>\n",
              "</tr>\n",
              "<tr>\n",
              "  <th>checkin_acc_A13</th>    <td>   -0.8038</td> <td>    0.408</td> <td>   -1.970</td> <td> 0.049</td> <td>   -1.604</td> <td>   -0.004</td>\n",
              "</tr>\n",
              "<tr>\n",
              "  <th>checkin_acc_A14</th>    <td>   -1.5452</td> <td>    0.219</td> <td>   -7.065</td> <td> 0.000</td> <td>   -1.974</td> <td>   -1.116</td>\n",
              "</tr>\n",
              "<tr>\n",
              "  <th>credit_history_A34</th> <td>   -0.8781</td> <td>    0.232</td> <td>   -3.786</td> <td> 0.000</td> <td>   -1.333</td> <td>   -0.423</td>\n",
              "</tr>\n",
              "<tr>\n",
              "  <th>savings_acc_A65</th>    <td>   -0.5448</td> <td>    0.258</td> <td>   -2.111</td> <td> 0.035</td> <td>   -1.051</td> <td>   -0.039</td>\n",
              "</tr>\n",
              "</table>"
            ],
            "text/plain": [
              "<class 'statsmodels.iolib.summary.Summary'>\n",
              "\"\"\"\n",
              "                           Logit Regression Results                           \n",
              "==============================================================================\n",
              "Dep. Variable:                 status   No. Observations:                  700\n",
              "Model:                          Logit   Df Residuals:                      691\n",
              "Method:                           MLE   Df Model:                            8\n",
              "Date:                Fri, 28 Aug 2020   Pseudo R-squ.:                  0.1612\n",
              "Time:                        17:46:50   Log-Likelihood:                -357.94\n",
              "converged:                       True   LL-Null:                       -426.75\n",
              "Covariance Type:            nonrobust   LLR p-value:                 7.419e-26\n",
              "======================================================================================\n",
              "                         coef    std err          z      P>|z|      [0.025      0.975]\n",
              "--------------------------------------------------------------------------------------\n",
              "const                 -0.8969      0.436     -2.055      0.040      -1.752      -0.042\n",
              "duration               0.0197      0.010      2.003      0.045       0.000       0.039\n",
              "amount              9.669e-05   4.17e-05      2.320      0.020     1.5e-05       0.000\n",
              "inst_rate              0.2811      0.093      3.026      0.002       0.099       0.463\n",
              "age                   -0.0216      0.009     -2.421      0.015      -0.039      -0.004\n",
              "checkin_acc_A13       -0.8038      0.408     -1.970      0.049      -1.604      -0.004\n",
              "checkin_acc_A14       -1.5452      0.219     -7.065      0.000      -1.974      -1.116\n",
              "credit_history_A34    -0.8781      0.232     -3.786      0.000      -1.333      -0.423\n",
              "savings_acc_A65       -0.5448      0.258     -2.111      0.035      -1.051      -0.039\n",
              "======================================================================================\n",
              "\"\"\""
            ]
          },
          "metadata": {
            "tags": []
          },
          "execution_count": 32
        }
      ]
    },
    {
      "cell_type": "code",
      "metadata": {
        "id": "HG5syKKTLeTR",
        "colab_type": "code",
        "colab": {
          "base_uri": "https://localhost:8080/",
          "height": 406
        },
        "outputId": "a8ee3fe1-d05d-4941-8590-abd2efc74fe6"
      },
      "source": [
        "final_logit.summary2()"
      ],
      "execution_count": null,
      "outputs": [
        {
          "output_type": "execute_result",
          "data": {
            "text/html": [
              "<table class=\"simpletable\">\n",
              "<tr>\n",
              "        <td>Model:</td>              <td>Logit</td>      <td>Pseudo R-squared:</td>    <td>0.161</td>  \n",
              "</tr>\n",
              "<tr>\n",
              "  <td>Dependent Variable:</td>      <td>status</td>            <td>AIC:</td>         <td>733.8898</td> \n",
              "</tr>\n",
              "<tr>\n",
              "         <td>Date:</td>        <td>2020-08-28 17:47</td>       <td>BIC:</td>         <td>774.8495</td> \n",
              "</tr>\n",
              "<tr>\n",
              "   <td>No. Observations:</td>         <td>700</td>        <td>Log-Likelihood:</td>    <td>-357.94</td> \n",
              "</tr>\n",
              "<tr>\n",
              "       <td>Df Model:</td>              <td>8</td>            <td>LL-Null:</td>        <td>-426.75</td> \n",
              "</tr>\n",
              "<tr>\n",
              "     <td>Df Residuals:</td>           <td>691</td>         <td>LLR p-value:</td>    <td>7.4185e-26</td>\n",
              "</tr>\n",
              "<tr>\n",
              "      <td>Converged:</td>           <td>1.0000</td>           <td>Scale:</td>         <td>1.0000</td>  \n",
              "</tr>\n",
              "<tr>\n",
              "    <td>No. Iterations:</td>        <td>6.0000</td>              <td></td>               <td></td>     \n",
              "</tr>\n",
              "</table>\n",
              "<table class=\"simpletable\">\n",
              "<tr>\n",
              "           <td></td>           <th>Coef.</th>  <th>Std.Err.</th>    <th>z</th>     <th>P>|z|</th> <th>[0.025</th>  <th>0.975]</th> \n",
              "</tr>\n",
              "<tr>\n",
              "  <th>const</th>              <td>-0.8969</td>  <td>0.4364</td>  <td>-2.0551</td> <td>0.0399</td> <td>-1.7523</td> <td>-0.0415</td>\n",
              "</tr>\n",
              "<tr>\n",
              "  <th>duration</th>           <td>0.0197</td>   <td>0.0098</td>  <td>2.0033</td>  <td>0.0451</td> <td>0.0004</td>  <td>0.0390</td> \n",
              "</tr>\n",
              "<tr>\n",
              "  <th>amount</th>             <td>0.0001</td>   <td>0.0000</td>  <td>2.3205</td>  <td>0.0203</td> <td>0.0000</td>  <td>0.0002</td> \n",
              "</tr>\n",
              "<tr>\n",
              "  <th>inst_rate</th>          <td>0.2811</td>   <td>0.0929</td>  <td>3.0264</td>  <td>0.0025</td> <td>0.0991</td>  <td>0.4632</td> \n",
              "</tr>\n",
              "<tr>\n",
              "  <th>age</th>                <td>-0.0216</td>  <td>0.0089</td>  <td>-2.4207</td> <td>0.0155</td> <td>-0.0392</td> <td>-0.0041</td>\n",
              "</tr>\n",
              "<tr>\n",
              "  <th>checkin_acc_A13</th>    <td>-0.8038</td>  <td>0.4081</td>  <td>-1.9697</td> <td>0.0489</td> <td>-1.6037</td> <td>-0.0040</td>\n",
              "</tr>\n",
              "<tr>\n",
              "  <th>checkin_acc_A14</th>    <td>-1.5452</td>  <td>0.2187</td>  <td>-7.0649</td> <td>0.0000</td> <td>-1.9738</td> <td>-1.1165</td>\n",
              "</tr>\n",
              "<tr>\n",
              "  <th>credit_history_A34</th> <td>-0.8781</td>  <td>0.2319</td>  <td>-3.7858</td> <td>0.0002</td> <td>-1.3327</td> <td>-0.4235</td>\n",
              "</tr>\n",
              "<tr>\n",
              "  <th>savings_acc_A65</th>    <td>-0.5448</td>  <td>0.2581</td>  <td>-2.1108</td> <td>0.0348</td> <td>-1.0507</td> <td>-0.0389</td>\n",
              "</tr>\n",
              "</table>"
            ],
            "text/plain": [
              "<class 'statsmodels.iolib.summary2.Summary'>\n",
              "\"\"\"\n",
              "                          Results: Logit\n",
              "==================================================================\n",
              "Model:               Logit            Pseudo R-squared: 0.161     \n",
              "Dependent Variable:  status           AIC:              733.8898  \n",
              "Date:                2020-08-28 17:47 BIC:              774.8495  \n",
              "No. Observations:    700              Log-Likelihood:   -357.94   \n",
              "Df Model:            8                LL-Null:          -426.75   \n",
              "Df Residuals:        691              LLR p-value:      7.4185e-26\n",
              "Converged:           1.0000           Scale:            1.0000    \n",
              "No. Iterations:      6.0000                                       \n",
              "------------------------------------------------------------------\n",
              "                    Coef.  Std.Err.    z    P>|z|   [0.025  0.975]\n",
              "------------------------------------------------------------------\n",
              "const              -0.8969   0.4364 -2.0551 0.0399 -1.7523 -0.0415\n",
              "duration            0.0197   0.0098  2.0033 0.0451  0.0004  0.0390\n",
              "amount              0.0001   0.0000  2.3205 0.0203  0.0000  0.0002\n",
              "inst_rate           0.2811   0.0929  3.0264 0.0025  0.0991  0.4632\n",
              "age                -0.0216   0.0089 -2.4207 0.0155 -0.0392 -0.0041\n",
              "checkin_acc_A13    -0.8038   0.4081 -1.9697 0.0489 -1.6037 -0.0040\n",
              "checkin_acc_A14    -1.5452   0.2187 -7.0649 0.0000 -1.9738 -1.1165\n",
              "credit_history_A34 -0.8781   0.2319 -3.7858 0.0002 -1.3327 -0.4235\n",
              "savings_acc_A65    -0.5448   0.2581 -2.1108 0.0348 -1.0507 -0.0389\n",
              "==================================================================\n",
              "\n",
              "\"\"\""
            ]
          },
          "metadata": {
            "tags": []
          },
          "execution_count": 33
        }
      ]
    },
    {
      "cell_type": "code",
      "metadata": {
        "id": "FLSdPaGiLhjI",
        "colab_type": "code",
        "colab": {}
      },
      "source": [
        "#negative coeff - means prob of bad credit decreases and opposite for +ve"
      ],
      "execution_count": null,
      "outputs": []
    },
    {
      "cell_type": "markdown",
      "metadata": {
        "id": "9pOvBsWBPTxk",
        "colab_type": "text"
      },
      "source": [
        "###Predicting on Test Data"
      ]
    },
    {
      "cell_type": "code",
      "metadata": {
        "id": "bfAW-X4TPTDt",
        "colab_type": "code",
        "colab": {}
      },
      "source": [
        "y_pred_df=  pd.DataFrame({\"actual\":y_test,\n",
        "                          \"predicted_prob\":final_logit.predict(sm.add_constant(x_test[sig_var]))})"
      ],
      "execution_count": null,
      "outputs": []
    },
    {
      "cell_type": "code",
      "metadata": {
        "id": "RxY7MJYZP_yV",
        "colab_type": "code",
        "colab": {
          "base_uri": "https://localhost:8080/",
          "height": 363
        },
        "outputId": "19ebfed9-b38d-40ce-d16e-b320bf0128d9"
      },
      "source": [
        "y_pred_df.sample(10, random_state=42)"
      ],
      "execution_count": null,
      "outputs": [
        {
          "output_type": "execute_result",
          "data": {
            "text/html": [
              "<div>\n",
              "<style scoped>\n",
              "    .dataframe tbody tr th:only-of-type {\n",
              "        vertical-align: middle;\n",
              "    }\n",
              "\n",
              "    .dataframe tbody tr th {\n",
              "        vertical-align: top;\n",
              "    }\n",
              "\n",
              "    .dataframe thead th {\n",
              "        text-align: right;\n",
              "    }\n",
              "</style>\n",
              "<table border=\"1\" class=\"dataframe\">\n",
              "  <thead>\n",
              "    <tr style=\"text-align: right;\">\n",
              "      <th></th>\n",
              "      <th>actual</th>\n",
              "      <th>predicted_prob</th>\n",
              "    </tr>\n",
              "  </thead>\n",
              "  <tbody>\n",
              "    <tr>\n",
              "      <th>557</th>\n",
              "      <td>1</td>\n",
              "      <td>0.080493</td>\n",
              "    </tr>\n",
              "    <tr>\n",
              "      <th>798</th>\n",
              "      <td>0</td>\n",
              "      <td>0.076653</td>\n",
              "    </tr>\n",
              "    <tr>\n",
              "      <th>977</th>\n",
              "      <td>0</td>\n",
              "      <td>0.345979</td>\n",
              "    </tr>\n",
              "    <tr>\n",
              "      <th>136</th>\n",
              "      <td>0</td>\n",
              "      <td>0.249919</td>\n",
              "    </tr>\n",
              "    <tr>\n",
              "      <th>575</th>\n",
              "      <td>0</td>\n",
              "      <td>0.062264</td>\n",
              "    </tr>\n",
              "    <tr>\n",
              "      <th>544</th>\n",
              "      <td>0</td>\n",
              "      <td>0.040768</td>\n",
              "    </tr>\n",
              "    <tr>\n",
              "      <th>332</th>\n",
              "      <td>1</td>\n",
              "      <td>0.833093</td>\n",
              "    </tr>\n",
              "    <tr>\n",
              "      <th>917</th>\n",
              "      <td>1</td>\n",
              "      <td>0.370667</td>\n",
              "    </tr>\n",
              "    <tr>\n",
              "      <th>678</th>\n",
              "      <td>0</td>\n",
              "      <td>0.388392</td>\n",
              "    </tr>\n",
              "    <tr>\n",
              "      <th>363</th>\n",
              "      <td>0</td>\n",
              "      <td>0.088952</td>\n",
              "    </tr>\n",
              "  </tbody>\n",
              "</table>\n",
              "</div>"
            ],
            "text/plain": [
              "     actual  predicted_prob\n",
              "557       1        0.080493\n",
              "798       0        0.076653\n",
              "977       0        0.345979\n",
              "136       0        0.249919\n",
              "575       0        0.062264\n",
              "544       0        0.040768\n",
              "332       1        0.833093\n",
              "917       1        0.370667\n",
              "678       0        0.388392\n",
              "363       0        0.088952"
            ]
          },
          "metadata": {
            "tags": []
          },
          "execution_count": 36
        }
      ]
    },
    {
      "cell_type": "code",
      "metadata": {
        "id": "35HMBwqqQJ2l",
        "colab_type": "code",
        "colab": {
          "base_uri": "https://localhost:8080/",
          "height": 363
        },
        "outputId": "1718526f-dd2e-479f-836d-e93ca231f1eb"
      },
      "source": [
        "#now let's assume cutoff prob =0.5 then prob >0.5 means 1 and others 0\n",
        "\n",
        "y_pred_df['predicted']=y_pred_df.predicted_prob.map( lambda x: 1 if x>0.5 else 0)\n",
        "\n",
        "y_pred_df.sample(10, random_state=42)"
      ],
      "execution_count": null,
      "outputs": [
        {
          "output_type": "execute_result",
          "data": {
            "text/html": [
              "<div>\n",
              "<style scoped>\n",
              "    .dataframe tbody tr th:only-of-type {\n",
              "        vertical-align: middle;\n",
              "    }\n",
              "\n",
              "    .dataframe tbody tr th {\n",
              "        vertical-align: top;\n",
              "    }\n",
              "\n",
              "    .dataframe thead th {\n",
              "        text-align: right;\n",
              "    }\n",
              "</style>\n",
              "<table border=\"1\" class=\"dataframe\">\n",
              "  <thead>\n",
              "    <tr style=\"text-align: right;\">\n",
              "      <th></th>\n",
              "      <th>actual</th>\n",
              "      <th>predicted_prob</th>\n",
              "      <th>predicted</th>\n",
              "    </tr>\n",
              "  </thead>\n",
              "  <tbody>\n",
              "    <tr>\n",
              "      <th>557</th>\n",
              "      <td>1</td>\n",
              "      <td>0.080493</td>\n",
              "      <td>0</td>\n",
              "    </tr>\n",
              "    <tr>\n",
              "      <th>798</th>\n",
              "      <td>0</td>\n",
              "      <td>0.076653</td>\n",
              "      <td>0</td>\n",
              "    </tr>\n",
              "    <tr>\n",
              "      <th>977</th>\n",
              "      <td>0</td>\n",
              "      <td>0.345979</td>\n",
              "      <td>0</td>\n",
              "    </tr>\n",
              "    <tr>\n",
              "      <th>136</th>\n",
              "      <td>0</td>\n",
              "      <td>0.249919</td>\n",
              "      <td>0</td>\n",
              "    </tr>\n",
              "    <tr>\n",
              "      <th>575</th>\n",
              "      <td>0</td>\n",
              "      <td>0.062264</td>\n",
              "      <td>0</td>\n",
              "    </tr>\n",
              "    <tr>\n",
              "      <th>544</th>\n",
              "      <td>0</td>\n",
              "      <td>0.040768</td>\n",
              "      <td>0</td>\n",
              "    </tr>\n",
              "    <tr>\n",
              "      <th>332</th>\n",
              "      <td>1</td>\n",
              "      <td>0.833093</td>\n",
              "      <td>1</td>\n",
              "    </tr>\n",
              "    <tr>\n",
              "      <th>917</th>\n",
              "      <td>1</td>\n",
              "      <td>0.370667</td>\n",
              "      <td>0</td>\n",
              "    </tr>\n",
              "    <tr>\n",
              "      <th>678</th>\n",
              "      <td>0</td>\n",
              "      <td>0.388392</td>\n",
              "      <td>0</td>\n",
              "    </tr>\n",
              "    <tr>\n",
              "      <th>363</th>\n",
              "      <td>0</td>\n",
              "      <td>0.088952</td>\n",
              "      <td>0</td>\n",
              "    </tr>\n",
              "  </tbody>\n",
              "</table>\n",
              "</div>"
            ],
            "text/plain": [
              "     actual  predicted_prob  predicted\n",
              "557       1        0.080493          0\n",
              "798       0        0.076653          0\n",
              "977       0        0.345979          0\n",
              "136       0        0.249919          0\n",
              "575       0        0.062264          0\n",
              "544       0        0.040768          0\n",
              "332       1        0.833093          1\n",
              "917       1        0.370667          0\n",
              "678       0        0.388392          0\n",
              "363       0        0.088952          0"
            ]
          },
          "metadata": {
            "tags": []
          },
          "execution_count": 37
        }
      ]
    },
    {
      "cell_type": "markdown",
      "metadata": {
        "id": "nZBGV6D7Rowb",
        "colab_type": "text"
      },
      "source": [
        "###Creating Confusion Matrix/ Classification Table/ Error Matrix"
      ]
    },
    {
      "cell_type": "code",
      "metadata": {
        "id": "lrBaKA7QRMUL",
        "colab_type": "code",
        "colab": {}
      },
      "source": [
        "import matplotlib.pyplot as plt\n",
        "import seaborn as sn\n",
        "%matplotlib inline"
      ],
      "execution_count": null,
      "outputs": []
    },
    {
      "cell_type": "code",
      "metadata": {
        "id": "Wb-VWMYdUrJV",
        "colab_type": "code",
        "colab": {}
      },
      "source": [
        "from sklearn import metrics\n",
        "def draw_cm( actual, predicted ):\n",
        "## Cret\n",
        "  cm = metrics.confusion_matrix( actual, predicted, [1,0] )\n",
        "  sn.heatmap(cm, annot=True, fmt='.2f',\n",
        "             xticklabels = ['Bad_credit', 'Good_Credit'],\n",
        "             yticklabels = ['Bad_credit', 'Good_Credit'] )\n",
        "  plt.ylabel(\"True_label\")\n",
        "  plt.xlabel(\"Predicted label\")\n",
        "  plt.show()"
      ],
      "execution_count": null,
      "outputs": []
    },
    {
      "cell_type": "code",
      "metadata": {
        "id": "pYzSmtcDVDyz",
        "colab_type": "code",
        "colab": {
          "base_uri": "https://localhost:8080/",
          "height": 280
        },
        "outputId": "f2edc98f-aadc-4b04-b4b2-a4b91ef1d4b8"
      },
      "source": [
        "draw_cm( y_pred_df.actual,y_pred_df.predicted )"
      ],
      "execution_count": null,
      "outputs": [
        {
          "output_type": "display_data",
          "data": {
            "image/png": "[encoded data removed]",
            "text/plain": [
              "<Figure size 432x288 with 2 Axes>"
            ]
          },
          "metadata": {
            "tags": [],
            "needs_background": "light"
          }
        }
      ]
    },
    {
      "cell_type": "markdown",
      "metadata": {
        "id": "qHysVyCUZYMx",
        "colab_type": "text"
      },
      "source": [
        "Metrics"
      ]
    },
    {
      "cell_type": "code",
      "metadata": {
        "id": "yIGa0-kCWUj6",
        "colab_type": "code",
        "colab": {
          "base_uri": "https://localhost:8080/",
          "height": 182
        },
        "outputId": "158fd31e-0c07-4333-e52c-6edc425e2a2b"
      },
      "source": [
        "print( metrics.classification_report( y_pred_df.actual,y_pred_df.predicted ) )"
      ],
      "execution_count": null,
      "outputs": [
        {
          "output_type": "stream",
          "text": [
            "              precision    recall  f1-score   support\n",
            "\n",
            "           0       0.76      0.90      0.82       209\n",
            "           1       0.59      0.33      0.42        91\n",
            "\n",
            "    accuracy                           0.73       300\n",
            "   macro avg       0.67      0.61      0.62       300\n",
            "weighted avg       0.70      0.73      0.70       300\n",
            "\n"
          ],
          "name": "stdout"
        }
      ]
    },
    {
      "cell_type": "code",
      "metadata": {
        "id": "RjO4I-3bZk2G",
        "colab_type": "code",
        "colab": {
          "base_uri": "https://localhost:8080/",
          "height": 389
        },
        "outputId": "3ad978a7-ef06-4ae1-f15d-c0ddf8d84682"
      },
      "source": [
        "plt.figure( figsize = (8,6) )\n",
        "# Plotting distribution of predicted probability values for bad credits\n",
        "sn.distplot( y_pred_df[y_pred_df.actual == 1]['predicted_prob'], kde=False, color = \"b\", label = 'Bad credit')\n",
        "# Plotting distribution of predicted probability values for good credits\n",
        "sn.distplot( y_pred_df[y_pred_df.actual == 0]['predicted_prob'], kde=False, color = \"g\", label = 'Good Credit')\n",
        "plt.legend()\n",
        "plt.show()"
      ],
      "execution_count": null,
      "outputs": [
        {
          "output_type": "display_data",
          "data": {
            "image/png": "[encoded data removed]",
            "text/plain": [
              "<Figure size 576x432 with 1 Axes>"
            ]
          },
          "metadata": {
            "tags": [],
            "needs_background": "light"
          }
        }
      ]
    },
    {
      "cell_type": "markdown",
      "metadata": {
        "id": "isIqG6Ytb4EU",
        "colab_type": "text"
      },
      "source": [
        "###ROC"
      ]
    },
    {
      "cell_type": "code",
      "metadata": {
        "id": "hoMzR6sfaaSU",
        "colab_type": "code",
        "colab": {}
      },
      "source": [
        "#to understand overall perf of model and used for model selection\n",
        "#ROC curve is a plot between sensitivity (true positive rate) on the vertical axis and 1 – specifcity(false positive rate)\n",
        "#on the horizontal axis\n",
        "\n",
        "\n",
        "\n",
        "def draw_roc( actual, probs ):\n",
        "    fpr,     tpr,     thresholds = metrics.roc_curve( actual,probs,drop_intermediate = False )\n",
        "    auc_score = metrics.roc_auc_score( actual, probs )\n",
        "    plt.figure(figsize=(8, 6))\n",
        "    plt.plot( fpr, tpr, label='ROC curve (area = %0.2f)' % auc_score )\n",
        "    plt.plot([0, 1], [0, 1], 'k--')\n",
        "    plt.xlim([0.0, 1.0])\n",
        "    plt.ylim([0.0, 1.05])\n",
        "    plt.xlabel('False Positive Rate or [1 - True Negative Rate]')\n",
        "    plt.ylabel('True Positive Rate')\n",
        "    plt.legend(loc=\"lower right\")\n",
        "    plt.show()\n",
        "    return fpr, tpr, thresholds"
      ],
      "execution_count": null,
      "outputs": []
    },
    {
      "cell_type": "code",
      "metadata": {
        "id": "paMlTyTLe3hk",
        "colab_type": "code",
        "colab": {
          "base_uri": "https://localhost:8080/",
          "height": 388
        },
        "outputId": "e610452e-cf79-460c-9849-413e3c02463a"
      },
      "source": [
        "fpr, tpr, thresholds = draw_roc( y_pred_df.actual,y_pred_df.predicted_prob)"
      ],
      "execution_count": null,
      "outputs": [
        {
          "output_type": "display_data",
          "data": {
            "image/png": "[encoded data removed]",
            "text/plain": [
              "<Figure size 576x432 with 1 Axes>"
            ]
          },
          "metadata": {
            "tags": [],
            "needs_background": "light"
          }
        }
      ]
    },
    {
      "cell_type": "code",
      "metadata": {
        "id": "StbsYtMme5FH",
        "colab_type": "code",
        "colab": {
          "base_uri": "https://localhost:8080/",
          "height": 35
        },
        "outputId": "71674a0d-a3c8-45b1-a601-01cc5fcf7fce"
      },
      "source": [
        "#Model with higher AUC is preferred and AUC is frequently used for model selection.\n",
        "#thumb rule, AUC of at least 0.7 is required for practical application of the model. AUC greater than 0.9 \n",
        "#implies an outstanding model\n",
        "#Always consider and chcek data imbalance\n",
        "\n",
        "\n",
        "#AUC can also be calculated through\n",
        "auc_score = metrics.roc_auc_score( y_pred_df.actual,y_pred_df.predicted_prob )\n",
        "round( ﬂoat( auc_score ), 2 )"
      ],
      "execution_count": null,
      "outputs": [
        {
          "output_type": "execute_result",
          "data": {
            "text/plain": [
              "0.78"
            ]
          },
          "metadata": {
            "tags": []
          },
          "execution_count": 74
        }
      ]
    },
    {
      "cell_type": "markdown",
      "metadata": {
        "id": "haZFbvwKfiER",
        "colab_type": "text"
      },
      "source": [
        "###Finding Optimal Cutoff"
      ]
    },
    {
      "cell_type": "markdown",
      "metadata": {
        "id": "mo65iQPviZS3",
        "colab_type": "text"
      },
      "source": [
        "####Youden's index"
      ]
    },
    {
      "cell_type": "code",
      "metadata": {
        "id": "YPdE4QtQfeU2",
        "colab_type": "code",
        "colab": {
          "base_uri": "https://localhost:8080/",
          "height": 206
        },
        "outputId": "991ec44a-464f-4091-9294-623e27a0aeee"
      },
      "source": [
        "\n",
        "#gives true positive rate and false positive rate diff and whereever least diff, that threshold vale taken as cutoff value and then make another updated model\n",
        "\n",
        "tpr_fpr = pd.DataFrame( { 'tpr': tpr, \n",
        "                         'fpr': fpr,  \n",
        "                         'thresholds': thresholds } ) \n",
        "tpr_fpr['diff'] = tpr_fpr.tpr - tpr_fpr.fpr \n",
        "tpr_fpr.sort_values( 'diff', ascending = False )[0:5]"
      ],
      "execution_count": null,
      "outputs": [
        {
          "output_type": "execute_result",
          "data": {
            "text/html": [
              "<div>\n",
              "<style scoped>\n",
              "    .dataframe tbody tr th:only-of-type {\n",
              "        vertical-align: middle;\n",
              "    }\n",
              "\n",
              "    .dataframe tbody tr th {\n",
              "        vertical-align: top;\n",
              "    }\n",
              "\n",
              "    .dataframe thead th {\n",
              "        text-align: right;\n",
              "    }\n",
              "</style>\n",
              "<table border=\"1\" class=\"dataframe\">\n",
              "  <thead>\n",
              "    <tr style=\"text-align: right;\">\n",
              "      <th></th>\n",
              "      <th>tpr</th>\n",
              "      <th>fpr</th>\n",
              "      <th>thresholds</th>\n",
              "      <th>diff</th>\n",
              "    </tr>\n",
              "  </thead>\n",
              "  <tbody>\n",
              "    <tr>\n",
              "      <th>160</th>\n",
              "      <td>0.846154</td>\n",
              "      <td>0.397129</td>\n",
              "      <td>0.221534</td>\n",
              "      <td>0.449025</td>\n",
              "    </tr>\n",
              "    <tr>\n",
              "      <th>161</th>\n",
              "      <td>0.846154</td>\n",
              "      <td>0.401914</td>\n",
              "      <td>0.216531</td>\n",
              "      <td>0.444240</td>\n",
              "    </tr>\n",
              "    <tr>\n",
              "      <th>162</th>\n",
              "      <td>0.846154</td>\n",
              "      <td>0.406699</td>\n",
              "      <td>0.215591</td>\n",
              "      <td>0.439455</td>\n",
              "    </tr>\n",
              "    <tr>\n",
              "      <th>159</th>\n",
              "      <td>0.835165</td>\n",
              "      <td>0.397129</td>\n",
              "      <td>0.223980</td>\n",
              "      <td>0.438036</td>\n",
              "    </tr>\n",
              "    <tr>\n",
              "      <th>166</th>\n",
              "      <td>0.857143</td>\n",
              "      <td>0.421053</td>\n",
              "      <td>0.207107</td>\n",
              "      <td>0.436090</td>\n",
              "    </tr>\n",
              "  </tbody>\n",
              "</table>\n",
              "</div>"
            ],
            "text/plain": [
              "          tpr       fpr  thresholds      diff\n",
              "160  0.846154  0.397129    0.221534  0.449025\n",
              "161  0.846154  0.401914    0.216531  0.444240\n",
              "162  0.846154  0.406699    0.215591  0.439455\n",
              "159  0.835165  0.397129    0.223980  0.438036\n",
              "166  0.857143  0.421053    0.207107  0.436090"
            ]
          },
          "metadata": {
            "tags": []
          },
          "execution_count": 75
        }
      ]
    },
    {
      "cell_type": "code",
      "metadata": {
        "id": "BYx2_9HTidTC",
        "colab_type": "code",
        "colab": {}
      },
      "source": [
        "#now new predicted model\n",
        "\n",
        "y_pred_df['predicted_new'] = y_pred_df.predicted_prob.map(\n",
        "    lambda x: 1 if x > 0.22 else 0)"
      ],
      "execution_count": null,
      "outputs": []
    },
    {
      "cell_type": "code",
      "metadata": {
        "id": "tCr_ArVYifzc",
        "colab_type": "code",
        "colab": {
          "base_uri": "https://localhost:8080/",
          "height": 280
        },
        "outputId": "8a81f9f5-2dcf-449a-847b-24d0098293bf"
      },
      "source": [
        "draw_cm( y_pred_df.actual, \n",
        "        y_pred_df.predicted_new)\n",
        "\n"
      ],
      "execution_count": null,
      "outputs": [
        {
          "output_type": "display_data",
          "data": {
            "image/png": "[encoded data removed]",
            "text/plain": [
              "<Figure size 432x288 with 2 Axes>"
            ]
          },
          "metadata": {
            "tags": [],
            "needs_background": "light"
          }
        }
      ]
    },
    {
      "cell_type": "code",
      "metadata": {
        "id": "3ujwAxoDihMX",
        "colab_type": "code",
        "colab": {
          "base_uri": "https://localhost:8080/",
          "height": 182
        },
        "outputId": "e7b76bec-da61-48c9-a56d-029bee57c8ae"
      },
      "source": [
        "print(metrics.classification_report( y_pred_df.actual,\n",
        "                                    y_pred_df.predicted_new ))"
      ],
      "execution_count": null,
      "outputs": [
        {
          "output_type": "stream",
          "text": [
            "              precision    recall  f1-score   support\n",
            "\n",
            "           0       0.90      0.60      0.72       209\n",
            "           1       0.48      0.85      0.61        91\n",
            "\n",
            "    accuracy                           0.68       300\n",
            "   macro avg       0.69      0.72      0.67       300\n",
            "weighted avg       0.77      0.68      0.69       300\n",
            "\n"
          ],
          "name": "stdout"
        }
      ]
    },
    {
      "cell_type": "markdown",
      "metadata": {
        "id": "weDJZ9Soivvm",
        "colab_type": "text"
      },
      "source": [
        "####Cost Based Approach"
      ]
    },
    {
      "cell_type": "code",
      "metadata": {
        "id": "VaAC27yaii3Z",
        "colab_type": "code",
        "colab": {}
      },
      "source": [
        "def get_total_cost( actual, predicted, cost_FPs, cost_FNs ):   \n",
        "    cm = metrics.confusion_matrix( actual, predicted, [1,0] )   \n",
        "    cm_mat = np.array( cm ) \n",
        "    return cm_mat[0,1] * cost_FNs + cm_mat[1,0] * cost_FPs"
      ],
      "execution_count": null,
      "outputs": []
    },
    {
      "cell_type": "code",
      "metadata": {
        "id": "qKQhBcm1i0GZ",
        "colab_type": "code",
        "colab": {}
      },
      "source": [
        "cost_df = pd.DataFrame( columns = ['prob', 'cost'])"
      ],
      "execution_count": null,
      "outputs": []
    },
    {
      "cell_type": "code",
      "metadata": {
        "id": "OqhkNoAbi3ei",
        "colab_type": "code",
        "colab": {}
      },
      "source": [
        "idx = 0 \n",
        "## iterate cut-off probability values between 0.1 and 0.5\n",
        "for each_prob in range( 10, 50):    \n",
        "    cost = get_total_cost( y_pred_df.actual, y_pred_df.predicted_prob.map(  lambda x: 1 if x > (each_prob/100)  else 0), 1, 5 )    \n",
        "    cost_df.loc[idx] = [(each_prob/100), cost]    \n",
        "    idx += 1"
      ],
      "execution_count": null,
      "outputs": []
    },
    {
      "cell_type": "code",
      "metadata": {
        "id": "KwlJzNJ7i5De",
        "colab_type": "code",
        "colab": {
          "base_uri": "https://localhost:8080/",
          "height": 206
        },
        "outputId": "199ac739-d067-4de5-8c97-1e05977370bd"
      },
      "source": [
        "cost_df.sort_values( 'cost', ascending = True )[0:5]"
      ],
      "execution_count": null,
      "outputs": [
        {
          "output_type": "execute_result",
          "data": {
            "text/html": [
              "<div>\n",
              "<style scoped>\n",
              "    .dataframe tbody tr th:only-of-type {\n",
              "        vertical-align: middle;\n",
              "    }\n",
              "\n",
              "    .dataframe tbody tr th {\n",
              "        vertical-align: top;\n",
              "    }\n",
              "\n",
              "    .dataframe thead th {\n",
              "        text-align: right;\n",
              "    }\n",
              "</style>\n",
              "<table border=\"1\" class=\"dataframe\">\n",
              "  <thead>\n",
              "    <tr style=\"text-align: right;\">\n",
              "      <th></th>\n",
              "      <th>prob</th>\n",
              "      <th>cost</th>\n",
              "    </tr>\n",
              "  </thead>\n",
              "  <tbody>\n",
              "    <tr>\n",
              "      <th>4</th>\n",
              "      <td>0.14</td>\n",
              "      <td>150.0</td>\n",
              "    </tr>\n",
              "    <tr>\n",
              "      <th>12</th>\n",
              "      <td>0.22</td>\n",
              "      <td>153.0</td>\n",
              "    </tr>\n",
              "    <tr>\n",
              "      <th>2</th>\n",
              "      <td>0.12</td>\n",
              "      <td>154.0</td>\n",
              "    </tr>\n",
              "    <tr>\n",
              "      <th>10</th>\n",
              "      <td>0.20</td>\n",
              "      <td>154.0</td>\n",
              "    </tr>\n",
              "    <tr>\n",
              "      <th>9</th>\n",
              "      <td>0.19</td>\n",
              "      <td>156.0</td>\n",
              "    </tr>\n",
              "  </tbody>\n",
              "</table>\n",
              "</div>"
            ],
            "text/plain": [
              "    prob   cost\n",
              "4   0.14  150.0\n",
              "12  0.22  153.0\n",
              "2   0.12  154.0\n",
              "10  0.20  154.0\n",
              "9   0.19  156.0"
            ]
          },
          "metadata": {
            "tags": []
          },
          "execution_count": 83
        }
      ]
    },
    {
      "cell_type": "code",
      "metadata": {
        "id": "a11MH0J3i6rw",
        "colab_type": "code",
        "colab": {}
      },
      "source": [
        "#now here considering the cost, cutoff prob is .14\n",
        "\n",
        "y_pred_df['predicted_using_cost'] = y_pred_df.predicted_prob.map( \n",
        "    lambda x: 1 if x > 0.14 else 0)"
      ],
      "execution_count": null,
      "outputs": []
    },
    {
      "cell_type": "code",
      "metadata": {
        "id": "-tUVysLSi8NY",
        "colab_type": "code",
        "colab": {
          "base_uri": "https://localhost:8080/",
          "height": 284
        },
        "outputId": "28385c69-07dc-45b4-f95f-7e4996718c74"
      },
      "source": [
        "draw_cm( y_pred_df.actual, \n",
        "        y_pred_df.predicted_using_cost )"
      ],
      "execution_count": null,
      "outputs": [
        {
          "output_type": "display_data",
          "data": {
            "image/png": "[encoded data removed]",
            "text/plain": [
              "<Figure size 432x288 with 2 Axes>"
            ]
          },
          "metadata": {
            "tags": [],
            "needs_background": "light"
          }
        }
      ]
    },
    {
      "cell_type": "code",
      "metadata": {
        "id": "-rml4nDji9gf",
        "colab_type": "code",
        "colab": {}
      },
      "source": [
        ""
      ],
      "execution_count": null,
      "outputs": []
    }
  ]
}